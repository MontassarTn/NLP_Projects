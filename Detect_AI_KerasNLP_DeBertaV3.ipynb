{
  "nbformat": 4,
  "nbformat_minor": 0,
  "metadata": {
    "colab": {
      "provenance": [],
      "gpuType": "A100"
    },
    "kernelspec": {
      "name": "python3",
      "display_name": "Python 3"
    },
    "language_info": {
      "name": "python"
    },
    "accelerator": "GPU",
    "widgets": {
      "application/vnd.jupyter.widget-state+json": {
        "5881caebe31b432ea9a6b6e83a4158eb": {
          "model_module": "@jupyter-widgets/controls",
          "model_name": "VBoxModel",
          "model_module_version": "1.5.0",
          "state": {
            "_dom_classes": [],
            "_model_module": "@jupyter-widgets/controls",
            "_model_module_version": "1.5.0",
            "_model_name": "VBoxModel",
            "_view_count": null,
            "_view_module": "@jupyter-widgets/controls",
            "_view_module_version": "1.5.0",
            "_view_name": "VBoxView",
            "box_style": "",
            "children": [
              "IPY_MODEL_97534af4b36c4d3cb885a80d98ba1224",
              "IPY_MODEL_abdad59429804d688290043856112262"
            ],
            "layout": "IPY_MODEL_2bf350df9b9946febe67bb326f15ba5f"
          }
        },
        "97534af4b36c4d3cb885a80d98ba1224": {
          "model_module": "@jupyter-widgets/controls",
          "model_name": "LabelModel",
          "model_module_version": "1.5.0",
          "state": {
            "_dom_classes": [],
            "_model_module": "@jupyter-widgets/controls",
            "_model_module_version": "1.5.0",
            "_model_name": "LabelModel",
            "_view_count": null,
            "_view_module": "@jupyter-widgets/controls",
            "_view_module_version": "1.5.0",
            "_view_name": "LabelView",
            "description": "",
            "description_tooltip": null,
            "layout": "IPY_MODEL_7a359288466d40c0adb969aadcc96fa0",
            "placeholder": "​",
            "style": "IPY_MODEL_1d6849430e15441bbca1ef61988e5361",
            "value": "0.330 MB of 0.330 MB uploaded\r"
          }
        },
        "abdad59429804d688290043856112262": {
          "model_module": "@jupyter-widgets/controls",
          "model_name": "FloatProgressModel",
          "model_module_version": "1.5.0",
          "state": {
            "_dom_classes": [],
            "_model_module": "@jupyter-widgets/controls",
            "_model_module_version": "1.5.0",
            "_model_name": "FloatProgressModel",
            "_view_count": null,
            "_view_module": "@jupyter-widgets/controls",
            "_view_module_version": "1.5.0",
            "_view_name": "ProgressView",
            "bar_style": "",
            "description": "",
            "description_tooltip": null,
            "layout": "IPY_MODEL_da3d72e2bdaa4bd5b954009b767baf55",
            "max": 1,
            "min": 0,
            "orientation": "horizontal",
            "style": "IPY_MODEL_3ce10c622d6d411ea11e76e1a9efcc87",
            "value": 1
          }
        },
        "2bf350df9b9946febe67bb326f15ba5f": {
          "model_module": "@jupyter-widgets/base",
          "model_name": "LayoutModel",
          "model_module_version": "1.2.0",
          "state": {
            "_model_module": "@jupyter-widgets/base",
            "_model_module_version": "1.2.0",
            "_model_name": "LayoutModel",
            "_view_count": null,
            "_view_module": "@jupyter-widgets/base",
            "_view_module_version": "1.2.0",
            "_view_name": "LayoutView",
            "align_content": null,
            "align_items": null,
            "align_self": null,
            "border": null,
            "bottom": null,
            "display": null,
            "flex": null,
            "flex_flow": null,
            "grid_area": null,
            "grid_auto_columns": null,
            "grid_auto_flow": null,
            "grid_auto_rows": null,
            "grid_column": null,
            "grid_gap": null,
            "grid_row": null,
            "grid_template_areas": null,
            "grid_template_columns": null,
            "grid_template_rows": null,
            "height": null,
            "justify_content": null,
            "justify_items": null,
            "left": null,
            "margin": null,
            "max_height": null,
            "max_width": null,
            "min_height": null,
            "min_width": null,
            "object_fit": null,
            "object_position": null,
            "order": null,
            "overflow": null,
            "overflow_x": null,
            "overflow_y": null,
            "padding": null,
            "right": null,
            "top": null,
            "visibility": null,
            "width": null
          }
        },
        "7a359288466d40c0adb969aadcc96fa0": {
          "model_module": "@jupyter-widgets/base",
          "model_name": "LayoutModel",
          "model_module_version": "1.2.0",
          "state": {
            "_model_module": "@jupyter-widgets/base",
            "_model_module_version": "1.2.0",
            "_model_name": "LayoutModel",
            "_view_count": null,
            "_view_module": "@jupyter-widgets/base",
            "_view_module_version": "1.2.0",
            "_view_name": "LayoutView",
            "align_content": null,
            "align_items": null,
            "align_self": null,
            "border": null,
            "bottom": null,
            "display": null,
            "flex": null,
            "flex_flow": null,
            "grid_area": null,
            "grid_auto_columns": null,
            "grid_auto_flow": null,
            "grid_auto_rows": null,
            "grid_column": null,
            "grid_gap": null,
            "grid_row": null,
            "grid_template_areas": null,
            "grid_template_columns": null,
            "grid_template_rows": null,
            "height": null,
            "justify_content": null,
            "justify_items": null,
            "left": null,
            "margin": null,
            "max_height": null,
            "max_width": null,
            "min_height": null,
            "min_width": null,
            "object_fit": null,
            "object_position": null,
            "order": null,
            "overflow": null,
            "overflow_x": null,
            "overflow_y": null,
            "padding": null,
            "right": null,
            "top": null,
            "visibility": null,
            "width": null
          }
        },
        "1d6849430e15441bbca1ef61988e5361": {
          "model_module": "@jupyter-widgets/controls",
          "model_name": "DescriptionStyleModel",
          "model_module_version": "1.5.0",
          "state": {
            "_model_module": "@jupyter-widgets/controls",
            "_model_module_version": "1.5.0",
            "_model_name": "DescriptionStyleModel",
            "_view_count": null,
            "_view_module": "@jupyter-widgets/base",
            "_view_module_version": "1.2.0",
            "_view_name": "StyleView",
            "description_width": ""
          }
        },
        "da3d72e2bdaa4bd5b954009b767baf55": {
          "model_module": "@jupyter-widgets/base",
          "model_name": "LayoutModel",
          "model_module_version": "1.2.0",
          "state": {
            "_model_module": "@jupyter-widgets/base",
            "_model_module_version": "1.2.0",
            "_model_name": "LayoutModel",
            "_view_count": null,
            "_view_module": "@jupyter-widgets/base",
            "_view_module_version": "1.2.0",
            "_view_name": "LayoutView",
            "align_content": null,
            "align_items": null,
            "align_self": null,
            "border": null,
            "bottom": null,
            "display": null,
            "flex": null,
            "flex_flow": null,
            "grid_area": null,
            "grid_auto_columns": null,
            "grid_auto_flow": null,
            "grid_auto_rows": null,
            "grid_column": null,
            "grid_gap": null,
            "grid_row": null,
            "grid_template_areas": null,
            "grid_template_columns": null,
            "grid_template_rows": null,
            "height": null,
            "justify_content": null,
            "justify_items": null,
            "left": null,
            "margin": null,
            "max_height": null,
            "max_width": null,
            "min_height": null,
            "min_width": null,
            "object_fit": null,
            "object_position": null,
            "order": null,
            "overflow": null,
            "overflow_x": null,
            "overflow_y": null,
            "padding": null,
            "right": null,
            "top": null,
            "visibility": null,
            "width": null
          }
        },
        "3ce10c622d6d411ea11e76e1a9efcc87": {
          "model_module": "@jupyter-widgets/controls",
          "model_name": "ProgressStyleModel",
          "model_module_version": "1.5.0",
          "state": {
            "_model_module": "@jupyter-widgets/controls",
            "_model_module_version": "1.5.0",
            "_model_name": "ProgressStyleModel",
            "_view_count": null,
            "_view_module": "@jupyter-widgets/base",
            "_view_module_version": "1.2.0",
            "_view_name": "StyleView",
            "bar_color": null,
            "description_width": ""
          }
        },
        "90bb5f0655a74b04ad246af513a1f2ff": {
          "model_module": "@jupyter-widgets/controls",
          "model_name": "VBoxModel",
          "model_module_version": "1.5.0",
          "state": {
            "_dom_classes": [],
            "_model_module": "@jupyter-widgets/controls",
            "_model_module_version": "1.5.0",
            "_model_name": "VBoxModel",
            "_view_count": null,
            "_view_module": "@jupyter-widgets/controls",
            "_view_module_version": "1.5.0",
            "_view_name": "VBoxView",
            "box_style": "",
            "children": [
              "IPY_MODEL_5324d328bb8f4a478acf1b18ef654432",
              "IPY_MODEL_514e0d6c3c2540dc88bcd438bfeb50d2"
            ],
            "layout": "IPY_MODEL_d8756ca2bb4d43ef90bacc50ae3d4679"
          }
        },
        "5324d328bb8f4a478acf1b18ef654432": {
          "model_module": "@jupyter-widgets/controls",
          "model_name": "LabelModel",
          "model_module_version": "1.5.0",
          "state": {
            "_dom_classes": [],
            "_model_module": "@jupyter-widgets/controls",
            "_model_module_version": "1.5.0",
            "_model_name": "LabelModel",
            "_view_count": null,
            "_view_module": "@jupyter-widgets/controls",
            "_view_module_version": "1.5.0",
            "_view_name": "LabelView",
            "description": "",
            "description_tooltip": null,
            "layout": "IPY_MODEL_4185bb11e5054fa9bbe3547d6b332a42",
            "placeholder": "​",
            "style": "IPY_MODEL_fbb3081e50fe402b9288d7ca99f8fcb1",
            "value": "0.344 MB of 0.344 MB uploaded (0.009 MB deduped)\r"
          }
        },
        "514e0d6c3c2540dc88bcd438bfeb50d2": {
          "model_module": "@jupyter-widgets/controls",
          "model_name": "FloatProgressModel",
          "model_module_version": "1.5.0",
          "state": {
            "_dom_classes": [],
            "_model_module": "@jupyter-widgets/controls",
            "_model_module_version": "1.5.0",
            "_model_name": "FloatProgressModel",
            "_view_count": null,
            "_view_module": "@jupyter-widgets/controls",
            "_view_module_version": "1.5.0",
            "_view_name": "ProgressView",
            "bar_style": "",
            "description": "",
            "description_tooltip": null,
            "layout": "IPY_MODEL_f8f9f1671002400bb513c3bff6c146e0",
            "max": 1,
            "min": 0,
            "orientation": "horizontal",
            "style": "IPY_MODEL_1f62ab8c968a4f3e9f24107f5ee7079d",
            "value": 1
          }
        },
        "d8756ca2bb4d43ef90bacc50ae3d4679": {
          "model_module": "@jupyter-widgets/base",
          "model_name": "LayoutModel",
          "model_module_version": "1.2.0",
          "state": {
            "_model_module": "@jupyter-widgets/base",
            "_model_module_version": "1.2.0",
            "_model_name": "LayoutModel",
            "_view_count": null,
            "_view_module": "@jupyter-widgets/base",
            "_view_module_version": "1.2.0",
            "_view_name": "LayoutView",
            "align_content": null,
            "align_items": null,
            "align_self": null,
            "border": null,
            "bottom": null,
            "display": null,
            "flex": null,
            "flex_flow": null,
            "grid_area": null,
            "grid_auto_columns": null,
            "grid_auto_flow": null,
            "grid_auto_rows": null,
            "grid_column": null,
            "grid_gap": null,
            "grid_row": null,
            "grid_template_areas": null,
            "grid_template_columns": null,
            "grid_template_rows": null,
            "height": null,
            "justify_content": null,
            "justify_items": null,
            "left": null,
            "margin": null,
            "max_height": null,
            "max_width": null,
            "min_height": null,
            "min_width": null,
            "object_fit": null,
            "object_position": null,
            "order": null,
            "overflow": null,
            "overflow_x": null,
            "overflow_y": null,
            "padding": null,
            "right": null,
            "top": null,
            "visibility": null,
            "width": null
          }
        },
        "4185bb11e5054fa9bbe3547d6b332a42": {
          "model_module": "@jupyter-widgets/base",
          "model_name": "LayoutModel",
          "model_module_version": "1.2.0",
          "state": {
            "_model_module": "@jupyter-widgets/base",
            "_model_module_version": "1.2.0",
            "_model_name": "LayoutModel",
            "_view_count": null,
            "_view_module": "@jupyter-widgets/base",
            "_view_module_version": "1.2.0",
            "_view_name": "LayoutView",
            "align_content": null,
            "align_items": null,
            "align_self": null,
            "border": null,
            "bottom": null,
            "display": null,
            "flex": null,
            "flex_flow": null,
            "grid_area": null,
            "grid_auto_columns": null,
            "grid_auto_flow": null,
            "grid_auto_rows": null,
            "grid_column": null,
            "grid_gap": null,
            "grid_row": null,
            "grid_template_areas": null,
            "grid_template_columns": null,
            "grid_template_rows": null,
            "height": null,
            "justify_content": null,
            "justify_items": null,
            "left": null,
            "margin": null,
            "max_height": null,
            "max_width": null,
            "min_height": null,
            "min_width": null,
            "object_fit": null,
            "object_position": null,
            "order": null,
            "overflow": null,
            "overflow_x": null,
            "overflow_y": null,
            "padding": null,
            "right": null,
            "top": null,
            "visibility": null,
            "width": null
          }
        },
        "fbb3081e50fe402b9288d7ca99f8fcb1": {
          "model_module": "@jupyter-widgets/controls",
          "model_name": "DescriptionStyleModel",
          "model_module_version": "1.5.0",
          "state": {
            "_model_module": "@jupyter-widgets/controls",
            "_model_module_version": "1.5.0",
            "_model_name": "DescriptionStyleModel",
            "_view_count": null,
            "_view_module": "@jupyter-widgets/base",
            "_view_module_version": "1.2.0",
            "_view_name": "StyleView",
            "description_width": ""
          }
        },
        "f8f9f1671002400bb513c3bff6c146e0": {
          "model_module": "@jupyter-widgets/base",
          "model_name": "LayoutModel",
          "model_module_version": "1.2.0",
          "state": {
            "_model_module": "@jupyter-widgets/base",
            "_model_module_version": "1.2.0",
            "_model_name": "LayoutModel",
            "_view_count": null,
            "_view_module": "@jupyter-widgets/base",
            "_view_module_version": "1.2.0",
            "_view_name": "LayoutView",
            "align_content": null,
            "align_items": null,
            "align_self": null,
            "border": null,
            "bottom": null,
            "display": null,
            "flex": null,
            "flex_flow": null,
            "grid_area": null,
            "grid_auto_columns": null,
            "grid_auto_flow": null,
            "grid_auto_rows": null,
            "grid_column": null,
            "grid_gap": null,
            "grid_row": null,
            "grid_template_areas": null,
            "grid_template_columns": null,
            "grid_template_rows": null,
            "height": null,
            "justify_content": null,
            "justify_items": null,
            "left": null,
            "margin": null,
            "max_height": null,
            "max_width": null,
            "min_height": null,
            "min_width": null,
            "object_fit": null,
            "object_position": null,
            "order": null,
            "overflow": null,
            "overflow_x": null,
            "overflow_y": null,
            "padding": null,
            "right": null,
            "top": null,
            "visibility": null,
            "width": null
          }
        },
        "1f62ab8c968a4f3e9f24107f5ee7079d": {
          "model_module": "@jupyter-widgets/controls",
          "model_name": "ProgressStyleModel",
          "model_module_version": "1.5.0",
          "state": {
            "_model_module": "@jupyter-widgets/controls",
            "_model_module_version": "1.5.0",
            "_model_name": "ProgressStyleModel",
            "_view_count": null,
            "_view_module": "@jupyter-widgets/base",
            "_view_module_version": "1.2.0",
            "_view_name": "StyleView",
            "bar_color": null,
            "description_width": ""
          }
        }
      }
    }
  },
  "cells": [
    {
      "cell_type": "markdown",
      "source": [
        "# **Fine-tuning DeBERTaV3 to Differentiate Between AI-Generated and Human-Written Text 🧠🤖**\n",
        "\n",
        "In this notebook, we will fine-tune the DeBERTaV3 model to distinguish between AI-generated text and text written by a person. Using datasets from Kaggle, we will train the model and then perform inference using KerasNLP. 📊📚\n",
        "\n",
        "\n",
        "\n",
        "\n",
        "1.   **Data Split**:\n",
        "      Divide the existing Train data into folds using stratification of label column, Label column got 2 values: 0 Human text, 1 Ai text.\n",
        "\n",
        "\n",
        "2.   **Preprocessing**:\n",
        "      The preprocessor takes input strings and transforms them into a dictionary (token_ids, padding_mask) containing preprocessed tensors. This process starts with tokenization, where input strings are converted into sequences of token IDs.\n",
        "\n",
        "*   [Preprocessing Layers\n",
        "](https://keras.io/api/keras_nlp/preprocessing_layers/)\n",
        "*   [KerasNLP Tokenizers\n",
        "](https://keras.io/api/keras_nlp/tokenizers/)\n",
        "\n",
        "\n",
        "3.   **DataLoader**:\n",
        "The tf.data API allows us to build complex input pipelines for training and validation datasets. These pipelines will then be fed into the corresponding model folds.\n",
        "\n",
        "*   [Build TensorFlow input pipelines ](https://www.tensorflow.org/guide/data)\n",
        "\n",
        "\n",
        "3.   **Learning rate scheduler**:\n",
        "  Implementing a learning rate scheduler with a Callbacks,The learning rate initiates at lr_start and gradually tapers down to lr_min using various techniques, including:\n",
        "\n",
        "\n",
        "*   step : Lowering the learning rate in step-wise manner resembling stairs.\n",
        "*   cos: Utilizing a cosine curve to gradually reduce the learning rate.\n",
        "*   exp: Exponentially decreasing the learning rate.\n",
        "\n",
        "\n",
        "4.   **Modeling**:\n",
        "  We will employ a Keras Classifier equipped with softmax activation. Use DebertaV3 as model.\n",
        "\n",
        "\n",
        "*   [KerasNLP Models\n",
        "](https://keras.io/api/keras_nlp/models/)\n",
        "*   [Getting Started with KerasNLP](https://keras.io/guides/keras_nlp/getting_started/)\n",
        "\n",
        "\n",
        "5.   **Training**:\n",
        "Training the model with a total of 3 epochs to refine its performance and optimize its parameters.\n",
        "\n",
        "6.   **Inference**:\n",
        " Inference using the trained model to determine whether the text provided originates from an AI or a human\n",
        "\n",
        "\n",
        "\n",
        "\n",
        "\n",
        "\n",
        "\n",
        "\n",
        "\n"
      ],
      "metadata": {
        "id": "YojXqr_zMRE2"
      }
    },
    {
      "cell_type": "markdown",
      "source": [
        "### Dataset from Kaggle"
      ],
      "metadata": {
        "id": "P9kgzhi7azED"
      }
    },
    {
      "cell_type": "code",
      "source": [
        "!pip install -q kaggle"
      ],
      "metadata": {
        "id": "wKwVVcY1Vi-V"
      },
      "execution_count": 1,
      "outputs": []
    },
    {
      "cell_type": "code",
      "source": [
        "!mkdir ~/.kaggle"
      ],
      "metadata": {
        "id": "AMFgb2iZX22e"
      },
      "execution_count": 2,
      "outputs": []
    },
    {
      "cell_type": "code",
      "source": [
        "!cp kaggle.json ~/.kaggle/\n",
        "!chmod 600 ~/.kaggle/kaggle.json"
      ],
      "metadata": {
        "id": "-wFqQoOPVlRj"
      },
      "execution_count": 18,
      "outputs": []
    },
    {
      "cell_type": "code",
      "source": [
        "!kaggle competitions download -c llm-detect-ai-generated-text"
      ],
      "metadata": {
        "colab": {
          "base_uri": "https://localhost:8080/"
        },
        "id": "1vDQ_Ot4V6Br",
        "outputId": "441da14b-d357-4dbb-af28-90c642fa5028"
      },
      "execution_count": 19,
      "outputs": [
        {
          "output_type": "stream",
          "name": "stdout",
          "text": [
            "Downloading llm-detect-ai-generated-text.zip to /content\n",
            " 72% 1.00M/1.38M [00:00<00:00, 1.10MB/s]\n",
            "100% 1.38M/1.38M [00:01<00:00, 1.41MB/s]\n"
          ]
        }
      ]
    },
    {
      "cell_type": "code",
      "source": [
        "!unzip -q llm-detect-ai-generated-text.zip"
      ],
      "metadata": {
        "id": "DMKhmNFvabW5"
      },
      "execution_count": 20,
      "outputs": []
    },
    {
      "cell_type": "code",
      "source": [
        "#DAIGT Proper Train Dataset\n",
        "!kaggle datasets download -d thedrcat/daigt-proper-train-dataset\n",
        "#ArguGPT\n",
        "!kaggle datasets download -d alejopaullier/argugpt"
      ],
      "metadata": {
        "colab": {
          "base_uri": "https://localhost:8080/"
        },
        "id": "fyP4951xnnv-",
        "outputId": "73af28a9-bf0e-4eb7-97ab-ab932902124c"
      },
      "execution_count": 6,
      "outputs": [
        {
          "output_type": "stream",
          "name": "stdout",
          "text": [
            "Dataset URL: https://www.kaggle.com/datasets/thedrcat/daigt-proper-train-dataset\n",
            "License(s): MIT\n",
            "Downloading daigt-proper-train-dataset.zip to /content\n",
            " 99% 118M/119M [00:07<00:00, 21.6MB/s]\n",
            "100% 119M/119M [00:07<00:00, 17.4MB/s]\n",
            "Dataset URL: https://www.kaggle.com/datasets/alejopaullier/argugpt\n",
            "License(s): unknown\n",
            "Downloading argugpt.zip to /content\n",
            "100% 3.26M/3.26M [00:01<00:00, 3.88MB/s]\n",
            "100% 3.26M/3.26M [00:01<00:00, 2.90MB/s]\n"
          ]
        }
      ]
    },
    {
      "cell_type": "code",
      "source": [
        "!unzip -q argugpt.zip\n",
        "!unzip -q daigt-proper-train-dataset.zip"
      ],
      "metadata": {
        "id": "ymZ_5q36pblh"
      },
      "execution_count": 7,
      "outputs": []
    },
    {
      "cell_type": "markdown",
      "source": [
        "### Libraries"
      ],
      "metadata": {
        "id": "CCGLtHNKa66V"
      }
    },
    {
      "cell_type": "code",
      "source": [
        "!pip install tensorflow==2.15.1\n",
        "!pip install tensorflow-text==2.15.0"
      ],
      "metadata": {
        "colab": {
          "base_uri": "https://localhost:8080/"
        },
        "collapsed": true,
        "id": "OLMdw_AI-PH6",
        "outputId": "757ec7a5-7cd4-4dbe-86e5-33b99c34be87"
      },
      "execution_count": 8,
      "outputs": [
        {
          "output_type": "stream",
          "name": "stdout",
          "text": [
            "Collecting tensorflow==2.15.1\n",
            "  Downloading tensorflow-2.15.1-cp310-cp310-manylinux_2_17_x86_64.manylinux2014_x86_64.whl (475.2 MB)\n",
            "\u001b[2K     \u001b[90m━━━━━━━━━━━━━━━━━━━━━━━━━━━━━━━━━━━━━━━━\u001b[0m \u001b[32m475.2/475.2 MB\u001b[0m \u001b[31m2.2 MB/s\u001b[0m eta \u001b[36m0:00:00\u001b[0m\n",
            "\u001b[?25hRequirement already satisfied: absl-py>=1.0.0 in /usr/local/lib/python3.10/dist-packages (from tensorflow==2.15.1) (1.4.0)\n",
            "Requirement already satisfied: astunparse>=1.6.0 in /usr/local/lib/python3.10/dist-packages (from tensorflow==2.15.1) (1.6.3)\n",
            "Requirement already satisfied: flatbuffers>=23.5.26 in /usr/local/lib/python3.10/dist-packages (from tensorflow==2.15.1) (24.3.25)\n",
            "Requirement already satisfied: gast!=0.5.0,!=0.5.1,!=0.5.2,>=0.2.1 in /usr/local/lib/python3.10/dist-packages (from tensorflow==2.15.1) (0.5.4)\n",
            "Requirement already satisfied: google-pasta>=0.1.1 in /usr/local/lib/python3.10/dist-packages (from tensorflow==2.15.1) (0.2.0)\n",
            "Requirement already satisfied: h5py>=2.9.0 in /usr/local/lib/python3.10/dist-packages (from tensorflow==2.15.1) (3.9.0)\n",
            "Requirement already satisfied: libclang>=13.0.0 in /usr/local/lib/python3.10/dist-packages (from tensorflow==2.15.1) (18.1.1)\n",
            "Collecting ml-dtypes~=0.3.1 (from tensorflow==2.15.1)\n",
            "  Downloading ml_dtypes-0.3.2-cp310-cp310-manylinux_2_17_x86_64.manylinux2014_x86_64.whl (2.2 MB)\n",
            "\u001b[2K     \u001b[90m━━━━━━━━━━━━━━━━━━━━━━━━━━━━━━━━━━━━━━━━\u001b[0m \u001b[32m2.2/2.2 MB\u001b[0m \u001b[31m95.0 MB/s\u001b[0m eta \u001b[36m0:00:00\u001b[0m\n",
            "\u001b[?25hRequirement already satisfied: numpy<2.0.0,>=1.23.5 in /usr/local/lib/python3.10/dist-packages (from tensorflow==2.15.1) (1.25.2)\n",
            "Requirement already satisfied: opt-einsum>=2.3.2 in /usr/local/lib/python3.10/dist-packages (from tensorflow==2.15.1) (3.3.0)\n",
            "Requirement already satisfied: packaging in /usr/local/lib/python3.10/dist-packages (from tensorflow==2.15.1) (24.0)\n",
            "Requirement already satisfied: protobuf!=4.21.0,!=4.21.1,!=4.21.2,!=4.21.3,!=4.21.4,!=4.21.5,<5.0.0dev,>=3.20.3 in /usr/local/lib/python3.10/dist-packages (from tensorflow==2.15.1) (3.20.3)\n",
            "Requirement already satisfied: setuptools in /usr/local/lib/python3.10/dist-packages (from tensorflow==2.15.1) (67.7.2)\n",
            "Requirement already satisfied: six>=1.12.0 in /usr/local/lib/python3.10/dist-packages (from tensorflow==2.15.1) (1.16.0)\n",
            "Requirement already satisfied: termcolor>=1.1.0 in /usr/local/lib/python3.10/dist-packages (from tensorflow==2.15.1) (2.4.0)\n",
            "Requirement already satisfied: typing-extensions>=3.6.6 in /usr/local/lib/python3.10/dist-packages (from tensorflow==2.15.1) (4.12.0)\n",
            "Requirement already satisfied: wrapt<1.15,>=1.11.0 in /usr/local/lib/python3.10/dist-packages (from tensorflow==2.15.1) (1.14.1)\n",
            "Requirement already satisfied: tensorflow-io-gcs-filesystem>=0.23.1 in /usr/local/lib/python3.10/dist-packages (from tensorflow==2.15.1) (0.37.0)\n",
            "Requirement already satisfied: grpcio<2.0,>=1.24.3 in /usr/local/lib/python3.10/dist-packages (from tensorflow==2.15.1) (1.64.0)\n",
            "Requirement already satisfied: tensorboard<2.16,>=2.15 in /usr/local/lib/python3.10/dist-packages (from tensorflow==2.15.1) (2.15.2)\n",
            "Requirement already satisfied: tensorflow-estimator<2.16,>=2.15.0 in /usr/local/lib/python3.10/dist-packages (from tensorflow==2.15.1) (2.15.0)\n",
            "Requirement already satisfied: keras<2.16,>=2.15.0 in /usr/local/lib/python3.10/dist-packages (from tensorflow==2.15.1) (2.15.0)\n",
            "Requirement already satisfied: wheel<1.0,>=0.23.0 in /usr/local/lib/python3.10/dist-packages (from astunparse>=1.6.0->tensorflow==2.15.1) (0.43.0)\n",
            "Requirement already satisfied: google-auth<3,>=1.6.3 in /usr/local/lib/python3.10/dist-packages (from tensorboard<2.16,>=2.15->tensorflow==2.15.1) (2.27.0)\n",
            "Requirement already satisfied: google-auth-oauthlib<2,>=0.5 in /usr/local/lib/python3.10/dist-packages (from tensorboard<2.16,>=2.15->tensorflow==2.15.1) (1.2.0)\n",
            "Requirement already satisfied: markdown>=2.6.8 in /usr/local/lib/python3.10/dist-packages (from tensorboard<2.16,>=2.15->tensorflow==2.15.1) (3.6)\n",
            "Requirement already satisfied: requests<3,>=2.21.0 in /usr/local/lib/python3.10/dist-packages (from tensorboard<2.16,>=2.15->tensorflow==2.15.1) (2.31.0)\n",
            "Requirement already satisfied: tensorboard-data-server<0.8.0,>=0.7.0 in /usr/local/lib/python3.10/dist-packages (from tensorboard<2.16,>=2.15->tensorflow==2.15.1) (0.7.2)\n",
            "Requirement already satisfied: werkzeug>=1.0.1 in /usr/local/lib/python3.10/dist-packages (from tensorboard<2.16,>=2.15->tensorflow==2.15.1) (3.0.3)\n",
            "Requirement already satisfied: cachetools<6.0,>=2.0.0 in /usr/local/lib/python3.10/dist-packages (from google-auth<3,>=1.6.3->tensorboard<2.16,>=2.15->tensorflow==2.15.1) (5.3.3)\n",
            "Requirement already satisfied: pyasn1-modules>=0.2.1 in /usr/local/lib/python3.10/dist-packages (from google-auth<3,>=1.6.3->tensorboard<2.16,>=2.15->tensorflow==2.15.1) (0.4.0)\n",
            "Requirement already satisfied: rsa<5,>=3.1.4 in /usr/local/lib/python3.10/dist-packages (from google-auth<3,>=1.6.3->tensorboard<2.16,>=2.15->tensorflow==2.15.1) (4.9)\n",
            "Requirement already satisfied: requests-oauthlib>=0.7.0 in /usr/local/lib/python3.10/dist-packages (from google-auth-oauthlib<2,>=0.5->tensorboard<2.16,>=2.15->tensorflow==2.15.1) (1.3.1)\n",
            "Requirement already satisfied: charset-normalizer<4,>=2 in /usr/local/lib/python3.10/dist-packages (from requests<3,>=2.21.0->tensorboard<2.16,>=2.15->tensorflow==2.15.1) (3.3.2)\n",
            "Requirement already satisfied: idna<4,>=2.5 in /usr/local/lib/python3.10/dist-packages (from requests<3,>=2.21.0->tensorboard<2.16,>=2.15->tensorflow==2.15.1) (3.7)\n",
            "Requirement already satisfied: urllib3<3,>=1.21.1 in /usr/local/lib/python3.10/dist-packages (from requests<3,>=2.21.0->tensorboard<2.16,>=2.15->tensorflow==2.15.1) (2.0.7)\n",
            "Requirement already satisfied: certifi>=2017.4.17 in /usr/local/lib/python3.10/dist-packages (from requests<3,>=2.21.0->tensorboard<2.16,>=2.15->tensorflow==2.15.1) (2024.2.2)\n",
            "Requirement already satisfied: MarkupSafe>=2.1.1 in /usr/local/lib/python3.10/dist-packages (from werkzeug>=1.0.1->tensorboard<2.16,>=2.15->tensorflow==2.15.1) (2.1.5)\n",
            "Requirement already satisfied: pyasn1<0.7.0,>=0.4.6 in /usr/local/lib/python3.10/dist-packages (from pyasn1-modules>=0.2.1->google-auth<3,>=1.6.3->tensorboard<2.16,>=2.15->tensorflow==2.15.1) (0.6.0)\n",
            "Requirement already satisfied: oauthlib>=3.0.0 in /usr/local/lib/python3.10/dist-packages (from requests-oauthlib>=0.7.0->google-auth-oauthlib<2,>=0.5->tensorboard<2.16,>=2.15->tensorflow==2.15.1) (3.2.2)\n",
            "Installing collected packages: ml-dtypes, tensorflow\n",
            "  Attempting uninstall: ml-dtypes\n",
            "    Found existing installation: ml-dtypes 0.2.0\n",
            "    Uninstalling ml-dtypes-0.2.0:\n",
            "      Successfully uninstalled ml-dtypes-0.2.0\n",
            "  Attempting uninstall: tensorflow\n",
            "    Found existing installation: tensorflow 2.15.0\n",
            "    Uninstalling tensorflow-2.15.0:\n",
            "      Successfully uninstalled tensorflow-2.15.0\n",
            "Successfully installed ml-dtypes-0.3.2 tensorflow-2.15.1\n",
            "Collecting tensorflow-text==2.15.0\n",
            "  Downloading tensorflow_text-2.15.0-cp310-cp310-manylinux_2_17_x86_64.manylinux2014_x86_64.whl (5.2 MB)\n",
            "\u001b[2K     \u001b[90m━━━━━━━━━━━━━━━━━━━━━━━━━━━━━━━━━━━━━━━━\u001b[0m \u001b[32m5.2/5.2 MB\u001b[0m \u001b[31m61.1 MB/s\u001b[0m eta \u001b[36m0:00:00\u001b[0m\n",
            "\u001b[?25hRequirement already satisfied: tensorflow-hub>=0.13.0 in /usr/local/lib/python3.10/dist-packages (from tensorflow-text==2.15.0) (0.16.1)\n",
            "Requirement already satisfied: tensorflow<2.16,>=2.15.0 in /usr/local/lib/python3.10/dist-packages (from tensorflow-text==2.15.0) (2.15.1)\n",
            "Requirement already satisfied: absl-py>=1.0.0 in /usr/local/lib/python3.10/dist-packages (from tensorflow<2.16,>=2.15.0->tensorflow-text==2.15.0) (1.4.0)\n",
            "Requirement already satisfied: astunparse>=1.6.0 in /usr/local/lib/python3.10/dist-packages (from tensorflow<2.16,>=2.15.0->tensorflow-text==2.15.0) (1.6.3)\n",
            "Requirement already satisfied: flatbuffers>=23.5.26 in /usr/local/lib/python3.10/dist-packages (from tensorflow<2.16,>=2.15.0->tensorflow-text==2.15.0) (24.3.25)\n",
            "Requirement already satisfied: gast!=0.5.0,!=0.5.1,!=0.5.2,>=0.2.1 in /usr/local/lib/python3.10/dist-packages (from tensorflow<2.16,>=2.15.0->tensorflow-text==2.15.0) (0.5.4)\n",
            "Requirement already satisfied: google-pasta>=0.1.1 in /usr/local/lib/python3.10/dist-packages (from tensorflow<2.16,>=2.15.0->tensorflow-text==2.15.0) (0.2.0)\n",
            "Requirement already satisfied: h5py>=2.9.0 in /usr/local/lib/python3.10/dist-packages (from tensorflow<2.16,>=2.15.0->tensorflow-text==2.15.0) (3.9.0)\n",
            "Requirement already satisfied: libclang>=13.0.0 in /usr/local/lib/python3.10/dist-packages (from tensorflow<2.16,>=2.15.0->tensorflow-text==2.15.0) (18.1.1)\n",
            "Requirement already satisfied: ml-dtypes~=0.3.1 in /usr/local/lib/python3.10/dist-packages (from tensorflow<2.16,>=2.15.0->tensorflow-text==2.15.0) (0.3.2)\n",
            "Requirement already satisfied: numpy<2.0.0,>=1.23.5 in /usr/local/lib/python3.10/dist-packages (from tensorflow<2.16,>=2.15.0->tensorflow-text==2.15.0) (1.25.2)\n",
            "Requirement already satisfied: opt-einsum>=2.3.2 in /usr/local/lib/python3.10/dist-packages (from tensorflow<2.16,>=2.15.0->tensorflow-text==2.15.0) (3.3.0)\n",
            "Requirement already satisfied: packaging in /usr/local/lib/python3.10/dist-packages (from tensorflow<2.16,>=2.15.0->tensorflow-text==2.15.0) (24.0)\n",
            "Requirement already satisfied: protobuf!=4.21.0,!=4.21.1,!=4.21.2,!=4.21.3,!=4.21.4,!=4.21.5,<5.0.0dev,>=3.20.3 in /usr/local/lib/python3.10/dist-packages (from tensorflow<2.16,>=2.15.0->tensorflow-text==2.15.0) (3.20.3)\n",
            "Requirement already satisfied: setuptools in /usr/local/lib/python3.10/dist-packages (from tensorflow<2.16,>=2.15.0->tensorflow-text==2.15.0) (67.7.2)\n",
            "Requirement already satisfied: six>=1.12.0 in /usr/local/lib/python3.10/dist-packages (from tensorflow<2.16,>=2.15.0->tensorflow-text==2.15.0) (1.16.0)\n",
            "Requirement already satisfied: termcolor>=1.1.0 in /usr/local/lib/python3.10/dist-packages (from tensorflow<2.16,>=2.15.0->tensorflow-text==2.15.0) (2.4.0)\n",
            "Requirement already satisfied: typing-extensions>=3.6.6 in /usr/local/lib/python3.10/dist-packages (from tensorflow<2.16,>=2.15.0->tensorflow-text==2.15.0) (4.12.0)\n",
            "Requirement already satisfied: wrapt<1.15,>=1.11.0 in /usr/local/lib/python3.10/dist-packages (from tensorflow<2.16,>=2.15.0->tensorflow-text==2.15.0) (1.14.1)\n",
            "Requirement already satisfied: tensorflow-io-gcs-filesystem>=0.23.1 in /usr/local/lib/python3.10/dist-packages (from tensorflow<2.16,>=2.15.0->tensorflow-text==2.15.0) (0.37.0)\n",
            "Requirement already satisfied: grpcio<2.0,>=1.24.3 in /usr/local/lib/python3.10/dist-packages (from tensorflow<2.16,>=2.15.0->tensorflow-text==2.15.0) (1.64.0)\n",
            "Requirement already satisfied: tensorboard<2.16,>=2.15 in /usr/local/lib/python3.10/dist-packages (from tensorflow<2.16,>=2.15.0->tensorflow-text==2.15.0) (2.15.2)\n",
            "Requirement already satisfied: tensorflow-estimator<2.16,>=2.15.0 in /usr/local/lib/python3.10/dist-packages (from tensorflow<2.16,>=2.15.0->tensorflow-text==2.15.0) (2.15.0)\n",
            "Requirement already satisfied: keras<2.16,>=2.15.0 in /usr/local/lib/python3.10/dist-packages (from tensorflow<2.16,>=2.15.0->tensorflow-text==2.15.0) (2.15.0)\n",
            "Requirement already satisfied: tf-keras>=2.14.1 in /usr/local/lib/python3.10/dist-packages (from tensorflow-hub>=0.13.0->tensorflow-text==2.15.0) (2.15.1)\n",
            "Requirement already satisfied: wheel<1.0,>=0.23.0 in /usr/local/lib/python3.10/dist-packages (from astunparse>=1.6.0->tensorflow<2.16,>=2.15.0->tensorflow-text==2.15.0) (0.43.0)\n",
            "Requirement already satisfied: google-auth<3,>=1.6.3 in /usr/local/lib/python3.10/dist-packages (from tensorboard<2.16,>=2.15->tensorflow<2.16,>=2.15.0->tensorflow-text==2.15.0) (2.27.0)\n",
            "Requirement already satisfied: google-auth-oauthlib<2,>=0.5 in /usr/local/lib/python3.10/dist-packages (from tensorboard<2.16,>=2.15->tensorflow<2.16,>=2.15.0->tensorflow-text==2.15.0) (1.2.0)\n",
            "Requirement already satisfied: markdown>=2.6.8 in /usr/local/lib/python3.10/dist-packages (from tensorboard<2.16,>=2.15->tensorflow<2.16,>=2.15.0->tensorflow-text==2.15.0) (3.6)\n",
            "Requirement already satisfied: requests<3,>=2.21.0 in /usr/local/lib/python3.10/dist-packages (from tensorboard<2.16,>=2.15->tensorflow<2.16,>=2.15.0->tensorflow-text==2.15.0) (2.31.0)\n",
            "Requirement already satisfied: tensorboard-data-server<0.8.0,>=0.7.0 in /usr/local/lib/python3.10/dist-packages (from tensorboard<2.16,>=2.15->tensorflow<2.16,>=2.15.0->tensorflow-text==2.15.0) (0.7.2)\n",
            "Requirement already satisfied: werkzeug>=1.0.1 in /usr/local/lib/python3.10/dist-packages (from tensorboard<2.16,>=2.15->tensorflow<2.16,>=2.15.0->tensorflow-text==2.15.0) (3.0.3)\n",
            "Requirement already satisfied: cachetools<6.0,>=2.0.0 in /usr/local/lib/python3.10/dist-packages (from google-auth<3,>=1.6.3->tensorboard<2.16,>=2.15->tensorflow<2.16,>=2.15.0->tensorflow-text==2.15.0) (5.3.3)\n",
            "Requirement already satisfied: pyasn1-modules>=0.2.1 in /usr/local/lib/python3.10/dist-packages (from google-auth<3,>=1.6.3->tensorboard<2.16,>=2.15->tensorflow<2.16,>=2.15.0->tensorflow-text==2.15.0) (0.4.0)\n",
            "Requirement already satisfied: rsa<5,>=3.1.4 in /usr/local/lib/python3.10/dist-packages (from google-auth<3,>=1.6.3->tensorboard<2.16,>=2.15->tensorflow<2.16,>=2.15.0->tensorflow-text==2.15.0) (4.9)\n",
            "Requirement already satisfied: requests-oauthlib>=0.7.0 in /usr/local/lib/python3.10/dist-packages (from google-auth-oauthlib<2,>=0.5->tensorboard<2.16,>=2.15->tensorflow<2.16,>=2.15.0->tensorflow-text==2.15.0) (1.3.1)\n",
            "Requirement already satisfied: charset-normalizer<4,>=2 in /usr/local/lib/python3.10/dist-packages (from requests<3,>=2.21.0->tensorboard<2.16,>=2.15->tensorflow<2.16,>=2.15.0->tensorflow-text==2.15.0) (3.3.2)\n",
            "Requirement already satisfied: idna<4,>=2.5 in /usr/local/lib/python3.10/dist-packages (from requests<3,>=2.21.0->tensorboard<2.16,>=2.15->tensorflow<2.16,>=2.15.0->tensorflow-text==2.15.0) (3.7)\n",
            "Requirement already satisfied: urllib3<3,>=1.21.1 in /usr/local/lib/python3.10/dist-packages (from requests<3,>=2.21.0->tensorboard<2.16,>=2.15->tensorflow<2.16,>=2.15.0->tensorflow-text==2.15.0) (2.0.7)\n",
            "Requirement already satisfied: certifi>=2017.4.17 in /usr/local/lib/python3.10/dist-packages (from requests<3,>=2.21.0->tensorboard<2.16,>=2.15->tensorflow<2.16,>=2.15.0->tensorflow-text==2.15.0) (2024.2.2)\n",
            "Requirement already satisfied: MarkupSafe>=2.1.1 in /usr/local/lib/python3.10/dist-packages (from werkzeug>=1.0.1->tensorboard<2.16,>=2.15->tensorflow<2.16,>=2.15.0->tensorflow-text==2.15.0) (2.1.5)\n",
            "Requirement already satisfied: pyasn1<0.7.0,>=0.4.6 in /usr/local/lib/python3.10/dist-packages (from pyasn1-modules>=0.2.1->google-auth<3,>=1.6.3->tensorboard<2.16,>=2.15->tensorflow<2.16,>=2.15.0->tensorflow-text==2.15.0) (0.6.0)\n",
            "Requirement already satisfied: oauthlib>=3.0.0 in /usr/local/lib/python3.10/dist-packages (from requests-oauthlib>=0.7.0->google-auth-oauthlib<2,>=0.5->tensorboard<2.16,>=2.15->tensorflow<2.16,>=2.15.0->tensorflow-text==2.15.0) (3.2.2)\n",
            "Installing collected packages: tensorflow-text\n",
            "Successfully installed tensorflow-text-2.15.0\n"
          ]
        }
      ]
    },
    {
      "cell_type": "code",
      "execution_count": 9,
      "metadata": {
        "colab": {
          "base_uri": "https://localhost:8080/"
        },
        "collapsed": true,
        "id": "OxDlDz6sOkCi",
        "outputId": "dbb1bd7f-2c44-446e-bd00-02a31935c4e4"
      },
      "outputs": [
        {
          "output_type": "stream",
          "name": "stdout",
          "text": [
            "\u001b[?25l     \u001b[90m━━━━━━━━━━━━━━━━━━━━━━━━━━━━━━━━━━━━━━━━\u001b[0m \u001b[32m0.0/584.5 kB\u001b[0m \u001b[31m?\u001b[0m eta \u001b[36m-:--:--\u001b[0m\r\u001b[2K     \u001b[91m━━━━━━━━━━━━━━━━━━━━━━\u001b[0m\u001b[90m╺\u001b[0m\u001b[90m━━━━━━━━━━━━━━━━━\u001b[0m \u001b[32m327.7/584.5 kB\u001b[0m \u001b[31m9.8 MB/s\u001b[0m eta \u001b[36m0:00:01\u001b[0m\r\u001b[2K     \u001b[90m━━━━━━━━━━━━━━━━━━━━━━━━━━━━━━━━━━━━━━━━\u001b[0m \u001b[32m584.5/584.5 kB\u001b[0m \u001b[31m12.4 MB/s\u001b[0m eta \u001b[36m0:00:00\u001b[0m\n",
            "\u001b[?25h\u001b[?25l     \u001b[90m━━━━━━━━━━━━━━━━━━━━━━━━━━━━━━━━━━━━━━━━\u001b[0m \u001b[32m0.0/950.8 kB\u001b[0m \u001b[31m?\u001b[0m eta \u001b[36m-:--:--\u001b[0m\r\u001b[2K     \u001b[90m━━━━━━━━━━━━━━━━━━━━━━━━━━━━━━━━━━━━━━━━\u001b[0m \u001b[32m950.8/950.8 kB\u001b[0m \u001b[31m49.9 MB/s\u001b[0m eta \u001b[36m0:00:00\u001b[0m\n",
            "\u001b[?25h"
          ]
        }
      ],
      "source": [
        "!pip install -q keras_nlp==0.6.3 keras-core==0.1.7"
      ]
    },
    {
      "cell_type": "code",
      "source": [
        "import os\n",
        "os.environ[\"KERAS_BACKEND\"] = \"torch\"\n",
        "\n",
        "import keras_nlp\n",
        "import keras_core as keras\n",
        "import keras_core.backend as K\n",
        "\n",
        "import torch\n",
        "import tensorflow as tf\n",
        "\n",
        "import numpy as np\n",
        "import pandas as pd\n",
        "import matplotlib.pyplot as plt\n",
        "import matplotlib as mpl"
      ],
      "metadata": {
        "id": "nFWZJlcsah9g"
      },
      "execution_count": 21,
      "outputs": []
    },
    {
      "cell_type": "code",
      "source": [
        "print(\"TensorFlow:\", tf.__version__)\n",
        "print(\"Keras:\", keras.__version__)\n",
        "print(\"KerasNLP:\", keras_nlp.__version__)"
      ],
      "metadata": {
        "colab": {
          "base_uri": "https://localhost:8080/"
        },
        "id": "X4ycb-gz-P4l",
        "outputId": "7aee7726-9060-401f-f14e-de5947256428"
      },
      "execution_count": 22,
      "outputs": [
        {
          "output_type": "stream",
          "name": "stdout",
          "text": [
            "TensorFlow: 2.15.1\n",
            "Keras: 0.1.7\n",
            "KerasNLP: 0.6.3\n"
          ]
        }
      ]
    },
    {
      "cell_type": "markdown",
      "source": [
        "### Configuration"
      ],
      "metadata": {
        "id": "cagu4GqaeSNf"
      }
    },
    {
      "cell_type": "code",
      "source": [
        "class CFG:\n",
        "  verbose = 0\n",
        "\n",
        "  wandb = True\n",
        "  competition = \"llm-detect-ai-generated-text\"\n",
        "  _wandb_kernel = \"awsaf49\"\n",
        "  comment = \"DebartaV3-MaxSeq_200-torch\"\n",
        "\n",
        "  preset = \"deberta_v3_base_en\"\n",
        "  sequence_length = 200\n",
        "\n",
        "  device = 'TPU'\n",
        "  seed = 42\n",
        "\n",
        "  num_folds = 5 #total folds\n",
        "  selected_folds = [0,1] #folds to train\n",
        "\n",
        "  epochs = 3\n",
        "  batch_size = 3\n",
        "  drop_remainder = True\n",
        "  cache= True\n",
        "\n",
        "  scheduler = \"cosine\" #Learning rate scheduler\n",
        "\n",
        "  class_names = [\"real\",\"fake\"]\n",
        "  num_classes = len(class_names)\n",
        "  class_labels = list (range(num_classes))\n",
        "  label2name = dict(zip(class_labels,class_names))\n",
        "  name2label = {v: k for k, v in label2name.items()}"
      ],
      "metadata": {
        "id": "MZM1Yrqwd8r3"
      },
      "execution_count": 23,
      "outputs": []
    },
    {
      "cell_type": "markdown",
      "source": [
        "### Hardware"
      ],
      "metadata": {
        "id": "_r7uz55yuI_S"
      }
    },
    {
      "cell_type": "code",
      "source": [
        "def get_device():\n",
        "    \"Detect and intializes GPU/TPU automatically\"\n",
        "    try:\n",
        "        # detect and init the TPU\n",
        "        tpu = tf.distribute.cluster_resolver.TPUClusterResolver()\n",
        "\n",
        "        # instantiate a distribution strategy\n",
        "        tf.tpu.experimental.initialize_tpu_system(tpu)\n",
        "        strategy = tf.distribute.TPUStrategy(tpu)\n",
        "        print(f'> Running on TPU', tpu.master(), end=' | ')\n",
        "        print('Num of TPUs: ', strategy.num_replicas_in_sync)\n",
        "        device=CFG.device\n",
        "    except:\n",
        "        # If TPU is not available, detect GPUs\n",
        "        gpus = tf.config.list_logical_devices('GPU')\n",
        "        ngpu = len(gpus)\n",
        "         # Check number of GPUs\n",
        "        if ngpu:\n",
        "            # Set GPU strategy\n",
        "            strategy = tf.distribute.MirroredStrategy(gpus) # single-GPU or multi-GPU\n",
        "            # Print GPU details\n",
        "            print(\"> Running on GPU\", end=' | ')\n",
        "            print(\"Num of GPUs: \", ngpu)\n",
        "            device='GPU'\n",
        "        else:\n",
        "            # If no GPUs are available, use CPU\n",
        "            print(\"> Running on CPU\")\n",
        "            strategy = tf.distribute.get_strategy()\n",
        "            device='CPU'\n",
        "    return strategy, device"
      ],
      "metadata": {
        "id": "nnRmyYS6uLyj"
      },
      "execution_count": 24,
      "outputs": []
    },
    {
      "cell_type": "code",
      "source": [
        "strategy, CFG.device = get_device()\n",
        "CFG.replicas = strategy.num_replicas_in_sync"
      ],
      "metadata": {
        "colab": {
          "base_uri": "https://localhost:8080/"
        },
        "id": "qfaOQI9ouw_g",
        "outputId": "576b70df-5681-4ae5-9ffc-2a99bcf1ac76"
      },
      "execution_count": 25,
      "outputs": [
        {
          "output_type": "stream",
          "name": "stdout",
          "text": [
            "> Running on GPU | Num of GPUs:  1\n"
          ]
        }
      ]
    },
    {
      "cell_type": "markdown",
      "source": [
        "### Reproducibility"
      ],
      "metadata": {
        "id": "sTwu5RhFhy71"
      }
    },
    {
      "cell_type": "code",
      "source": [
        "#Sets value for random seed to produce similar result in each run.\n",
        "keras.utils.set_random_seed(CFG.seed)"
      ],
      "metadata": {
        "id": "h0iEpqxTh3Wx"
      },
      "execution_count": 26,
      "outputs": []
    },
    {
      "cell_type": "markdown",
      "source": [
        "### Train Data"
      ],
      "metadata": {
        "id": "fBtzsoDKjXAF"
      }
    },
    {
      "cell_type": "code",
      "source": [
        "df = pd.read_csv(\"train_essays.csv\")\n",
        "df.head()"
      ],
      "metadata": {
        "colab": {
          "base_uri": "https://localhost:8080/",
          "height": 206
        },
        "id": "jUBbGrFFjZGc",
        "outputId": "6679f8ff-b2fa-4447-d6c7-f9ccf05cd8a9"
      },
      "execution_count": 27,
      "outputs": [
        {
          "output_type": "execute_result",
          "data": {
            "text/plain": [
              "         id  prompt_id                                               text  \\\n",
              "0  0059830c          0  Cars. Cars have been around since they became ...   \n",
              "1  005db917          0  Transportation is a large necessity in most co...   \n",
              "2  008f63e3          0  \"America's love affair with it's vehicles seem...   \n",
              "3  00940276          0  How often do you ride in a car? Do you drive a...   \n",
              "4  00c39458          0  Cars are a wonderful thing. They are perhaps o...   \n",
              "\n",
              "   generated  \n",
              "0          0  \n",
              "1          0  \n",
              "2          0  \n",
              "3          0  \n",
              "4          0  "
            ],
            "text/html": [
              "\n",
              "  <div id=\"df-473f5c7f-0766-4d1b-94eb-f1c27ed96f49\" class=\"colab-df-container\">\n",
              "    <div>\n",
              "<style scoped>\n",
              "    .dataframe tbody tr th:only-of-type {\n",
              "        vertical-align: middle;\n",
              "    }\n",
              "\n",
              "    .dataframe tbody tr th {\n",
              "        vertical-align: top;\n",
              "    }\n",
              "\n",
              "    .dataframe thead th {\n",
              "        text-align: right;\n",
              "    }\n",
              "</style>\n",
              "<table border=\"1\" class=\"dataframe\">\n",
              "  <thead>\n",
              "    <tr style=\"text-align: right;\">\n",
              "      <th></th>\n",
              "      <th>id</th>\n",
              "      <th>prompt_id</th>\n",
              "      <th>text</th>\n",
              "      <th>generated</th>\n",
              "    </tr>\n",
              "  </thead>\n",
              "  <tbody>\n",
              "    <tr>\n",
              "      <th>0</th>\n",
              "      <td>0059830c</td>\n",
              "      <td>0</td>\n",
              "      <td>Cars. Cars have been around since they became ...</td>\n",
              "      <td>0</td>\n",
              "    </tr>\n",
              "    <tr>\n",
              "      <th>1</th>\n",
              "      <td>005db917</td>\n",
              "      <td>0</td>\n",
              "      <td>Transportation is a large necessity in most co...</td>\n",
              "      <td>0</td>\n",
              "    </tr>\n",
              "    <tr>\n",
              "      <th>2</th>\n",
              "      <td>008f63e3</td>\n",
              "      <td>0</td>\n",
              "      <td>\"America's love affair with it's vehicles seem...</td>\n",
              "      <td>0</td>\n",
              "    </tr>\n",
              "    <tr>\n",
              "      <th>3</th>\n",
              "      <td>00940276</td>\n",
              "      <td>0</td>\n",
              "      <td>How often do you ride in a car? Do you drive a...</td>\n",
              "      <td>0</td>\n",
              "    </tr>\n",
              "    <tr>\n",
              "      <th>4</th>\n",
              "      <td>00c39458</td>\n",
              "      <td>0</td>\n",
              "      <td>Cars are a wonderful thing. They are perhaps o...</td>\n",
              "      <td>0</td>\n",
              "    </tr>\n",
              "  </tbody>\n",
              "</table>\n",
              "</div>\n",
              "    <div class=\"colab-df-buttons\">\n",
              "\n",
              "  <div class=\"colab-df-container\">\n",
              "    <button class=\"colab-df-convert\" onclick=\"convertToInteractive('df-473f5c7f-0766-4d1b-94eb-f1c27ed96f49')\"\n",
              "            title=\"Convert this dataframe to an interactive table.\"\n",
              "            style=\"display:none;\">\n",
              "\n",
              "  <svg xmlns=\"http://www.w3.org/2000/svg\" height=\"24px\" viewBox=\"0 -960 960 960\">\n",
              "    <path d=\"M120-120v-720h720v720H120Zm60-500h600v-160H180v160Zm220 220h160v-160H400v160Zm0 220h160v-160H400v160ZM180-400h160v-160H180v160Zm440 0h160v-160H620v160ZM180-180h160v-160H180v160Zm440 0h160v-160H620v160Z\"/>\n",
              "  </svg>\n",
              "    </button>\n",
              "\n",
              "  <style>\n",
              "    .colab-df-container {\n",
              "      display:flex;\n",
              "      gap: 12px;\n",
              "    }\n",
              "\n",
              "    .colab-df-convert {\n",
              "      background-color: #E8F0FE;\n",
              "      border: none;\n",
              "      border-radius: 50%;\n",
              "      cursor: pointer;\n",
              "      display: none;\n",
              "      fill: #1967D2;\n",
              "      height: 32px;\n",
              "      padding: 0 0 0 0;\n",
              "      width: 32px;\n",
              "    }\n",
              "\n",
              "    .colab-df-convert:hover {\n",
              "      background-color: #E2EBFA;\n",
              "      box-shadow: 0px 1px 2px rgba(60, 64, 67, 0.3), 0px 1px 3px 1px rgba(60, 64, 67, 0.15);\n",
              "      fill: #174EA6;\n",
              "    }\n",
              "\n",
              "    .colab-df-buttons div {\n",
              "      margin-bottom: 4px;\n",
              "    }\n",
              "\n",
              "    [theme=dark] .colab-df-convert {\n",
              "      background-color: #3B4455;\n",
              "      fill: #D2E3FC;\n",
              "    }\n",
              "\n",
              "    [theme=dark] .colab-df-convert:hover {\n",
              "      background-color: #434B5C;\n",
              "      box-shadow: 0px 1px 3px 1px rgba(0, 0, 0, 0.15);\n",
              "      filter: drop-shadow(0px 1px 2px rgba(0, 0, 0, 0.3));\n",
              "      fill: #FFFFFF;\n",
              "    }\n",
              "  </style>\n",
              "\n",
              "    <script>\n",
              "      const buttonEl =\n",
              "        document.querySelector('#df-473f5c7f-0766-4d1b-94eb-f1c27ed96f49 button.colab-df-convert');\n",
              "      buttonEl.style.display =\n",
              "        google.colab.kernel.accessAllowed ? 'block' : 'none';\n",
              "\n",
              "      async function convertToInteractive(key) {\n",
              "        const element = document.querySelector('#df-473f5c7f-0766-4d1b-94eb-f1c27ed96f49');\n",
              "        const dataTable =\n",
              "          await google.colab.kernel.invokeFunction('convertToInteractive',\n",
              "                                                    [key], {});\n",
              "        if (!dataTable) return;\n",
              "\n",
              "        const docLinkHtml = 'Like what you see? Visit the ' +\n",
              "          '<a target=\"_blank\" href=https://colab.research.google.com/notebooks/data_table.ipynb>data table notebook</a>'\n",
              "          + ' to learn more about interactive tables.';\n",
              "        element.innerHTML = '';\n",
              "        dataTable['output_type'] = 'display_data';\n",
              "        await google.colab.output.renderOutput(dataTable, element);\n",
              "        const docLink = document.createElement('div');\n",
              "        docLink.innerHTML = docLinkHtml;\n",
              "        element.appendChild(docLink);\n",
              "      }\n",
              "    </script>\n",
              "  </div>\n",
              "\n",
              "\n",
              "<div id=\"df-659a3ed3-7241-4fab-a397-a90dcefdfb73\">\n",
              "  <button class=\"colab-df-quickchart\" onclick=\"quickchart('df-659a3ed3-7241-4fab-a397-a90dcefdfb73')\"\n",
              "            title=\"Suggest charts\"\n",
              "            style=\"display:none;\">\n",
              "\n",
              "<svg xmlns=\"http://www.w3.org/2000/svg\" height=\"24px\"viewBox=\"0 0 24 24\"\n",
              "     width=\"24px\">\n",
              "    <g>\n",
              "        <path d=\"M19 3H5c-1.1 0-2 .9-2 2v14c0 1.1.9 2 2 2h14c1.1 0 2-.9 2-2V5c0-1.1-.9-2-2-2zM9 17H7v-7h2v7zm4 0h-2V7h2v10zm4 0h-2v-4h2v4z\"/>\n",
              "    </g>\n",
              "</svg>\n",
              "  </button>\n",
              "\n",
              "<style>\n",
              "  .colab-df-quickchart {\n",
              "      --bg-color: #E8F0FE;\n",
              "      --fill-color: #1967D2;\n",
              "      --hover-bg-color: #E2EBFA;\n",
              "      --hover-fill-color: #174EA6;\n",
              "      --disabled-fill-color: #AAA;\n",
              "      --disabled-bg-color: #DDD;\n",
              "  }\n",
              "\n",
              "  [theme=dark] .colab-df-quickchart {\n",
              "      --bg-color: #3B4455;\n",
              "      --fill-color: #D2E3FC;\n",
              "      --hover-bg-color: #434B5C;\n",
              "      --hover-fill-color: #FFFFFF;\n",
              "      --disabled-bg-color: #3B4455;\n",
              "      --disabled-fill-color: #666;\n",
              "  }\n",
              "\n",
              "  .colab-df-quickchart {\n",
              "    background-color: var(--bg-color);\n",
              "    border: none;\n",
              "    border-radius: 50%;\n",
              "    cursor: pointer;\n",
              "    display: none;\n",
              "    fill: var(--fill-color);\n",
              "    height: 32px;\n",
              "    padding: 0;\n",
              "    width: 32px;\n",
              "  }\n",
              "\n",
              "  .colab-df-quickchart:hover {\n",
              "    background-color: var(--hover-bg-color);\n",
              "    box-shadow: 0 1px 2px rgba(60, 64, 67, 0.3), 0 1px 3px 1px rgba(60, 64, 67, 0.15);\n",
              "    fill: var(--button-hover-fill-color);\n",
              "  }\n",
              "\n",
              "  .colab-df-quickchart-complete:disabled,\n",
              "  .colab-df-quickchart-complete:disabled:hover {\n",
              "    background-color: var(--disabled-bg-color);\n",
              "    fill: var(--disabled-fill-color);\n",
              "    box-shadow: none;\n",
              "  }\n",
              "\n",
              "  .colab-df-spinner {\n",
              "    border: 2px solid var(--fill-color);\n",
              "    border-color: transparent;\n",
              "    border-bottom-color: var(--fill-color);\n",
              "    animation:\n",
              "      spin 1s steps(1) infinite;\n",
              "  }\n",
              "\n",
              "  @keyframes spin {\n",
              "    0% {\n",
              "      border-color: transparent;\n",
              "      border-bottom-color: var(--fill-color);\n",
              "      border-left-color: var(--fill-color);\n",
              "    }\n",
              "    20% {\n",
              "      border-color: transparent;\n",
              "      border-left-color: var(--fill-color);\n",
              "      border-top-color: var(--fill-color);\n",
              "    }\n",
              "    30% {\n",
              "      border-color: transparent;\n",
              "      border-left-color: var(--fill-color);\n",
              "      border-top-color: var(--fill-color);\n",
              "      border-right-color: var(--fill-color);\n",
              "    }\n",
              "    40% {\n",
              "      border-color: transparent;\n",
              "      border-right-color: var(--fill-color);\n",
              "      border-top-color: var(--fill-color);\n",
              "    }\n",
              "    60% {\n",
              "      border-color: transparent;\n",
              "      border-right-color: var(--fill-color);\n",
              "    }\n",
              "    80% {\n",
              "      border-color: transparent;\n",
              "      border-right-color: var(--fill-color);\n",
              "      border-bottom-color: var(--fill-color);\n",
              "    }\n",
              "    90% {\n",
              "      border-color: transparent;\n",
              "      border-bottom-color: var(--fill-color);\n",
              "    }\n",
              "  }\n",
              "</style>\n",
              "\n",
              "  <script>\n",
              "    async function quickchart(key) {\n",
              "      const quickchartButtonEl =\n",
              "        document.querySelector('#' + key + ' button');\n",
              "      quickchartButtonEl.disabled = true;  // To prevent multiple clicks.\n",
              "      quickchartButtonEl.classList.add('colab-df-spinner');\n",
              "      try {\n",
              "        const charts = await google.colab.kernel.invokeFunction(\n",
              "            'suggestCharts', [key], {});\n",
              "      } catch (error) {\n",
              "        console.error('Error during call to suggestCharts:', error);\n",
              "      }\n",
              "      quickchartButtonEl.classList.remove('colab-df-spinner');\n",
              "      quickchartButtonEl.classList.add('colab-df-quickchart-complete');\n",
              "    }\n",
              "    (() => {\n",
              "      let quickchartButtonEl =\n",
              "        document.querySelector('#df-659a3ed3-7241-4fab-a397-a90dcefdfb73 button');\n",
              "      quickchartButtonEl.style.display =\n",
              "        google.colab.kernel.accessAllowed ? 'block' : 'none';\n",
              "    })();\n",
              "  </script>\n",
              "</div>\n",
              "\n",
              "    </div>\n",
              "  </div>\n"
            ],
            "application/vnd.google.colaboratory.intrinsic+json": {
              "type": "dataframe",
              "variable_name": "df",
              "summary": "{\n  \"name\": \"df\",\n  \"rows\": 1378,\n  \"fields\": [\n    {\n      \"column\": \"id\",\n      \"properties\": {\n        \"dtype\": \"string\",\n        \"num_unique_values\": 1378,\n        \"samples\": [\n          \"70d7c567\",\n          \"81977e6c\",\n          \"e43869b8\"\n        ],\n        \"semantic_type\": \"\",\n        \"description\": \"\"\n      }\n    },\n    {\n      \"column\": \"prompt_id\",\n      \"properties\": {\n        \"dtype\": \"number\",\n        \"std\": 0,\n        \"min\": 0,\n        \"max\": 1,\n        \"num_unique_values\": 2,\n        \"samples\": [\n          1,\n          0\n        ],\n        \"semantic_type\": \"\",\n        \"description\": \"\"\n      }\n    },\n    {\n      \"column\": \"text\",\n      \"properties\": {\n        \"dtype\": \"string\",\n        \"num_unique_values\": 1378,\n        \"samples\": [\n          \"Can you imagine living in a place where there is no driving? It is an amazing thing to think if every person doesn't drive in one big city that it saves so much pollution going in to the air. Another thing to think about is if everyone in a city didn't drive and walked everywhere, more people would stay healthier by staying in shape. Some people think that owning a car is more stressful than just walking everywhere. If you don't own a car you don't have to pay for insurance, don't have to pay for gas, and don't have to pay for repairs when something goes wrong in a vehicle. To me it sounds like there is a lot of advantages in limiting car use.\\n\\nOne solid reason why not using cars as much is the pollution going in the air. In Paris, France motorists with even numbered license plates were ordered to leave their cars at their house or else they would be fined. The next day odd numbered license plates motorists had to leave their vehicles at home. It was a hardship at first to get people to follow these new rules, but after about five days everything started to cool down. The pollution had dropped 60 percent in Paris which is exactly what the city was looking for. Limiting the car usage didn't just save pollution from going in the air, but also there wasn't as much traffic as there usually was. It also made Paris a safer place to be outside and not damage the citizens lungs. The capital city of France also made transportation free MondayFriday to help the cause. Soon enough people that had both license plates could drive on the same day.\\n\\nIn Bogota, Colombia they do a car free day that is becoming popular in that part of the world. It is awesome to think there are 7 million people in that city and none of them are using a car. People that violated this goal on this day were charged a 25 fine. People from other countries came to see how this day worked and they loved it. The mayor of Asuncion, Paraguay said \\\"These people are generating a revolutionary change, and this is crossing borders.\\\" You can just imagine all the benefits of everyone not using a car in a city for a whole day. Restaurants and parks would be visited and used more and everyone would be getting more exercise. All in all this idea was genius.\\n\\nAs you can see limiting car usage can help out the area big time that it is taking place. It is better breathing air, businesses like restaurants and parks would be used more and grow steadily, and the city would be taken care of better.\",\n          \"Limiting car usage could have many advantages on our planet. Many cities, such as Vauban in Germany, have given up on using cars to help the world around them. \\\"vaughn's streets are completely carfree,except the main thoroughfare, where the tram to downtown Freiburg runs, and a few streets on one edge of the community.\\\" There is a movement going on called, \\\"smart planning\\\" and Vauban is just one example of a growing trend in Europe of limiting auto use. The article says that passenger cars are responsible for twelve percent of greenhouse gas emissions in Europe. It seems that the people in Europe are realizing that so much car usage is harming their environment, and they are trying to set a trend for other countries like the United States to follow to limit using cars.\\n\\nHow much people use their cars is very important. Polluted air is a very widespread problem in many regions of the world. Paris had days of nearrecord pollution, and decided to enforce a partial driving ban to try to help clear the air of the city. The article says that almost 4,000 drivers were fined, and twentyseven had their cars impounded for their reaction to the fine. \\\"Congestion was down 60 percent in the capital of France, after five days of intensifying smog.\\\" The driving ban helped clear the smog, because it reduced car emissions. Paris has more smog than many other European capitals, which is why reducing how much citizens drive their cars is a good idea.\\n\\nSome cities have days that are completely car free. Bogota, Colombia is one of them. They have been having a Day Without Cars for three straight years. Cars are banned for the day and buses and taxis are the only exception. The city holds about 7 million people, and had a large turnout. \\\"It's a good opportunity to take away stress and lower air pollution,\\\" said businessman Carlos Arturo Plaza. The mayor of Asuncion, Paraguay even said that, \\\"These people are generating a revolutionary change, and this is crossing borders.\\\" The Day Without Cars has even helped stores and sports center come up throughout the city. Instead of shopping centers along a highway, those stores are now in the city and easy to get to without having to use a car.\\n\\nResearchers have been studying America's ways of car usage and driving. America is home to the first cars like the Model T, or \\\"Mustang Sally.\\\" Vehichles have always been a huge part of culture, but it seems now that that might not be the case anymore. \\\"As of April 2013, the number of miles driven per person was nearly 9 percent below the peak and equal to where the country was in January 1995.\\\" Researchers are actually hoping that the pattern continues because it will have beneficial implications for carbon emissions on the environment. Transportation is the second largest source, behind power plants, of emissions. Many changes have now happened in America, which are making using cars not as important. \\\"With all these changes, people who stopped car commuting as a result of the recession may find less reason to resume the habit..\\\" The article says. If we could slow down the usage of cars and emission, maybe we could help the planet become a better place.\\n\\nSince the percentage of car usage has gone down in America, so has the percentage of getting a license. There has been a large drop in 1639 year olds getting a license, Mr. Sivak's research has found. Older people are also likely to retain their licenses as they age. Mr. Sivak and another man both have children of about the same age, 19 and 21, and live in busy cities where a car could be useful. Neither one of them has their licenses, even though they are interested, but they don't really see the need for one when they can use public transportation or carpool with their friends. The article says that a study last year has also found that driving by young people decreased 23 percent between 2001 and 2009. Whether or not this changes as these young people grow older, these decreases in driving are proving that cars might just not be as important as they used to be.\\n\\nOur planet is just continuing to get worse from emissions from cars. Some countries are starting to realize this and are working hard to limit car usage and have citizens rely just on public transportation, walking, or riding a bike. Bill Ford proposed partnering with the telecommunications industry to create cities in which, \\\"pedestrian, bicycle, private cars, commercial, and public transportation traffic are woven into a connected network to save time, conserve resources, lower emissions, and improve safety.\\\" Citizens all over the world can work together to reduce car usage and better improve our planet.\"\n        ],\n        \"semantic_type\": \"\",\n        \"description\": \"\"\n      }\n    },\n    {\n      \"column\": \"generated\",\n      \"properties\": {\n        \"dtype\": \"number\",\n        \"std\": 0,\n        \"min\": 0,\n        \"max\": 1,\n        \"num_unique_values\": 2,\n        \"samples\": [\n          1,\n          0\n        ],\n        \"semantic_type\": \"\",\n        \"description\": \"\"\n      }\n    }\n  ]\n}"
            }
          },
          "metadata": {},
          "execution_count": 27
        }
      ]
    },
    {
      "cell_type": "code",
      "source": [
        "df['label'] = df.generated.copy()\n",
        "df['name'] = df.generated.map(CFG.label2name)\n",
        "df.head()"
      ],
      "metadata": {
        "colab": {
          "base_uri": "https://localhost:8080/",
          "height": 206
        },
        "id": "FKYi3FL2j82P",
        "outputId": "ad55ed68-59cc-4ed8-a76b-33182cd26e9a"
      },
      "execution_count": 28,
      "outputs": [
        {
          "output_type": "execute_result",
          "data": {
            "text/plain": [
              "         id  prompt_id                                               text  \\\n",
              "0  0059830c          0  Cars. Cars have been around since they became ...   \n",
              "1  005db917          0  Transportation is a large necessity in most co...   \n",
              "2  008f63e3          0  \"America's love affair with it's vehicles seem...   \n",
              "3  00940276          0  How often do you ride in a car? Do you drive a...   \n",
              "4  00c39458          0  Cars are a wonderful thing. They are perhaps o...   \n",
              "\n",
              "   generated  label  name  \n",
              "0          0      0  real  \n",
              "1          0      0  real  \n",
              "2          0      0  real  \n",
              "3          0      0  real  \n",
              "4          0      0  real  "
            ],
            "text/html": [
              "\n",
              "  <div id=\"df-d7d3f204-b422-48cc-a78e-ac1ec0bfba77\" class=\"colab-df-container\">\n",
              "    <div>\n",
              "<style scoped>\n",
              "    .dataframe tbody tr th:only-of-type {\n",
              "        vertical-align: middle;\n",
              "    }\n",
              "\n",
              "    .dataframe tbody tr th {\n",
              "        vertical-align: top;\n",
              "    }\n",
              "\n",
              "    .dataframe thead th {\n",
              "        text-align: right;\n",
              "    }\n",
              "</style>\n",
              "<table border=\"1\" class=\"dataframe\">\n",
              "  <thead>\n",
              "    <tr style=\"text-align: right;\">\n",
              "      <th></th>\n",
              "      <th>id</th>\n",
              "      <th>prompt_id</th>\n",
              "      <th>text</th>\n",
              "      <th>generated</th>\n",
              "      <th>label</th>\n",
              "      <th>name</th>\n",
              "    </tr>\n",
              "  </thead>\n",
              "  <tbody>\n",
              "    <tr>\n",
              "      <th>0</th>\n",
              "      <td>0059830c</td>\n",
              "      <td>0</td>\n",
              "      <td>Cars. Cars have been around since they became ...</td>\n",
              "      <td>0</td>\n",
              "      <td>0</td>\n",
              "      <td>real</td>\n",
              "    </tr>\n",
              "    <tr>\n",
              "      <th>1</th>\n",
              "      <td>005db917</td>\n",
              "      <td>0</td>\n",
              "      <td>Transportation is a large necessity in most co...</td>\n",
              "      <td>0</td>\n",
              "      <td>0</td>\n",
              "      <td>real</td>\n",
              "    </tr>\n",
              "    <tr>\n",
              "      <th>2</th>\n",
              "      <td>008f63e3</td>\n",
              "      <td>0</td>\n",
              "      <td>\"America's love affair with it's vehicles seem...</td>\n",
              "      <td>0</td>\n",
              "      <td>0</td>\n",
              "      <td>real</td>\n",
              "    </tr>\n",
              "    <tr>\n",
              "      <th>3</th>\n",
              "      <td>00940276</td>\n",
              "      <td>0</td>\n",
              "      <td>How often do you ride in a car? Do you drive a...</td>\n",
              "      <td>0</td>\n",
              "      <td>0</td>\n",
              "      <td>real</td>\n",
              "    </tr>\n",
              "    <tr>\n",
              "      <th>4</th>\n",
              "      <td>00c39458</td>\n",
              "      <td>0</td>\n",
              "      <td>Cars are a wonderful thing. They are perhaps o...</td>\n",
              "      <td>0</td>\n",
              "      <td>0</td>\n",
              "      <td>real</td>\n",
              "    </tr>\n",
              "  </tbody>\n",
              "</table>\n",
              "</div>\n",
              "    <div class=\"colab-df-buttons\">\n",
              "\n",
              "  <div class=\"colab-df-container\">\n",
              "    <button class=\"colab-df-convert\" onclick=\"convertToInteractive('df-d7d3f204-b422-48cc-a78e-ac1ec0bfba77')\"\n",
              "            title=\"Convert this dataframe to an interactive table.\"\n",
              "            style=\"display:none;\">\n",
              "\n",
              "  <svg xmlns=\"http://www.w3.org/2000/svg\" height=\"24px\" viewBox=\"0 -960 960 960\">\n",
              "    <path d=\"M120-120v-720h720v720H120Zm60-500h600v-160H180v160Zm220 220h160v-160H400v160Zm0 220h160v-160H400v160ZM180-400h160v-160H180v160Zm440 0h160v-160H620v160ZM180-180h160v-160H180v160Zm440 0h160v-160H620v160Z\"/>\n",
              "  </svg>\n",
              "    </button>\n",
              "\n",
              "  <style>\n",
              "    .colab-df-container {\n",
              "      display:flex;\n",
              "      gap: 12px;\n",
              "    }\n",
              "\n",
              "    .colab-df-convert {\n",
              "      background-color: #E8F0FE;\n",
              "      border: none;\n",
              "      border-radius: 50%;\n",
              "      cursor: pointer;\n",
              "      display: none;\n",
              "      fill: #1967D2;\n",
              "      height: 32px;\n",
              "      padding: 0 0 0 0;\n",
              "      width: 32px;\n",
              "    }\n",
              "\n",
              "    .colab-df-convert:hover {\n",
              "      background-color: #E2EBFA;\n",
              "      box-shadow: 0px 1px 2px rgba(60, 64, 67, 0.3), 0px 1px 3px 1px rgba(60, 64, 67, 0.15);\n",
              "      fill: #174EA6;\n",
              "    }\n",
              "\n",
              "    .colab-df-buttons div {\n",
              "      margin-bottom: 4px;\n",
              "    }\n",
              "\n",
              "    [theme=dark] .colab-df-convert {\n",
              "      background-color: #3B4455;\n",
              "      fill: #D2E3FC;\n",
              "    }\n",
              "\n",
              "    [theme=dark] .colab-df-convert:hover {\n",
              "      background-color: #434B5C;\n",
              "      box-shadow: 0px 1px 3px 1px rgba(0, 0, 0, 0.15);\n",
              "      filter: drop-shadow(0px 1px 2px rgba(0, 0, 0, 0.3));\n",
              "      fill: #FFFFFF;\n",
              "    }\n",
              "  </style>\n",
              "\n",
              "    <script>\n",
              "      const buttonEl =\n",
              "        document.querySelector('#df-d7d3f204-b422-48cc-a78e-ac1ec0bfba77 button.colab-df-convert');\n",
              "      buttonEl.style.display =\n",
              "        google.colab.kernel.accessAllowed ? 'block' : 'none';\n",
              "\n",
              "      async function convertToInteractive(key) {\n",
              "        const element = document.querySelector('#df-d7d3f204-b422-48cc-a78e-ac1ec0bfba77');\n",
              "        const dataTable =\n",
              "          await google.colab.kernel.invokeFunction('convertToInteractive',\n",
              "                                                    [key], {});\n",
              "        if (!dataTable) return;\n",
              "\n",
              "        const docLinkHtml = 'Like what you see? Visit the ' +\n",
              "          '<a target=\"_blank\" href=https://colab.research.google.com/notebooks/data_table.ipynb>data table notebook</a>'\n",
              "          + ' to learn more about interactive tables.';\n",
              "        element.innerHTML = '';\n",
              "        dataTable['output_type'] = 'display_data';\n",
              "        await google.colab.output.renderOutput(dataTable, element);\n",
              "        const docLink = document.createElement('div');\n",
              "        docLink.innerHTML = docLinkHtml;\n",
              "        element.appendChild(docLink);\n",
              "      }\n",
              "    </script>\n",
              "  </div>\n",
              "\n",
              "\n",
              "<div id=\"df-c70745f2-6f5a-4df5-9202-e65662fb483c\">\n",
              "  <button class=\"colab-df-quickchart\" onclick=\"quickchart('df-c70745f2-6f5a-4df5-9202-e65662fb483c')\"\n",
              "            title=\"Suggest charts\"\n",
              "            style=\"display:none;\">\n",
              "\n",
              "<svg xmlns=\"http://www.w3.org/2000/svg\" height=\"24px\"viewBox=\"0 0 24 24\"\n",
              "     width=\"24px\">\n",
              "    <g>\n",
              "        <path d=\"M19 3H5c-1.1 0-2 .9-2 2v14c0 1.1.9 2 2 2h14c1.1 0 2-.9 2-2V5c0-1.1-.9-2-2-2zM9 17H7v-7h2v7zm4 0h-2V7h2v10zm4 0h-2v-4h2v4z\"/>\n",
              "    </g>\n",
              "</svg>\n",
              "  </button>\n",
              "\n",
              "<style>\n",
              "  .colab-df-quickchart {\n",
              "      --bg-color: #E8F0FE;\n",
              "      --fill-color: #1967D2;\n",
              "      --hover-bg-color: #E2EBFA;\n",
              "      --hover-fill-color: #174EA6;\n",
              "      --disabled-fill-color: #AAA;\n",
              "      --disabled-bg-color: #DDD;\n",
              "  }\n",
              "\n",
              "  [theme=dark] .colab-df-quickchart {\n",
              "      --bg-color: #3B4455;\n",
              "      --fill-color: #D2E3FC;\n",
              "      --hover-bg-color: #434B5C;\n",
              "      --hover-fill-color: #FFFFFF;\n",
              "      --disabled-bg-color: #3B4455;\n",
              "      --disabled-fill-color: #666;\n",
              "  }\n",
              "\n",
              "  .colab-df-quickchart {\n",
              "    background-color: var(--bg-color);\n",
              "    border: none;\n",
              "    border-radius: 50%;\n",
              "    cursor: pointer;\n",
              "    display: none;\n",
              "    fill: var(--fill-color);\n",
              "    height: 32px;\n",
              "    padding: 0;\n",
              "    width: 32px;\n",
              "  }\n",
              "\n",
              "  .colab-df-quickchart:hover {\n",
              "    background-color: var(--hover-bg-color);\n",
              "    box-shadow: 0 1px 2px rgba(60, 64, 67, 0.3), 0 1px 3px 1px rgba(60, 64, 67, 0.15);\n",
              "    fill: var(--button-hover-fill-color);\n",
              "  }\n",
              "\n",
              "  .colab-df-quickchart-complete:disabled,\n",
              "  .colab-df-quickchart-complete:disabled:hover {\n",
              "    background-color: var(--disabled-bg-color);\n",
              "    fill: var(--disabled-fill-color);\n",
              "    box-shadow: none;\n",
              "  }\n",
              "\n",
              "  .colab-df-spinner {\n",
              "    border: 2px solid var(--fill-color);\n",
              "    border-color: transparent;\n",
              "    border-bottom-color: var(--fill-color);\n",
              "    animation:\n",
              "      spin 1s steps(1) infinite;\n",
              "  }\n",
              "\n",
              "  @keyframes spin {\n",
              "    0% {\n",
              "      border-color: transparent;\n",
              "      border-bottom-color: var(--fill-color);\n",
              "      border-left-color: var(--fill-color);\n",
              "    }\n",
              "    20% {\n",
              "      border-color: transparent;\n",
              "      border-left-color: var(--fill-color);\n",
              "      border-top-color: var(--fill-color);\n",
              "    }\n",
              "    30% {\n",
              "      border-color: transparent;\n",
              "      border-left-color: var(--fill-color);\n",
              "      border-top-color: var(--fill-color);\n",
              "      border-right-color: var(--fill-color);\n",
              "    }\n",
              "    40% {\n",
              "      border-color: transparent;\n",
              "      border-right-color: var(--fill-color);\n",
              "      border-top-color: var(--fill-color);\n",
              "    }\n",
              "    60% {\n",
              "      border-color: transparent;\n",
              "      border-right-color: var(--fill-color);\n",
              "    }\n",
              "    80% {\n",
              "      border-color: transparent;\n",
              "      border-right-color: var(--fill-color);\n",
              "      border-bottom-color: var(--fill-color);\n",
              "    }\n",
              "    90% {\n",
              "      border-color: transparent;\n",
              "      border-bottom-color: var(--fill-color);\n",
              "    }\n",
              "  }\n",
              "</style>\n",
              "\n",
              "  <script>\n",
              "    async function quickchart(key) {\n",
              "      const quickchartButtonEl =\n",
              "        document.querySelector('#' + key + ' button');\n",
              "      quickchartButtonEl.disabled = true;  // To prevent multiple clicks.\n",
              "      quickchartButtonEl.classList.add('colab-df-spinner');\n",
              "      try {\n",
              "        const charts = await google.colab.kernel.invokeFunction(\n",
              "            'suggestCharts', [key], {});\n",
              "      } catch (error) {\n",
              "        console.error('Error during call to suggestCharts:', error);\n",
              "      }\n",
              "      quickchartButtonEl.classList.remove('colab-df-spinner');\n",
              "      quickchartButtonEl.classList.add('colab-df-quickchart-complete');\n",
              "    }\n",
              "    (() => {\n",
              "      let quickchartButtonEl =\n",
              "        document.querySelector('#df-c70745f2-6f5a-4df5-9202-e65662fb483c button');\n",
              "      quickchartButtonEl.style.display =\n",
              "        google.colab.kernel.accessAllowed ? 'block' : 'none';\n",
              "    })();\n",
              "  </script>\n",
              "</div>\n",
              "\n",
              "    </div>\n",
              "  </div>\n"
            ],
            "application/vnd.google.colaboratory.intrinsic+json": {
              "type": "dataframe",
              "variable_name": "df",
              "summary": "{\n  \"name\": \"df\",\n  \"rows\": 1378,\n  \"fields\": [\n    {\n      \"column\": \"id\",\n      \"properties\": {\n        \"dtype\": \"string\",\n        \"num_unique_values\": 1378,\n        \"samples\": [\n          \"70d7c567\",\n          \"81977e6c\",\n          \"e43869b8\"\n        ],\n        \"semantic_type\": \"\",\n        \"description\": \"\"\n      }\n    },\n    {\n      \"column\": \"prompt_id\",\n      \"properties\": {\n        \"dtype\": \"number\",\n        \"std\": 0,\n        \"min\": 0,\n        \"max\": 1,\n        \"num_unique_values\": 2,\n        \"samples\": [\n          1,\n          0\n        ],\n        \"semantic_type\": \"\",\n        \"description\": \"\"\n      }\n    },\n    {\n      \"column\": \"text\",\n      \"properties\": {\n        \"dtype\": \"string\",\n        \"num_unique_values\": 1378,\n        \"samples\": [\n          \"Can you imagine living in a place where there is no driving? It is an amazing thing to think if every person doesn't drive in one big city that it saves so much pollution going in to the air. Another thing to think about is if everyone in a city didn't drive and walked everywhere, more people would stay healthier by staying in shape. Some people think that owning a car is more stressful than just walking everywhere. If you don't own a car you don't have to pay for insurance, don't have to pay for gas, and don't have to pay for repairs when something goes wrong in a vehicle. To me it sounds like there is a lot of advantages in limiting car use.\\n\\nOne solid reason why not using cars as much is the pollution going in the air. In Paris, France motorists with even numbered license plates were ordered to leave their cars at their house or else they would be fined. The next day odd numbered license plates motorists had to leave their vehicles at home. It was a hardship at first to get people to follow these new rules, but after about five days everything started to cool down. The pollution had dropped 60 percent in Paris which is exactly what the city was looking for. Limiting the car usage didn't just save pollution from going in the air, but also there wasn't as much traffic as there usually was. It also made Paris a safer place to be outside and not damage the citizens lungs. The capital city of France also made transportation free MondayFriday to help the cause. Soon enough people that had both license plates could drive on the same day.\\n\\nIn Bogota, Colombia they do a car free day that is becoming popular in that part of the world. It is awesome to think there are 7 million people in that city and none of them are using a car. People that violated this goal on this day were charged a 25 fine. People from other countries came to see how this day worked and they loved it. The mayor of Asuncion, Paraguay said \\\"These people are generating a revolutionary change, and this is crossing borders.\\\" You can just imagine all the benefits of everyone not using a car in a city for a whole day. Restaurants and parks would be visited and used more and everyone would be getting more exercise. All in all this idea was genius.\\n\\nAs you can see limiting car usage can help out the area big time that it is taking place. It is better breathing air, businesses like restaurants and parks would be used more and grow steadily, and the city would be taken care of better.\",\n          \"Limiting car usage could have many advantages on our planet. Many cities, such as Vauban in Germany, have given up on using cars to help the world around them. \\\"vaughn's streets are completely carfree,except the main thoroughfare, where the tram to downtown Freiburg runs, and a few streets on one edge of the community.\\\" There is a movement going on called, \\\"smart planning\\\" and Vauban is just one example of a growing trend in Europe of limiting auto use. The article says that passenger cars are responsible for twelve percent of greenhouse gas emissions in Europe. It seems that the people in Europe are realizing that so much car usage is harming their environment, and they are trying to set a trend for other countries like the United States to follow to limit using cars.\\n\\nHow much people use their cars is very important. Polluted air is a very widespread problem in many regions of the world. Paris had days of nearrecord pollution, and decided to enforce a partial driving ban to try to help clear the air of the city. The article says that almost 4,000 drivers were fined, and twentyseven had their cars impounded for their reaction to the fine. \\\"Congestion was down 60 percent in the capital of France, after five days of intensifying smog.\\\" The driving ban helped clear the smog, because it reduced car emissions. Paris has more smog than many other European capitals, which is why reducing how much citizens drive their cars is a good idea.\\n\\nSome cities have days that are completely car free. Bogota, Colombia is one of them. They have been having a Day Without Cars for three straight years. Cars are banned for the day and buses and taxis are the only exception. The city holds about 7 million people, and had a large turnout. \\\"It's a good opportunity to take away stress and lower air pollution,\\\" said businessman Carlos Arturo Plaza. The mayor of Asuncion, Paraguay even said that, \\\"These people are generating a revolutionary change, and this is crossing borders.\\\" The Day Without Cars has even helped stores and sports center come up throughout the city. Instead of shopping centers along a highway, those stores are now in the city and easy to get to without having to use a car.\\n\\nResearchers have been studying America's ways of car usage and driving. America is home to the first cars like the Model T, or \\\"Mustang Sally.\\\" Vehichles have always been a huge part of culture, but it seems now that that might not be the case anymore. \\\"As of April 2013, the number of miles driven per person was nearly 9 percent below the peak and equal to where the country was in January 1995.\\\" Researchers are actually hoping that the pattern continues because it will have beneficial implications for carbon emissions on the environment. Transportation is the second largest source, behind power plants, of emissions. Many changes have now happened in America, which are making using cars not as important. \\\"With all these changes, people who stopped car commuting as a result of the recession may find less reason to resume the habit..\\\" The article says. If we could slow down the usage of cars and emission, maybe we could help the planet become a better place.\\n\\nSince the percentage of car usage has gone down in America, so has the percentage of getting a license. There has been a large drop in 1639 year olds getting a license, Mr. Sivak's research has found. Older people are also likely to retain their licenses as they age. Mr. Sivak and another man both have children of about the same age, 19 and 21, and live in busy cities where a car could be useful. Neither one of them has their licenses, even though they are interested, but they don't really see the need for one when they can use public transportation or carpool with their friends. The article says that a study last year has also found that driving by young people decreased 23 percent between 2001 and 2009. Whether or not this changes as these young people grow older, these decreases in driving are proving that cars might just not be as important as they used to be.\\n\\nOur planet is just continuing to get worse from emissions from cars. Some countries are starting to realize this and are working hard to limit car usage and have citizens rely just on public transportation, walking, or riding a bike. Bill Ford proposed partnering with the telecommunications industry to create cities in which, \\\"pedestrian, bicycle, private cars, commercial, and public transportation traffic are woven into a connected network to save time, conserve resources, lower emissions, and improve safety.\\\" Citizens all over the world can work together to reduce car usage and better improve our planet.\"\n        ],\n        \"semantic_type\": \"\",\n        \"description\": \"\"\n      }\n    },\n    {\n      \"column\": \"generated\",\n      \"properties\": {\n        \"dtype\": \"number\",\n        \"std\": 0,\n        \"min\": 0,\n        \"max\": 1,\n        \"num_unique_values\": 2,\n        \"samples\": [\n          1,\n          0\n        ],\n        \"semantic_type\": \"\",\n        \"description\": \"\"\n      }\n    },\n    {\n      \"column\": \"label\",\n      \"properties\": {\n        \"dtype\": \"number\",\n        \"std\": 0,\n        \"min\": 0,\n        \"max\": 1,\n        \"num_unique_values\": 2,\n        \"samples\": [\n          1,\n          0\n        ],\n        \"semantic_type\": \"\",\n        \"description\": \"\"\n      }\n    },\n    {\n      \"column\": \"name\",\n      \"properties\": {\n        \"dtype\": \"category\",\n        \"num_unique_values\": 2,\n        \"samples\": [\n          \"fake\",\n          \"real\"\n        ],\n        \"semantic_type\": \"\",\n        \"description\": \"\"\n      }\n    }\n  ]\n}"
            }
          },
          "metadata": {},
          "execution_count": 28
        }
      ]
    },
    {
      "cell_type": "code",
      "source": [
        "print(f\"Length of Train Data: {len(df)}\")"
      ],
      "metadata": {
        "colab": {
          "base_uri": "https://localhost:8080/"
        },
        "id": "Lty5yt80ko6_",
        "outputId": "24f01453-0810-4a27-c855-53036ca1389d"
      },
      "execution_count": 29,
      "outputs": [
        {
          "output_type": "stream",
          "name": "stdout",
          "text": [
            "Length of Train Data: 1378\n"
          ]
        }
      ]
    },
    {
      "cell_type": "code",
      "source": [
        "cmap = mpl.cm.get_cmap('coolwarm')\n",
        "plt.figure(figsize=(8, 4))\n",
        "df.name.value_counts().plot.bar(color=[cmap(0.0), cmap(0.25), cmap(0.65), cmap(0.9), cmap(1.0)])\n",
        "plt.xlabel(\"Class\")\n",
        "plt.ylabel(\"Count\")\n",
        "plt.title(\"Class distribution for Train Data\")\n",
        "plt.show()"
      ],
      "metadata": {
        "colab": {
          "base_uri": "https://localhost:8080/",
          "height": 481
        },
        "id": "3K-Sy7HvlUFb",
        "outputId": "88e1bc94-2771-4f57-9dba-dc982276e831"
      },
      "execution_count": 30,
      "outputs": [
        {
          "output_type": "stream",
          "name": "stderr",
          "text": [
            "<ipython-input-30-2445fa490221>:1: MatplotlibDeprecationWarning: The get_cmap function was deprecated in Matplotlib 3.7 and will be removed two minor releases later. Use ``matplotlib.colormaps[name]`` or ``matplotlib.colormaps.get_cmap(obj)`` instead.\n",
            "  cmap = mpl.cm.get_cmap('coolwarm')\n"
          ]
        },
        {
          "output_type": "display_data",
          "data": {
            "text/plain": [
              "<Figure size 800x400 with 1 Axes>"
            ],
            "image/png": "[encoded data removed]"
          },
          "metadata": {}
        }
      ]
    },
    {
      "cell_type": "code",
      "source": [
        "# load external data\n",
        "ext_data1 = pd.read_csv(\"train_drcat_04.csv\")\n",
        "ext_data2 = pd.read_csv(\"argugpt.csv\")[[\"id\",\"text\",\"model\"]]\n",
        "\n",
        "ext_data2.rename(columns = {'model':'source'}, inplace = True)\n",
        "ext_data2[\"label\"] = 1\n",
        "\n",
        "ext_df = pd.concat([\n",
        "    ext_data1[ext_data1.source == 'persuade_corpus'].sample(10000),\n",
        "    ext_data1[ext_data1.source!='persuade_corpus'],\n",
        "])\n",
        "\n",
        "ext_df['name'] = ext_df.label.map(CFG.label2name)\n",
        "\n",
        "print(f'length of the External Data: {len(ext_df)}')"
      ],
      "metadata": {
        "colab": {
          "base_uri": "https://localhost:8080/"
        },
        "id": "k5zYX-NKmWGZ",
        "outputId": "acf4a7d2-9be2-4ccf-b2c2-e89ad9576dbd"
      },
      "execution_count": 31,
      "outputs": [
        {
          "output_type": "stream",
          "name": "stdout",
          "text": [
            "length of the External Data: 28210\n"
          ]
        }
      ]
    },
    {
      "cell_type": "code",
      "source": [
        "ext_df.head()"
      ],
      "metadata": {
        "colab": {
          "base_uri": "https://localhost:8080/",
          "height": 206
        },
        "id": "AhbcPoqlvjIN",
        "outputId": "798f1a4a-4bf6-472a-b961-1b44f6b790f4"
      },
      "execution_count": 32,
      "outputs": [
        {
          "output_type": "execute_result",
          "data": {
            "text/plain": [
              "           essay_id                                               text  label  \\\n",
              "20120  83BB96F966DB  Students would benefit from being able to atte...      0   \n",
              "43529  80D6E256AA49  Landform or alien? The face on Mars looks pret...      0   \n",
              "2942   4A028F63CFCA  The human body is a complex network of muscles...      0   \n",
              "2977   5782F64504B9  Summer projects are a means by which schools a...      0   \n",
              "31921  97DD2D770B03  Dear Mr. Senator,\\n\\nI have decided to express...      0   \n",
              "\n",
              "                source prompt  fold  name  \n",
              "20120  persuade_corpus    NaN     2  real  \n",
              "43529  persuade_corpus    NaN     2  real  \n",
              "2942   persuade_corpus    NaN     7  real  \n",
              "2977   persuade_corpus    NaN     9  real  \n",
              "31921  persuade_corpus    NaN     6  real  "
            ],
            "text/html": [
              "\n",
              "  <div id=\"df-33c7ce92-ea85-4059-8f9e-54261643fd69\" class=\"colab-df-container\">\n",
              "    <div>\n",
              "<style scoped>\n",
              "    .dataframe tbody tr th:only-of-type {\n",
              "        vertical-align: middle;\n",
              "    }\n",
              "\n",
              "    .dataframe tbody tr th {\n",
              "        vertical-align: top;\n",
              "    }\n",
              "\n",
              "    .dataframe thead th {\n",
              "        text-align: right;\n",
              "    }\n",
              "</style>\n",
              "<table border=\"1\" class=\"dataframe\">\n",
              "  <thead>\n",
              "    <tr style=\"text-align: right;\">\n",
              "      <th></th>\n",
              "      <th>essay_id</th>\n",
              "      <th>text</th>\n",
              "      <th>label</th>\n",
              "      <th>source</th>\n",
              "      <th>prompt</th>\n",
              "      <th>fold</th>\n",
              "      <th>name</th>\n",
              "    </tr>\n",
              "  </thead>\n",
              "  <tbody>\n",
              "    <tr>\n",
              "      <th>20120</th>\n",
              "      <td>83BB96F966DB</td>\n",
              "      <td>Students would benefit from being able to atte...</td>\n",
              "      <td>0</td>\n",
              "      <td>persuade_corpus</td>\n",
              "      <td>NaN</td>\n",
              "      <td>2</td>\n",
              "      <td>real</td>\n",
              "    </tr>\n",
              "    <tr>\n",
              "      <th>43529</th>\n",
              "      <td>80D6E256AA49</td>\n",
              "      <td>Landform or alien? The face on Mars looks pret...</td>\n",
              "      <td>0</td>\n",
              "      <td>persuade_corpus</td>\n",
              "      <td>NaN</td>\n",
              "      <td>2</td>\n",
              "      <td>real</td>\n",
              "    </tr>\n",
              "    <tr>\n",
              "      <th>2942</th>\n",
              "      <td>4A028F63CFCA</td>\n",
              "      <td>The human body is a complex network of muscles...</td>\n",
              "      <td>0</td>\n",
              "      <td>persuade_corpus</td>\n",
              "      <td>NaN</td>\n",
              "      <td>7</td>\n",
              "      <td>real</td>\n",
              "    </tr>\n",
              "    <tr>\n",
              "      <th>2977</th>\n",
              "      <td>5782F64504B9</td>\n",
              "      <td>Summer projects are a means by which schools a...</td>\n",
              "      <td>0</td>\n",
              "      <td>persuade_corpus</td>\n",
              "      <td>NaN</td>\n",
              "      <td>9</td>\n",
              "      <td>real</td>\n",
              "    </tr>\n",
              "    <tr>\n",
              "      <th>31921</th>\n",
              "      <td>97DD2D770B03</td>\n",
              "      <td>Dear Mr. Senator,\\n\\nI have decided to express...</td>\n",
              "      <td>0</td>\n",
              "      <td>persuade_corpus</td>\n",
              "      <td>NaN</td>\n",
              "      <td>6</td>\n",
              "      <td>real</td>\n",
              "    </tr>\n",
              "  </tbody>\n",
              "</table>\n",
              "</div>\n",
              "    <div class=\"colab-df-buttons\">\n",
              "\n",
              "  <div class=\"colab-df-container\">\n",
              "    <button class=\"colab-df-convert\" onclick=\"convertToInteractive('df-33c7ce92-ea85-4059-8f9e-54261643fd69')\"\n",
              "            title=\"Convert this dataframe to an interactive table.\"\n",
              "            style=\"display:none;\">\n",
              "\n",
              "  <svg xmlns=\"http://www.w3.org/2000/svg\" height=\"24px\" viewBox=\"0 -960 960 960\">\n",
              "    <path d=\"M120-120v-720h720v720H120Zm60-500h600v-160H180v160Zm220 220h160v-160H400v160Zm0 220h160v-160H400v160ZM180-400h160v-160H180v160Zm440 0h160v-160H620v160ZM180-180h160v-160H180v160Zm440 0h160v-160H620v160Z\"/>\n",
              "  </svg>\n",
              "    </button>\n",
              "\n",
              "  <style>\n",
              "    .colab-df-container {\n",
              "      display:flex;\n",
              "      gap: 12px;\n",
              "    }\n",
              "\n",
              "    .colab-df-convert {\n",
              "      background-color: #E8F0FE;\n",
              "      border: none;\n",
              "      border-radius: 50%;\n",
              "      cursor: pointer;\n",
              "      display: none;\n",
              "      fill: #1967D2;\n",
              "      height: 32px;\n",
              "      padding: 0 0 0 0;\n",
              "      width: 32px;\n",
              "    }\n",
              "\n",
              "    .colab-df-convert:hover {\n",
              "      background-color: #E2EBFA;\n",
              "      box-shadow: 0px 1px 2px rgba(60, 64, 67, 0.3), 0px 1px 3px 1px rgba(60, 64, 67, 0.15);\n",
              "      fill: #174EA6;\n",
              "    }\n",
              "\n",
              "    .colab-df-buttons div {\n",
              "      margin-bottom: 4px;\n",
              "    }\n",
              "\n",
              "    [theme=dark] .colab-df-convert {\n",
              "      background-color: #3B4455;\n",
              "      fill: #D2E3FC;\n",
              "    }\n",
              "\n",
              "    [theme=dark] .colab-df-convert:hover {\n",
              "      background-color: #434B5C;\n",
              "      box-shadow: 0px 1px 3px 1px rgba(0, 0, 0, 0.15);\n",
              "      filter: drop-shadow(0px 1px 2px rgba(0, 0, 0, 0.3));\n",
              "      fill: #FFFFFF;\n",
              "    }\n",
              "  </style>\n",
              "\n",
              "    <script>\n",
              "      const buttonEl =\n",
              "        document.querySelector('#df-33c7ce92-ea85-4059-8f9e-54261643fd69 button.colab-df-convert');\n",
              "      buttonEl.style.display =\n",
              "        google.colab.kernel.accessAllowed ? 'block' : 'none';\n",
              "\n",
              "      async function convertToInteractive(key) {\n",
              "        const element = document.querySelector('#df-33c7ce92-ea85-4059-8f9e-54261643fd69');\n",
              "        const dataTable =\n",
              "          await google.colab.kernel.invokeFunction('convertToInteractive',\n",
              "                                                    [key], {});\n",
              "        if (!dataTable) return;\n",
              "\n",
              "        const docLinkHtml = 'Like what you see? Visit the ' +\n",
              "          '<a target=\"_blank\" href=https://colab.research.google.com/notebooks/data_table.ipynb>data table notebook</a>'\n",
              "          + ' to learn more about interactive tables.';\n",
              "        element.innerHTML = '';\n",
              "        dataTable['output_type'] = 'display_data';\n",
              "        await google.colab.output.renderOutput(dataTable, element);\n",
              "        const docLink = document.createElement('div');\n",
              "        docLink.innerHTML = docLinkHtml;\n",
              "        element.appendChild(docLink);\n",
              "      }\n",
              "    </script>\n",
              "  </div>\n",
              "\n",
              "\n",
              "<div id=\"df-2b5f911d-6376-4c51-bd2a-83bc7a03a196\">\n",
              "  <button class=\"colab-df-quickchart\" onclick=\"quickchart('df-2b5f911d-6376-4c51-bd2a-83bc7a03a196')\"\n",
              "            title=\"Suggest charts\"\n",
              "            style=\"display:none;\">\n",
              "\n",
              "<svg xmlns=\"http://www.w3.org/2000/svg\" height=\"24px\"viewBox=\"0 0 24 24\"\n",
              "     width=\"24px\">\n",
              "    <g>\n",
              "        <path d=\"M19 3H5c-1.1 0-2 .9-2 2v14c0 1.1.9 2 2 2h14c1.1 0 2-.9 2-2V5c0-1.1-.9-2-2-2zM9 17H7v-7h2v7zm4 0h-2V7h2v10zm4 0h-2v-4h2v4z\"/>\n",
              "    </g>\n",
              "</svg>\n",
              "  </button>\n",
              "\n",
              "<style>\n",
              "  .colab-df-quickchart {\n",
              "      --bg-color: #E8F0FE;\n",
              "      --fill-color: #1967D2;\n",
              "      --hover-bg-color: #E2EBFA;\n",
              "      --hover-fill-color: #174EA6;\n",
              "      --disabled-fill-color: #AAA;\n",
              "      --disabled-bg-color: #DDD;\n",
              "  }\n",
              "\n",
              "  [theme=dark] .colab-df-quickchart {\n",
              "      --bg-color: #3B4455;\n",
              "      --fill-color: #D2E3FC;\n",
              "      --hover-bg-color: #434B5C;\n",
              "      --hover-fill-color: #FFFFFF;\n",
              "      --disabled-bg-color: #3B4455;\n",
              "      --disabled-fill-color: #666;\n",
              "  }\n",
              "\n",
              "  .colab-df-quickchart {\n",
              "    background-color: var(--bg-color);\n",
              "    border: none;\n",
              "    border-radius: 50%;\n",
              "    cursor: pointer;\n",
              "    display: none;\n",
              "    fill: var(--fill-color);\n",
              "    height: 32px;\n",
              "    padding: 0;\n",
              "    width: 32px;\n",
              "  }\n",
              "\n",
              "  .colab-df-quickchart:hover {\n",
              "    background-color: var(--hover-bg-color);\n",
              "    box-shadow: 0 1px 2px rgba(60, 64, 67, 0.3), 0 1px 3px 1px rgba(60, 64, 67, 0.15);\n",
              "    fill: var(--button-hover-fill-color);\n",
              "  }\n",
              "\n",
              "  .colab-df-quickchart-complete:disabled,\n",
              "  .colab-df-quickchart-complete:disabled:hover {\n",
              "    background-color: var(--disabled-bg-color);\n",
              "    fill: var(--disabled-fill-color);\n",
              "    box-shadow: none;\n",
              "  }\n",
              "\n",
              "  .colab-df-spinner {\n",
              "    border: 2px solid var(--fill-color);\n",
              "    border-color: transparent;\n",
              "    border-bottom-color: var(--fill-color);\n",
              "    animation:\n",
              "      spin 1s steps(1) infinite;\n",
              "  }\n",
              "\n",
              "  @keyframes spin {\n",
              "    0% {\n",
              "      border-color: transparent;\n",
              "      border-bottom-color: var(--fill-color);\n",
              "      border-left-color: var(--fill-color);\n",
              "    }\n",
              "    20% {\n",
              "      border-color: transparent;\n",
              "      border-left-color: var(--fill-color);\n",
              "      border-top-color: var(--fill-color);\n",
              "    }\n",
              "    30% {\n",
              "      border-color: transparent;\n",
              "      border-left-color: var(--fill-color);\n",
              "      border-top-color: var(--fill-color);\n",
              "      border-right-color: var(--fill-color);\n",
              "    }\n",
              "    40% {\n",
              "      border-color: transparent;\n",
              "      border-right-color: var(--fill-color);\n",
              "      border-top-color: var(--fill-color);\n",
              "    }\n",
              "    60% {\n",
              "      border-color: transparent;\n",
              "      border-right-color: var(--fill-color);\n",
              "    }\n",
              "    80% {\n",
              "      border-color: transparent;\n",
              "      border-right-color: var(--fill-color);\n",
              "      border-bottom-color: var(--fill-color);\n",
              "    }\n",
              "    90% {\n",
              "      border-color: transparent;\n",
              "      border-bottom-color: var(--fill-color);\n",
              "    }\n",
              "  }\n",
              "</style>\n",
              "\n",
              "  <script>\n",
              "    async function quickchart(key) {\n",
              "      const quickchartButtonEl =\n",
              "        document.querySelector('#' + key + ' button');\n",
              "      quickchartButtonEl.disabled = true;  // To prevent multiple clicks.\n",
              "      quickchartButtonEl.classList.add('colab-df-spinner');\n",
              "      try {\n",
              "        const charts = await google.colab.kernel.invokeFunction(\n",
              "            'suggestCharts', [key], {});\n",
              "      } catch (error) {\n",
              "        console.error('Error during call to suggestCharts:', error);\n",
              "      }\n",
              "      quickchartButtonEl.classList.remove('colab-df-spinner');\n",
              "      quickchartButtonEl.classList.add('colab-df-quickchart-complete');\n",
              "    }\n",
              "    (() => {\n",
              "      let quickchartButtonEl =\n",
              "        document.querySelector('#df-2b5f911d-6376-4c51-bd2a-83bc7a03a196 button');\n",
              "      quickchartButtonEl.style.display =\n",
              "        google.colab.kernel.accessAllowed ? 'block' : 'none';\n",
              "    })();\n",
              "  </script>\n",
              "</div>\n",
              "\n",
              "    </div>\n",
              "  </div>\n"
            ],
            "application/vnd.google.colaboratory.intrinsic+json": {
              "type": "dataframe",
              "variable_name": "ext_df",
              "summary": "{\n  \"name\": \"ext_df\",\n  \"rows\": 28210,\n  \"fields\": [\n    {\n      \"column\": \"essay_id\",\n      \"properties\": {\n        \"dtype\": \"string\",\n        \"num_unique_values\": 18425,\n        \"samples\": [\n          \"7122947449EE\",\n          \"llama_70b_v1328\",\n          \"C9BA274FDEBC\"\n        ],\n        \"semantic_type\": \"\",\n        \"description\": \"\"\n      }\n    },\n    {\n      \"column\": \"text\",\n      \"properties\": {\n        \"dtype\": \"string\",\n        \"num_unique_values\": 28184,\n        \"samples\": [\n          \"Are driverless cars really the future of transportation? Some say yes, while others are skeptical. Me, personally, I think that driverless cars are a bad idea. The article \\u201cDriverless Cars are Coming\\u201d by [author\\u2019s name] presents both the pros and cons of this technology, and I\\u2019m gonna use some of those details to argue against driverless cars.\\n\\nFirst of all, let\\u2019s talk about the safety concerns. According to the article, driverless cars rely on sensors and software to navigate roads, which means that there\\u2019s a high risk of technical failure. Just imagine you\\u2019re cruising down the highway, and suddenly your car\\u2019s sensors malfunction, causing it to swerve into oncoming traffic. That\\u2019s a nightmare scenario that no one wants to experience. Plus, the article mentions that driverless cars might not be able to fully eliminate accidents caused by human error, since they\\u2019ll still have to share the road with human-driven vehicles. So, the safety benefits of driverless cars aren\\u2019t as clear-cut as some people claim.\\n\\nAnother issue with driverless cars is their potential impact on jobs. The article states that driverless cars could lead to a loss of jobs for human drivers, like truckers and taxi drivers. That\\u2019s a major concern, since these jobs provide livelihoods for millions of people. We shouldn\\u2019t just dismiss their interests and switch to a new technology without considering the consequences. It\\u2019s important to think about how this change will affect ordinary people and their families.\\n\\nFurthermore, I think driverless cars will make us lose our driving skills. If we rely on cars to do all the work for us, we\\u2019ll forget how to drive ourselves. That might not seem like a big deal, but it\\u2019s important to have some basic skills, like being able to drive a car, in case of emergencies. What if there\\u2019s a blackout or a system failure? We\\u2019ll be helpless if we don\\u2019t know how to drive.\\n\\nFinally, driverless cars just aren\\u2019t as fun as driving yourself. I know that some people might disagree, but for me, driving is a thrill. I enjoy the feeling of being in control of a car, the wind in my hair, and the freedom to go wherever I want. With driverless cars, that\\u2019ll all be gone. We\\u2019ll become passive passengers, relying on a machine to take us places instead of experiencing the joy of driving ourselves.\\n\\nIn conclusion, while some people might see driverless cars as the future, I think they\\u2019re a bad idea. There are too many safety concerns, job losses, and a loss of driving skills to make them worth it. And let\\u2019s not forget the fun of driving, which we\\u2019ll lose if we switch to driverless cars. So, let\\u2019s slow down and think carefully before embracing this technology. Maybe we should focus on improving public transportation or investing in electric cars instead. There are better ways to make transportation more efficient and sustainable without relying on driverless cars.\",\n          \"An old adverb can hurt someone no matter if it's through songs,books or movies. It can hurt us in any way and the adverbs matter a lot of your typing and use the wrong verb.\\n\\nIt can bring down your grade but you can practice everyday to get better at writing and know your verbs.\\n\\nDepending on the verb if its right or wrong if its wrong your grade goes down lets say if you have a 96 on a test and the verb is bad.\\n\\nIt will go down to a 94 if its more then the lower your grade goes and if its right you have no problems with typing. A correct prompt\\n\\nYou can even miss a verb if your not careful enough. Anything can hurt your grade by being small things to big things including miss spelling.\\n\\nBad verbs can be everywhere including movies and books to scripts that's why people have to be extra careful typing. spelling. reading and pronouncing a word.\\n\\nThat's why you have to be extra careful and read the sentence over and over again till you know it's correct and to see if its all good. if you do it good enough you might be looking at a grade thats would be higher than a c but if you dont at least a c or a d and it couldnt be bad. But your grade means anything more in school and you should take good care of it to. if you want to keep making your parents proud and get rewards too. so thats the good thing about it to keep a higher grade\",\n          \"[Your Name]\\n[Your Address]\\n[City, State, Zip]\\n[Email Address]\\n[Phone Number]\\n[Date]\\n\\n[Senator's Name]\\n[Senator's Address]\\n[City, State, Zip]\\n\\nDear Senator [Senator's Last Name],\\n\\nI am writing to express my strong support for the Electoral College as a method of electing the President of the United States. While some argue for the election of the president by popular vote, I believe that the Electoral College is a fair and balanced system that ensures a more accurate representation of the American people.\\n\\nOne of the key advantages of the Electoral College is the certainty of outcome it provides. As stated by Judge Richard A. Posner, the winning candidate's share of the Electoral College consistently exceeds their share of the popular vote. This is due to the winner-take-all system in most states, which guarantees a clear mandate for the president-elect. This certainty helps to avoid disputes and potential crises that could arise from a close popular vote, as was seen in the controversial 2000 election.\\n\\nAnother important point in favor of the Electoral College is the principle of \\\"everyone's president.\\\" This system requires a presidential candidate to have trans-regional appeal, ensuring that no single region or group dominates the election. This encourages candidates to campaign in all regions of the country and gives all Americans a sense of representation. If the president were elected solely by popular vote, candidates might focus only on densely populated areas or regions that align with their party's ideology, potentially leaving large sections of the country feeling unheard and unrepresented.\\n\\nThe Electoral College also gives weight to swing states, which holds several benefits. By focusing campaign efforts on states where the election outcome is uncertain, candidates must consider the interests and concerns of those voters. This attention to swing states encourages candidates to present more nuanced and comprehensive policies that address the needs of diverse communities across the country. Furthermore, swing states generate more engagement and participation from citizens, as they understand that their votes could have a significant impact on the outcome of the election.\\n\\nAdditionally, the Electoral College balances the influence of big and small states. While the popular vote could favor the interests and concerns of densely populated states, the Electoral College ensures that smaller states are not left out. By granting each state a minimum of three electoral votes (representing their senators), the system ensures that candidates must consider the concerns of all states. This is particularly important in ensuring fairness and representation for states with smaller populations.\\n\\nLastly, the Electoral College avoids the need for run-off elections, which can be time-consuming and expensive. By consistently producing a clear winner, the Electoral College streamlines the election process and allows for a smoother transition of power.\\n\\nWhile critics argue that the Electoral College may discourage potential voters in non-competitive states, it is important to note that voter turnout has remained relatively high despite this perceived issue. Additionally, every vote is still important, as it contributes to the popular vote totals and can influence the allocation of electoral votes in a state.\\n\\nIn conclusion, the Electoral College is a time-tested system that balances the interests and concerns of diverse regions, states, and populations. It provides certainty of outcome, encourages trans-regional appeal, gives weight to swing states, balances the influence of big and small states, and avoids run-off elections. These advantages make it an effective and fair method of electing the President of the United States.\\n\\nThank you for considering my perspective on this important matter. I urge you to support the continuation of the Electoral College in order to maintain a system that best represents the interests and values of all Americans.\\n\\nSincerely,\\n\\n[Your Name]\"\n        ],\n        \"semantic_type\": \"\",\n        \"description\": \"\"\n      }\n    },\n    {\n      \"column\": \"label\",\n      \"properties\": {\n        \"dtype\": \"number\",\n        \"std\": 0,\n        \"min\": 0,\n        \"max\": 1,\n        \"num_unique_values\": 2,\n        \"samples\": [\n          1,\n          0\n        ],\n        \"semantic_type\": \"\",\n        \"description\": \"\"\n      }\n    },\n    {\n      \"column\": \"source\",\n      \"properties\": {\n        \"dtype\": \"category\",\n        \"num_unique_values\": 12,\n        \"samples\": [\n          \"falcon_180b_v1\",\n          \"llama2_chat\"\n        ],\n        \"semantic_type\": \"\",\n        \"description\": \"\"\n      }\n    },\n    {\n      \"column\": \"prompt\",\n      \"properties\": {\n        \"dtype\": \"category\",\n        \"num_unique_values\": 4880,\n        \"samples\": [\n          \"\\nTask: Write an essay discussing the reasons why students should not be allowed to use cell phones for educational purposes in the classroom. Include evidence supporting your argument.\",\n          \"Task: Research various careers to decide what specific career to pursue in high school. Visit medical and mechanic workshops to gain information about specific careers. Determine what courses to take in high school and explore how to best prepare yourself for the future. Research how to enjoy the courses you take while achieving the best grades possible.\"\n        ],\n        \"semantic_type\": \"\",\n        \"description\": \"\"\n      }\n    },\n    {\n      \"column\": \"fold\",\n      \"properties\": {\n        \"dtype\": \"number\",\n        \"std\": 2,\n        \"min\": 0,\n        \"max\": 9,\n        \"num_unique_values\": 10,\n        \"samples\": [\n          3,\n          7\n        ],\n        \"semantic_type\": \"\",\n        \"description\": \"\"\n      }\n    },\n    {\n      \"column\": \"name\",\n      \"properties\": {\n        \"dtype\": \"category\",\n        \"num_unique_values\": 2,\n        \"samples\": [\n          \"fake\",\n          \"real\"\n        ],\n        \"semantic_type\": \"\",\n        \"description\": \"\"\n      }\n    }\n  ]\n}"
            }
          },
          "metadata": {},
          "execution_count": 32
        }
      ]
    },
    {
      "cell_type": "code",
      "source": [
        "plt.figure(figsize=(8, 4))\n",
        "ext_df.name.value_counts().plot.bar(color=[cmap(0.0), cmap(0.65)])\n",
        "plt.xlabel(\"Class\")\n",
        "plt.ylabel(\"Count\")\n",
        "plt.title(\"Answer distribution for External Data\")\n",
        "plt.show()"
      ],
      "metadata": {
        "colab": {
          "base_uri": "https://localhost:8080/",
          "height": 426
        },
        "id": "hTa4c3ostO48",
        "outputId": "4a0013a3-6a80-4dd4-f326-1d38560dc285"
      },
      "execution_count": 33,
      "outputs": [
        {
          "output_type": "display_data",
          "data": {
            "text/plain": [
              "<Figure size 800x400 with 1 Axes>"
            ],
            "image/png": "[encoded data removed]"
          },
          "metadata": {}
        }
      ]
    },
    {
      "cell_type": "markdown",
      "source": [
        "### Combine External and Train Data"
      ],
      "metadata": {
        "id": "RTUn_wNzvtZS"
      }
    },
    {
      "cell_type": "code",
      "source": [
        "#data=pd.concat([df,ext_df])\n",
        "df = ext_df.copy().reset_index(drop=True)\n",
        "print(f'length of the Combined Data: {len(df)}')\n",
        "df.head()"
      ],
      "metadata": {
        "colab": {
          "base_uri": "https://localhost:8080/",
          "height": 224
        },
        "id": "ccyvHzhsvzEH",
        "outputId": "941f49ba-98bb-4caf-b43b-4096ed933987"
      },
      "execution_count": 34,
      "outputs": [
        {
          "output_type": "stream",
          "name": "stdout",
          "text": [
            "length of the Combined Data: 28210\n"
          ]
        },
        {
          "output_type": "execute_result",
          "data": {
            "text/plain": [
              "       essay_id                                               text  label  \\\n",
              "0  83BB96F966DB  Students would benefit from being able to atte...      0   \n",
              "1  80D6E256AA49  Landform or alien? The face on Mars looks pret...      0   \n",
              "2  4A028F63CFCA  The human body is a complex network of muscles...      0   \n",
              "3  5782F64504B9  Summer projects are a means by which schools a...      0   \n",
              "4  97DD2D770B03  Dear Mr. Senator,\\n\\nI have decided to express...      0   \n",
              "\n",
              "            source prompt  fold  name  \n",
              "0  persuade_corpus    NaN     2  real  \n",
              "1  persuade_corpus    NaN     2  real  \n",
              "2  persuade_corpus    NaN     7  real  \n",
              "3  persuade_corpus    NaN     9  real  \n",
              "4  persuade_corpus    NaN     6  real  "
            ],
            "text/html": [
              "\n",
              "  <div id=\"df-f2b60263-3239-4a65-b942-e21aa38bc7dc\" class=\"colab-df-container\">\n",
              "    <div>\n",
              "<style scoped>\n",
              "    .dataframe tbody tr th:only-of-type {\n",
              "        vertical-align: middle;\n",
              "    }\n",
              "\n",
              "    .dataframe tbody tr th {\n",
              "        vertical-align: top;\n",
              "    }\n",
              "\n",
              "    .dataframe thead th {\n",
              "        text-align: right;\n",
              "    }\n",
              "</style>\n",
              "<table border=\"1\" class=\"dataframe\">\n",
              "  <thead>\n",
              "    <tr style=\"text-align: right;\">\n",
              "      <th></th>\n",
              "      <th>essay_id</th>\n",
              "      <th>text</th>\n",
              "      <th>label</th>\n",
              "      <th>source</th>\n",
              "      <th>prompt</th>\n",
              "      <th>fold</th>\n",
              "      <th>name</th>\n",
              "    </tr>\n",
              "  </thead>\n",
              "  <tbody>\n",
              "    <tr>\n",
              "      <th>0</th>\n",
              "      <td>83BB96F966DB</td>\n",
              "      <td>Students would benefit from being able to atte...</td>\n",
              "      <td>0</td>\n",
              "      <td>persuade_corpus</td>\n",
              "      <td>NaN</td>\n",
              "      <td>2</td>\n",
              "      <td>real</td>\n",
              "    </tr>\n",
              "    <tr>\n",
              "      <th>1</th>\n",
              "      <td>80D6E256AA49</td>\n",
              "      <td>Landform or alien? The face on Mars looks pret...</td>\n",
              "      <td>0</td>\n",
              "      <td>persuade_corpus</td>\n",
              "      <td>NaN</td>\n",
              "      <td>2</td>\n",
              "      <td>real</td>\n",
              "    </tr>\n",
              "    <tr>\n",
              "      <th>2</th>\n",
              "      <td>4A028F63CFCA</td>\n",
              "      <td>The human body is a complex network of muscles...</td>\n",
              "      <td>0</td>\n",
              "      <td>persuade_corpus</td>\n",
              "      <td>NaN</td>\n",
              "      <td>7</td>\n",
              "      <td>real</td>\n",
              "    </tr>\n",
              "    <tr>\n",
              "      <th>3</th>\n",
              "      <td>5782F64504B9</td>\n",
              "      <td>Summer projects are a means by which schools a...</td>\n",
              "      <td>0</td>\n",
              "      <td>persuade_corpus</td>\n",
              "      <td>NaN</td>\n",
              "      <td>9</td>\n",
              "      <td>real</td>\n",
              "    </tr>\n",
              "    <tr>\n",
              "      <th>4</th>\n",
              "      <td>97DD2D770B03</td>\n",
              "      <td>Dear Mr. Senator,\\n\\nI have decided to express...</td>\n",
              "      <td>0</td>\n",
              "      <td>persuade_corpus</td>\n",
              "      <td>NaN</td>\n",
              "      <td>6</td>\n",
              "      <td>real</td>\n",
              "    </tr>\n",
              "  </tbody>\n",
              "</table>\n",
              "</div>\n",
              "    <div class=\"colab-df-buttons\">\n",
              "\n",
              "  <div class=\"colab-df-container\">\n",
              "    <button class=\"colab-df-convert\" onclick=\"convertToInteractive('df-f2b60263-3239-4a65-b942-e21aa38bc7dc')\"\n",
              "            title=\"Convert this dataframe to an interactive table.\"\n",
              "            style=\"display:none;\">\n",
              "\n",
              "  <svg xmlns=\"http://www.w3.org/2000/svg\" height=\"24px\" viewBox=\"0 -960 960 960\">\n",
              "    <path d=\"M120-120v-720h720v720H120Zm60-500h600v-160H180v160Zm220 220h160v-160H400v160Zm0 220h160v-160H400v160ZM180-400h160v-160H180v160Zm440 0h160v-160H620v160ZM180-180h160v-160H180v160Zm440 0h160v-160H620v160Z\"/>\n",
              "  </svg>\n",
              "    </button>\n",
              "\n",
              "  <style>\n",
              "    .colab-df-container {\n",
              "      display:flex;\n",
              "      gap: 12px;\n",
              "    }\n",
              "\n",
              "    .colab-df-convert {\n",
              "      background-color: #E8F0FE;\n",
              "      border: none;\n",
              "      border-radius: 50%;\n",
              "      cursor: pointer;\n",
              "      display: none;\n",
              "      fill: #1967D2;\n",
              "      height: 32px;\n",
              "      padding: 0 0 0 0;\n",
              "      width: 32px;\n",
              "    }\n",
              "\n",
              "    .colab-df-convert:hover {\n",
              "      background-color: #E2EBFA;\n",
              "      box-shadow: 0px 1px 2px rgba(60, 64, 67, 0.3), 0px 1px 3px 1px rgba(60, 64, 67, 0.15);\n",
              "      fill: #174EA6;\n",
              "    }\n",
              "\n",
              "    .colab-df-buttons div {\n",
              "      margin-bottom: 4px;\n",
              "    }\n",
              "\n",
              "    [theme=dark] .colab-df-convert {\n",
              "      background-color: #3B4455;\n",
              "      fill: #D2E3FC;\n",
              "    }\n",
              "\n",
              "    [theme=dark] .colab-df-convert:hover {\n",
              "      background-color: #434B5C;\n",
              "      box-shadow: 0px 1px 3px 1px rgba(0, 0, 0, 0.15);\n",
              "      filter: drop-shadow(0px 1px 2px rgba(0, 0, 0, 0.3));\n",
              "      fill: #FFFFFF;\n",
              "    }\n",
              "  </style>\n",
              "\n",
              "    <script>\n",
              "      const buttonEl =\n",
              "        document.querySelector('#df-f2b60263-3239-4a65-b942-e21aa38bc7dc button.colab-df-convert');\n",
              "      buttonEl.style.display =\n",
              "        google.colab.kernel.accessAllowed ? 'block' : 'none';\n",
              "\n",
              "      async function convertToInteractive(key) {\n",
              "        const element = document.querySelector('#df-f2b60263-3239-4a65-b942-e21aa38bc7dc');\n",
              "        const dataTable =\n",
              "          await google.colab.kernel.invokeFunction('convertToInteractive',\n",
              "                                                    [key], {});\n",
              "        if (!dataTable) return;\n",
              "\n",
              "        const docLinkHtml = 'Like what you see? Visit the ' +\n",
              "          '<a target=\"_blank\" href=https://colab.research.google.com/notebooks/data_table.ipynb>data table notebook</a>'\n",
              "          + ' to learn more about interactive tables.';\n",
              "        element.innerHTML = '';\n",
              "        dataTable['output_type'] = 'display_data';\n",
              "        await google.colab.output.renderOutput(dataTable, element);\n",
              "        const docLink = document.createElement('div');\n",
              "        docLink.innerHTML = docLinkHtml;\n",
              "        element.appendChild(docLink);\n",
              "      }\n",
              "    </script>\n",
              "  </div>\n",
              "\n",
              "\n",
              "<div id=\"df-c91a5469-6912-44f2-ac19-b239c8c57fdf\">\n",
              "  <button class=\"colab-df-quickchart\" onclick=\"quickchart('df-c91a5469-6912-44f2-ac19-b239c8c57fdf')\"\n",
              "            title=\"Suggest charts\"\n",
              "            style=\"display:none;\">\n",
              "\n",
              "<svg xmlns=\"http://www.w3.org/2000/svg\" height=\"24px\"viewBox=\"0 0 24 24\"\n",
              "     width=\"24px\">\n",
              "    <g>\n",
              "        <path d=\"M19 3H5c-1.1 0-2 .9-2 2v14c0 1.1.9 2 2 2h14c1.1 0 2-.9 2-2V5c0-1.1-.9-2-2-2zM9 17H7v-7h2v7zm4 0h-2V7h2v10zm4 0h-2v-4h2v4z\"/>\n",
              "    </g>\n",
              "</svg>\n",
              "  </button>\n",
              "\n",
              "<style>\n",
              "  .colab-df-quickchart {\n",
              "      --bg-color: #E8F0FE;\n",
              "      --fill-color: #1967D2;\n",
              "      --hover-bg-color: #E2EBFA;\n",
              "      --hover-fill-color: #174EA6;\n",
              "      --disabled-fill-color: #AAA;\n",
              "      --disabled-bg-color: #DDD;\n",
              "  }\n",
              "\n",
              "  [theme=dark] .colab-df-quickchart {\n",
              "      --bg-color: #3B4455;\n",
              "      --fill-color: #D2E3FC;\n",
              "      --hover-bg-color: #434B5C;\n",
              "      --hover-fill-color: #FFFFFF;\n",
              "      --disabled-bg-color: #3B4455;\n",
              "      --disabled-fill-color: #666;\n",
              "  }\n",
              "\n",
              "  .colab-df-quickchart {\n",
              "    background-color: var(--bg-color);\n",
              "    border: none;\n",
              "    border-radius: 50%;\n",
              "    cursor: pointer;\n",
              "    display: none;\n",
              "    fill: var(--fill-color);\n",
              "    height: 32px;\n",
              "    padding: 0;\n",
              "    width: 32px;\n",
              "  }\n",
              "\n",
              "  .colab-df-quickchart:hover {\n",
              "    background-color: var(--hover-bg-color);\n",
              "    box-shadow: 0 1px 2px rgba(60, 64, 67, 0.3), 0 1px 3px 1px rgba(60, 64, 67, 0.15);\n",
              "    fill: var(--button-hover-fill-color);\n",
              "  }\n",
              "\n",
              "  .colab-df-quickchart-complete:disabled,\n",
              "  .colab-df-quickchart-complete:disabled:hover {\n",
              "    background-color: var(--disabled-bg-color);\n",
              "    fill: var(--disabled-fill-color);\n",
              "    box-shadow: none;\n",
              "  }\n",
              "\n",
              "  .colab-df-spinner {\n",
              "    border: 2px solid var(--fill-color);\n",
              "    border-color: transparent;\n",
              "    border-bottom-color: var(--fill-color);\n",
              "    animation:\n",
              "      spin 1s steps(1) infinite;\n",
              "  }\n",
              "\n",
              "  @keyframes spin {\n",
              "    0% {\n",
              "      border-color: transparent;\n",
              "      border-bottom-color: var(--fill-color);\n",
              "      border-left-color: var(--fill-color);\n",
              "    }\n",
              "    20% {\n",
              "      border-color: transparent;\n",
              "      border-left-color: var(--fill-color);\n",
              "      border-top-color: var(--fill-color);\n",
              "    }\n",
              "    30% {\n",
              "      border-color: transparent;\n",
              "      border-left-color: var(--fill-color);\n",
              "      border-top-color: var(--fill-color);\n",
              "      border-right-color: var(--fill-color);\n",
              "    }\n",
              "    40% {\n",
              "      border-color: transparent;\n",
              "      border-right-color: var(--fill-color);\n",
              "      border-top-color: var(--fill-color);\n",
              "    }\n",
              "    60% {\n",
              "      border-color: transparent;\n",
              "      border-right-color: var(--fill-color);\n",
              "    }\n",
              "    80% {\n",
              "      border-color: transparent;\n",
              "      border-right-color: var(--fill-color);\n",
              "      border-bottom-color: var(--fill-color);\n",
              "    }\n",
              "    90% {\n",
              "      border-color: transparent;\n",
              "      border-bottom-color: var(--fill-color);\n",
              "    }\n",
              "  }\n",
              "</style>\n",
              "\n",
              "  <script>\n",
              "    async function quickchart(key) {\n",
              "      const quickchartButtonEl =\n",
              "        document.querySelector('#' + key + ' button');\n",
              "      quickchartButtonEl.disabled = true;  // To prevent multiple clicks.\n",
              "      quickchartButtonEl.classList.add('colab-df-spinner');\n",
              "      try {\n",
              "        const charts = await google.colab.kernel.invokeFunction(\n",
              "            'suggestCharts', [key], {});\n",
              "      } catch (error) {\n",
              "        console.error('Error during call to suggestCharts:', error);\n",
              "      }\n",
              "      quickchartButtonEl.classList.remove('colab-df-spinner');\n",
              "      quickchartButtonEl.classList.add('colab-df-quickchart-complete');\n",
              "    }\n",
              "    (() => {\n",
              "      let quickchartButtonEl =\n",
              "        document.querySelector('#df-c91a5469-6912-44f2-ac19-b239c8c57fdf button');\n",
              "      quickchartButtonEl.style.display =\n",
              "        google.colab.kernel.accessAllowed ? 'block' : 'none';\n",
              "    })();\n",
              "  </script>\n",
              "</div>\n",
              "\n",
              "    </div>\n",
              "  </div>\n"
            ],
            "application/vnd.google.colaboratory.intrinsic+json": {
              "type": "dataframe",
              "variable_name": "df",
              "summary": "{\n  \"name\": \"df\",\n  \"rows\": 28210,\n  \"fields\": [\n    {\n      \"column\": \"essay_id\",\n      \"properties\": {\n        \"dtype\": \"string\",\n        \"num_unique_values\": 18425,\n        \"samples\": [\n          \"7122947449EE\",\n          \"llama_70b_v1328\",\n          \"C9BA274FDEBC\"\n        ],\n        \"semantic_type\": \"\",\n        \"description\": \"\"\n      }\n    },\n    {\n      \"column\": \"text\",\n      \"properties\": {\n        \"dtype\": \"string\",\n        \"num_unique_values\": 28184,\n        \"samples\": [\n          \"Are driverless cars really the future of transportation? Some say yes, while others are skeptical. Me, personally, I think that driverless cars are a bad idea. The article \\u201cDriverless Cars are Coming\\u201d by [author\\u2019s name] presents both the pros and cons of this technology, and I\\u2019m gonna use some of those details to argue against driverless cars.\\n\\nFirst of all, let\\u2019s talk about the safety concerns. According to the article, driverless cars rely on sensors and software to navigate roads, which means that there\\u2019s a high risk of technical failure. Just imagine you\\u2019re cruising down the highway, and suddenly your car\\u2019s sensors malfunction, causing it to swerve into oncoming traffic. That\\u2019s a nightmare scenario that no one wants to experience. Plus, the article mentions that driverless cars might not be able to fully eliminate accidents caused by human error, since they\\u2019ll still have to share the road with human-driven vehicles. So, the safety benefits of driverless cars aren\\u2019t as clear-cut as some people claim.\\n\\nAnother issue with driverless cars is their potential impact on jobs. The article states that driverless cars could lead to a loss of jobs for human drivers, like truckers and taxi drivers. That\\u2019s a major concern, since these jobs provide livelihoods for millions of people. We shouldn\\u2019t just dismiss their interests and switch to a new technology without considering the consequences. It\\u2019s important to think about how this change will affect ordinary people and their families.\\n\\nFurthermore, I think driverless cars will make us lose our driving skills. If we rely on cars to do all the work for us, we\\u2019ll forget how to drive ourselves. That might not seem like a big deal, but it\\u2019s important to have some basic skills, like being able to drive a car, in case of emergencies. What if there\\u2019s a blackout or a system failure? We\\u2019ll be helpless if we don\\u2019t know how to drive.\\n\\nFinally, driverless cars just aren\\u2019t as fun as driving yourself. I know that some people might disagree, but for me, driving is a thrill. I enjoy the feeling of being in control of a car, the wind in my hair, and the freedom to go wherever I want. With driverless cars, that\\u2019ll all be gone. We\\u2019ll become passive passengers, relying on a machine to take us places instead of experiencing the joy of driving ourselves.\\n\\nIn conclusion, while some people might see driverless cars as the future, I think they\\u2019re a bad idea. There are too many safety concerns, job losses, and a loss of driving skills to make them worth it. And let\\u2019s not forget the fun of driving, which we\\u2019ll lose if we switch to driverless cars. So, let\\u2019s slow down and think carefully before embracing this technology. Maybe we should focus on improving public transportation or investing in electric cars instead. There are better ways to make transportation more efficient and sustainable without relying on driverless cars.\",\n          \"An old adverb can hurt someone no matter if it's through songs,books or movies. It can hurt us in any way and the adverbs matter a lot of your typing and use the wrong verb.\\n\\nIt can bring down your grade but you can practice everyday to get better at writing and know your verbs.\\n\\nDepending on the verb if its right or wrong if its wrong your grade goes down lets say if you have a 96 on a test and the verb is bad.\\n\\nIt will go down to a 94 if its more then the lower your grade goes and if its right you have no problems with typing. A correct prompt\\n\\nYou can even miss a verb if your not careful enough. Anything can hurt your grade by being small things to big things including miss spelling.\\n\\nBad verbs can be everywhere including movies and books to scripts that's why people have to be extra careful typing. spelling. reading and pronouncing a word.\\n\\nThat's why you have to be extra careful and read the sentence over and over again till you know it's correct and to see if its all good. if you do it good enough you might be looking at a grade thats would be higher than a c but if you dont at least a c or a d and it couldnt be bad. But your grade means anything more in school and you should take good care of it to. if you want to keep making your parents proud and get rewards too. so thats the good thing about it to keep a higher grade\",\n          \"[Your Name]\\n[Your Address]\\n[City, State, Zip]\\n[Email Address]\\n[Phone Number]\\n[Date]\\n\\n[Senator's Name]\\n[Senator's Address]\\n[City, State, Zip]\\n\\nDear Senator [Senator's Last Name],\\n\\nI am writing to express my strong support for the Electoral College as a method of electing the President of the United States. While some argue for the election of the president by popular vote, I believe that the Electoral College is a fair and balanced system that ensures a more accurate representation of the American people.\\n\\nOne of the key advantages of the Electoral College is the certainty of outcome it provides. As stated by Judge Richard A. Posner, the winning candidate's share of the Electoral College consistently exceeds their share of the popular vote. This is due to the winner-take-all system in most states, which guarantees a clear mandate for the president-elect. This certainty helps to avoid disputes and potential crises that could arise from a close popular vote, as was seen in the controversial 2000 election.\\n\\nAnother important point in favor of the Electoral College is the principle of \\\"everyone's president.\\\" This system requires a presidential candidate to have trans-regional appeal, ensuring that no single region or group dominates the election. This encourages candidates to campaign in all regions of the country and gives all Americans a sense of representation. If the president were elected solely by popular vote, candidates might focus only on densely populated areas or regions that align with their party's ideology, potentially leaving large sections of the country feeling unheard and unrepresented.\\n\\nThe Electoral College also gives weight to swing states, which holds several benefits. By focusing campaign efforts on states where the election outcome is uncertain, candidates must consider the interests and concerns of those voters. This attention to swing states encourages candidates to present more nuanced and comprehensive policies that address the needs of diverse communities across the country. Furthermore, swing states generate more engagement and participation from citizens, as they understand that their votes could have a significant impact on the outcome of the election.\\n\\nAdditionally, the Electoral College balances the influence of big and small states. While the popular vote could favor the interests and concerns of densely populated states, the Electoral College ensures that smaller states are not left out. By granting each state a minimum of three electoral votes (representing their senators), the system ensures that candidates must consider the concerns of all states. This is particularly important in ensuring fairness and representation for states with smaller populations.\\n\\nLastly, the Electoral College avoids the need for run-off elections, which can be time-consuming and expensive. By consistently producing a clear winner, the Electoral College streamlines the election process and allows for a smoother transition of power.\\n\\nWhile critics argue that the Electoral College may discourage potential voters in non-competitive states, it is important to note that voter turnout has remained relatively high despite this perceived issue. Additionally, every vote is still important, as it contributes to the popular vote totals and can influence the allocation of electoral votes in a state.\\n\\nIn conclusion, the Electoral College is a time-tested system that balances the interests and concerns of diverse regions, states, and populations. It provides certainty of outcome, encourages trans-regional appeal, gives weight to swing states, balances the influence of big and small states, and avoids run-off elections. These advantages make it an effective and fair method of electing the President of the United States.\\n\\nThank you for considering my perspective on this important matter. I urge you to support the continuation of the Electoral College in order to maintain a system that best represents the interests and values of all Americans.\\n\\nSincerely,\\n\\n[Your Name]\"\n        ],\n        \"semantic_type\": \"\",\n        \"description\": \"\"\n      }\n    },\n    {\n      \"column\": \"label\",\n      \"properties\": {\n        \"dtype\": \"number\",\n        \"std\": 0,\n        \"min\": 0,\n        \"max\": 1,\n        \"num_unique_values\": 2,\n        \"samples\": [\n          1,\n          0\n        ],\n        \"semantic_type\": \"\",\n        \"description\": \"\"\n      }\n    },\n    {\n      \"column\": \"source\",\n      \"properties\": {\n        \"dtype\": \"category\",\n        \"num_unique_values\": 12,\n        \"samples\": [\n          \"falcon_180b_v1\",\n          \"llama2_chat\"\n        ],\n        \"semantic_type\": \"\",\n        \"description\": \"\"\n      }\n    },\n    {\n      \"column\": \"prompt\",\n      \"properties\": {\n        \"dtype\": \"category\",\n        \"num_unique_values\": 4880,\n        \"samples\": [\n          \"\\nTask: Write an essay discussing the reasons why students should not be allowed to use cell phones for educational purposes in the classroom. Include evidence supporting your argument.\",\n          \"Task: Research various careers to decide what specific career to pursue in high school. Visit medical and mechanic workshops to gain information about specific careers. Determine what courses to take in high school and explore how to best prepare yourself for the future. Research how to enjoy the courses you take while achieving the best grades possible.\"\n        ],\n        \"semantic_type\": \"\",\n        \"description\": \"\"\n      }\n    },\n    {\n      \"column\": \"fold\",\n      \"properties\": {\n        \"dtype\": \"number\",\n        \"std\": 2,\n        \"min\": 0,\n        \"max\": 9,\n        \"num_unique_values\": 10,\n        \"samples\": [\n          3,\n          7\n        ],\n        \"semantic_type\": \"\",\n        \"description\": \"\"\n      }\n    },\n    {\n      \"column\": \"name\",\n      \"properties\": {\n        \"dtype\": \"category\",\n        \"num_unique_values\": 2,\n        \"samples\": [\n          \"fake\",\n          \"real\"\n        ],\n        \"semantic_type\": \"\",\n        \"description\": \"\"\n      }\n    }\n  ]\n}"
            }
          },
          "metadata": {},
          "execution_count": 34
        }
      ]
    },
    {
      "cell_type": "markdown",
      "source": [
        "### Data Split"
      ],
      "metadata": {
        "id": "TKgPRgaJw4xj"
      }
    },
    {
      "cell_type": "code",
      "source": [
        "from sklearn.model_selection import StratifiedKFold\n",
        "\n",
        "skf = StratifiedKFold(n_splits=CFG.num_folds, shuffle=True, random_state=CFG.seed)\n",
        "\n",
        "df = df.reset_index (drop=True)\n",
        "df['stratify'] = df.label.astype(str)+df.source.astype(str)\n",
        "\n",
        "df['fold'] = -1\n",
        "\n",
        "for fold, (train_idx, val_idx) in enumerate(skf.split(df, df['stratify'])):\n",
        "    df.loc[val_idx, 'fold'] = fold"
      ],
      "metadata": {
        "colab": {
          "base_uri": "https://localhost:8080/"
        },
        "id": "n4UQlSmFw8aL",
        "outputId": "cde63cb2-ea08-4983-d17c-b472bb7d1a0d"
      },
      "execution_count": 35,
      "outputs": [
        {
          "output_type": "stream",
          "name": "stderr",
          "text": [
            "/usr/local/lib/python3.10/dist-packages/sklearn/model_selection/_split.py:700: UserWarning: The least populated class in y has only 3 members, which is less than n_splits=5.\n",
            "  warnings.warn(\n"
          ]
        }
      ]
    },
    {
      "cell_type": "code",
      "source": [
        "df.groupby([\"fold\", \"name\", \"source\"]).size()"
      ],
      "metadata": {
        "colab": {
          "base_uri": "https://localhost:8080/"
        },
        "id": "qDcK8MM8NN5D",
        "outputId": "d0e6c55c-9926-44d6-c4a0-8ef4f4572307"
      },
      "execution_count": 36,
      "outputs": [
        {
          "output_type": "execute_result",
          "data": {
            "text/plain": [
              "fold  name  source           \n",
              "0     fake  chat_gpt_moth         484\n",
              "            darragh_claude_v6     200\n",
              "            darragh_claude_v7     200\n",
              "            falcon_180b_v1        211\n",
              "            llama2_chat           484\n",
              "                                 ... \n",
              "4     fake  radek_500             100\n",
              "            train_essays            1\n",
              "      real  original_moth         484\n",
              "            persuade_corpus      2000\n",
              "            train_essays          275\n",
              "Length: 63, dtype: int64"
            ]
          },
          "metadata": {},
          "execution_count": 36
        }
      ]
    },
    {
      "cell_type": "markdown",
      "source": [
        "### Preprocessing"
      ],
      "metadata": {
        "id": "Bl86aPqOSPi4"
      }
    },
    {
      "cell_type": "markdown",
      "source": [
        "* Take input string and transforms them into a dictionary \"**token_ids**\",\n",
        "\"**padding_mask**\"  containing preprocessed tensors."
      ],
      "metadata": {
        "id": "kRq5wwBgSXZm"
      }
    },
    {
      "cell_type": "code",
      "source": [
        "preprocessor = keras_nlp.models.DebertaV3Preprocessor.from_preset(\n",
        "    preset=CFG.preset,\n",
        "    sequence_length = CFG.sequence_length)"
      ],
      "metadata": {
        "colab": {
          "base_uri": "https://localhost:8080/"
        },
        "id": "6CiqJk2-SM79",
        "outputId": "917ff140-c92d-4760-a1a4-f93cf36c0bb9"
      },
      "execution_count": 37,
      "outputs": [
        {
          "output_type": "stream",
          "name": "stdout",
          "text": [
            "Downloading data from https://storage.googleapis.com/keras-nlp/models/deberta_v3_base_en/v1/vocab.spm\n",
            "\u001b[1m2464616/2464616\u001b[0m \u001b[32m━━━━━━━━━━━━━━━━━━━━\u001b[0m\u001b[37m\u001b[0m \u001b[1m1s\u001b[0m 0us/step\n"
          ]
        }
      ]
    },
    {
      "cell_type": "code",
      "source": [
        "df.text.iloc[0]"
      ],
      "metadata": {
        "colab": {
          "base_uri": "https://localhost:8080/",
          "height": 105
        },
        "id": "-HXYC_96YD3m",
        "outputId": "12c99450-dad7-4877-eb1b-69a437072405"
      },
      "execution_count": 38,
      "outputs": [
        {
          "output_type": "execute_result",
          "data": {
            "text/plain": [
              "'Students would benefit from being able to attend classes from home because some students would rather want to be able to work in their own comfortable environment and be able to work at their own pace.\\n\\nStudents would benefit from being able to attend classes at home because they can work at their pace because if the students missed a day or two of school, the online class is there to provide them easy access to work they might have missed. Another point is, some students tend to much rather like to work in an environment they feel comfortable in or that they feel safe in. Lastly, It would benefit their learning skills by having a tool to use that could be helpful for them when they attend school personally.\\n\\nStudents working at their own pace could be helpful and beneficial to them in many ways. Having to be rushed or pressured to do work may not be the best for any grade school students. If a student missed a couple days of school, the online class is there to provide for the lesson they learned the days of or the work that was missed without the work being turned in late or graded poorly. A student being able to work at their own pace is also extremely beneficial\\xa0because it gives them more time to fix imperfections and be able to ace the work that was given. Students often do terribly on work they rushed on or do terribly when they did not have enough time to finish.\\n\\nStudents usually\\xa0tend to work better in a environment they feel comfortable and safe in. Students who dont like the environment they are in can get easily distracted in their surroundings. Being distracted can cause trouble all around. Not only does it cause trouble, It stops students from getting their work done and their peers work done. These online classes can provide them to do their work in a environment they feel that they are safe or comfortable in without having to distract themselves or anybody around them. If a student feels that they are uncomfortable in their surroundings, that can take over their mind and distract them from what needs to be done.\\n\\nHaving an online class for students can be a benefit their learning skills by having a tool to use that could possibly be helpful for them for when they attend public school. Online classes could teach the student another way how to solve a problem in a way public school could not. With the information they learned online, they can carry that on with them and be successful in a class they have trouble on or for future references. The online class may explain the topic another way that the school did not and makes it easier for the student to understand what they are learning.\\n\\nIn conclusion, students would much rather benefit from being able to attend classes from home than being able to attend public schools or having to do a class in school. These classes can help students in a way public school classes could not. Being able to work at your own pace, not be distracted while do work, and learning new topics can be helpful for somebody who needs online classes.   \\xa0 \\xa0 \\xa0'"
            ],
            "application/vnd.google.colaboratory.intrinsic+json": {
              "type": "string"
            }
          },
          "metadata": {},
          "execution_count": 38
        }
      ]
    },
    {
      "cell_type": "code",
      "source": [
        "input = preprocessor(df.text.iloc[0])\n",
        "\n",
        "for k, v in input.items():\n",
        "    print (k, \":\", v.shape)"
      ],
      "metadata": {
        "colab": {
          "base_uri": "https://localhost:8080/"
        },
        "id": "VguYvZhcX_bO",
        "outputId": "9212e985-79fd-4835-8ab1-c79c2b865e33"
      },
      "execution_count": 39,
      "outputs": [
        {
          "output_type": "stream",
          "name": "stdout",
          "text": [
            "token_ids : torch.Size([200])\n",
            "padding_mask : torch.Size([200])\n"
          ]
        }
      ]
    },
    {
      "cell_type": "code",
      "source": [
        "# function to transform each text\n",
        "def preprocess_fn(text, label=None):\n",
        "    text = preprocessor(text) # Preprocess text\n",
        "    return (text, label) if label is not None else text\n"
      ],
      "metadata": {
        "id": "EhOVNQgdTzHG"
      },
      "execution_count": 40,
      "outputs": []
    },
    {
      "cell_type": "markdown",
      "source": [
        "### **DataLoader**\n",
        "\n",
        "\n",
        "\n"
      ],
      "metadata": {
        "id": "y7fAtHqAehAm"
      }
    },
    {
      "cell_type": "code",
      "source": [
        "def build_dataset(texts, labels = None, batch_size = 32, cache=False, drop_remainder=True, repeat=False, shuffle=1024):\n",
        "  AUTO = tf.data.AUTOTUNE\n",
        "  slices = (texts,) if labels is None else (texts, labels)\n",
        "\n",
        "  ds = tf.data.Dataset.from_tensor_slices(slices)\n",
        "  ds = ds.cache() if cache else ds\n",
        "  ds = ds.map(preprocess_fn, num_parallel_calls=AUTO)\n",
        "\n",
        "  ds = ds.repeat() if repeat else ds\n",
        "  opt = tf.data.Options()\n",
        "  if shuffle:\n",
        "    ds = ds.shuffle( shuffle, seed =CFG.seed)\n",
        "    opt.experimental_deterministic = False\n",
        "\n",
        "  ds =ds.with_options(opt)\n",
        "  ds= ds.batch(batch_size, drop_remainder = drop_remainder)\n",
        "  ds = ds.prefetch(AUTO)\n",
        "  return ds\n"
      ],
      "metadata": {
        "id": "xVPmJ92tlVeJ"
      },
      "execution_count": 41,
      "outputs": []
    },
    {
      "cell_type": "markdown",
      "source": [
        "*   Fetch Train/Valid Dataset for a given fold.\n"
      ],
      "metadata": {
        "id": "ldq1G4n0m1Ky"
      }
    },
    {
      "cell_type": "code",
      "source": [
        "def get_datasets(fold):\n",
        "  train_df = df[df.fold != fold].sample(frac=1)\n",
        "  train_texts= train_df.text.tolist()\n",
        "  train_labels = train_df.label.tolist()\n",
        "\n",
        "  train_ds = build_dataset(train_texts, train_labels, batch_size=CFG.batch_size*CFG.replicas, cache=CFG.cache,shuffle= True, drop_remainder=True, repeat=True)\n",
        "\n",
        "  valid_df= df[df.fold == fold].sample(frac=1)\n",
        "  valid_texts = valid_df.text.tolist()\n",
        "  valid_labels = valid_df.label.tolist()\n",
        "\n",
        "  valid_ds = build_dataset(valid_texts, valid_labels, batch_size=min(CFG.batch_size*CFG.replicas, len(valid_df)), cache=CFG.cache,shuffle= False, drop_remainder=True, repeat=False)\n",
        "\n",
        "  return (train_ds, train_df), (valid_ds, valid_df)"
      ],
      "metadata": {
        "id": "--4QeB40gFtK"
      },
      "execution_count": 42,
      "outputs": []
    },
    {
      "cell_type": "markdown",
      "source": [
        "### Wandb"
      ],
      "metadata": {
        "id": "ZOCixewCiasy"
      }
    },
    {
      "cell_type": "code",
      "source": [
        "!pip install wandb"
      ],
      "metadata": {
        "colab": {
          "base_uri": "https://localhost:8080/"
        },
        "collapsed": true,
        "id": "7jWUPamXipHn",
        "outputId": "323e2b7f-0a92-4bb8-e32e-7d520da48a3e"
      },
      "execution_count": 43,
      "outputs": [
        {
          "output_type": "stream",
          "name": "stdout",
          "text": [
            "Collecting wandb\n",
            "  Downloading wandb-0.17.0-py3-none-manylinux_2_5_x86_64.manylinux1_x86_64.manylinux_2_17_x86_64.manylinux2014_x86_64.whl (6.7 MB)\n",
            "\u001b[2K     \u001b[90m━━━━━━━━━━━━━━━━━━━━━━━━━━━━━━━━━━━━━━━━\u001b[0m \u001b[32m6.7/6.7 MB\u001b[0m \u001b[31m65.0 MB/s\u001b[0m eta \u001b[36m0:00:00\u001b[0m\n",
            "\u001b[?25hRequirement already satisfied: click!=8.0.0,>=7.1 in /usr/local/lib/python3.10/dist-packages (from wandb) (8.1.7)\n",
            "Collecting docker-pycreds>=0.4.0 (from wandb)\n",
            "  Downloading docker_pycreds-0.4.0-py2.py3-none-any.whl (9.0 kB)\n",
            "Collecting gitpython!=3.1.29,>=1.0.0 (from wandb)\n",
            "  Downloading GitPython-3.1.43-py3-none-any.whl (207 kB)\n",
            "\u001b[2K     \u001b[90m━━━━━━━━━━━━━━━━━━━━━━━━━━━━━━━━━━━━━━━━\u001b[0m \u001b[32m207.3/207.3 kB\u001b[0m \u001b[31m30.5 MB/s\u001b[0m eta \u001b[36m0:00:00\u001b[0m\n",
            "\u001b[?25hRequirement already satisfied: platformdirs in /usr/local/lib/python3.10/dist-packages (from wandb) (4.2.2)\n",
            "Requirement already satisfied: protobuf!=4.21.0,<5,>=3.19.0 in /usr/local/lib/python3.10/dist-packages (from wandb) (3.20.3)\n",
            "Requirement already satisfied: psutil>=5.0.0 in /usr/local/lib/python3.10/dist-packages (from wandb) (5.9.5)\n",
            "Requirement already satisfied: pyyaml in /usr/local/lib/python3.10/dist-packages (from wandb) (6.0.1)\n",
            "Requirement already satisfied: requests<3,>=2.0.0 in /usr/local/lib/python3.10/dist-packages (from wandb) (2.31.0)\n",
            "Collecting sentry-sdk>=1.0.0 (from wandb)\n",
            "  Downloading sentry_sdk-2.3.1-py2.py3-none-any.whl (289 kB)\n",
            "\u001b[2K     \u001b[90m━━━━━━━━━━━━━━━━━━━━━━━━━━━━━━━━━━━━━━━━\u001b[0m \u001b[32m289.0/289.0 kB\u001b[0m \u001b[31m37.9 MB/s\u001b[0m eta \u001b[36m0:00:00\u001b[0m\n",
            "\u001b[?25hCollecting setproctitle (from wandb)\n",
            "  Downloading setproctitle-1.3.3-cp310-cp310-manylinux_2_5_x86_64.manylinux1_x86_64.manylinux_2_17_x86_64.manylinux2014_x86_64.whl (30 kB)\n",
            "Requirement already satisfied: setuptools in /usr/local/lib/python3.10/dist-packages (from wandb) (67.7.2)\n",
            "Requirement already satisfied: six>=1.4.0 in /usr/local/lib/python3.10/dist-packages (from docker-pycreds>=0.4.0->wandb) (1.16.0)\n",
            "Collecting gitdb<5,>=4.0.1 (from gitpython!=3.1.29,>=1.0.0->wandb)\n",
            "  Downloading gitdb-4.0.11-py3-none-any.whl (62 kB)\n",
            "\u001b[2K     \u001b[90m━━━━━━━━━━━━━━━━━━━━━━━━━━━━━━━━━━━━━━━━\u001b[0m \u001b[32m62.7/62.7 kB\u001b[0m \u001b[31m10.6 MB/s\u001b[0m eta \u001b[36m0:00:00\u001b[0m\n",
            "\u001b[?25hRequirement already satisfied: charset-normalizer<4,>=2 in /usr/local/lib/python3.10/dist-packages (from requests<3,>=2.0.0->wandb) (3.3.2)\n",
            "Requirement already satisfied: idna<4,>=2.5 in /usr/local/lib/python3.10/dist-packages (from requests<3,>=2.0.0->wandb) (3.7)\n",
            "Requirement already satisfied: urllib3<3,>=1.21.1 in /usr/local/lib/python3.10/dist-packages (from requests<3,>=2.0.0->wandb) (2.0.7)\n",
            "Requirement already satisfied: certifi>=2017.4.17 in /usr/local/lib/python3.10/dist-packages (from requests<3,>=2.0.0->wandb) (2024.2.2)\n",
            "Collecting smmap<6,>=3.0.1 (from gitdb<5,>=4.0.1->gitpython!=3.1.29,>=1.0.0->wandb)\n",
            "  Downloading smmap-5.0.1-py3-none-any.whl (24 kB)\n",
            "Installing collected packages: smmap, setproctitle, sentry-sdk, docker-pycreds, gitdb, gitpython, wandb\n",
            "Successfully installed docker-pycreds-0.4.0 gitdb-4.0.11 gitpython-3.1.43 sentry-sdk-2.3.1 setproctitle-1.3.3 smmap-5.0.1 wandb-0.17.0\n"
          ]
        }
      ]
    },
    {
      "cell_type": "code",
      "source": [
        "import wandb\n",
        "\n",
        "try:\n",
        "    from kaggle_secrets import UserSecretsClient  # Import UserSecretsClient\n",
        "    user_secrets = UserSecretsClient()  # Create secrets client instance\n",
        "    api_key = user_secrets.get_secret(\"WANDB\")  # Get API key from Kaggle secrets\n",
        "    wandb.login(key=api_key)  # Login to wandb with the API key\n",
        "    anonymous = None  # Set anonymous mode to None\n",
        "except:\n",
        "    anonymous = 'must'  # Set anonymous mode to 'must'\n",
        "    wandb.login(anonymous=anonymous, relogin=True)"
      ],
      "metadata": {
        "colab": {
          "base_uri": "https://localhost:8080/",
          "height": 52
        },
        "id": "SayesXahiTT7",
        "outputId": "f84769b8-11f8-4bc2-a603-8dd982534b84"
      },
      "execution_count": 44,
      "outputs": [
        {
          "output_type": "display_data",
          "data": {
            "text/plain": [
              "<IPython.core.display.Javascript object>"
            ],
            "application/javascript": [
              "\n",
              "        window._wandbApiKey = new Promise((resolve, reject) => {\n",
              "            function loadScript(url) {\n",
              "            return new Promise(function(resolve, reject) {\n",
              "                let newScript = document.createElement(\"script\");\n",
              "                newScript.onerror = reject;\n",
              "                newScript.onload = resolve;\n",
              "                document.body.appendChild(newScript);\n",
              "                newScript.src = url;\n",
              "            });\n",
              "            }\n",
              "            loadScript(\"https://cdn.jsdelivr.net/npm/postmate/build/postmate.min.js\").then(() => {\n",
              "            const iframe = document.createElement('iframe')\n",
              "            iframe.style.cssText = \"width:0;height:0;border:none\"\n",
              "            document.body.appendChild(iframe)\n",
              "            const handshake = new Postmate({\n",
              "                container: iframe,\n",
              "                url: 'https://wandb.ai/authorize'\n",
              "            });\n",
              "            const timeout = setTimeout(() => reject(\"Couldn't auto authenticate\"), 5000)\n",
              "            handshake.then(function(child) {\n",
              "                child.on('authorize', data => {\n",
              "                    clearTimeout(timeout)\n",
              "                    resolve(data)\n",
              "                });\n",
              "            });\n",
              "            })\n",
              "        });\n",
              "    "
            ]
          },
          "metadata": {}
        },
        {
          "output_type": "stream",
          "name": "stderr",
          "text": [
            "\u001b[34m\u001b[1mwandb\u001b[0m: Appending key for api.wandb.ai to your netrc file: /root/.netrc\n"
          ]
        }
      ]
    },
    {
      "cell_type": "code",
      "source": [
        "# Initializes the W&B run with a config file and W&B run settings.\n",
        "def wandb_init(fold):\n",
        "    config = {k: v for k, v in dict(vars(CFG)).items() if '__' not in k}  # Create config dictionary\n",
        "    config.update({\"fold\": int(fold)})  # Add fold to config\n",
        "    run = wandb.init(project=\"llm-fake-text\",\n",
        "                     name=f\"fold-{fold}|max_seq-{CFG.sequence_length}|model-{CFG.preset}\",\n",
        "                     config=config,\n",
        "                     group=CFG.comment,\n",
        "                     save_code=True)\n",
        "    return run\n",
        "\n",
        "# Log best result for error analysis\n",
        "def log_wandb():\n",
        "    wandb.log({'best_auc': best_auc, 'best_loss': best_loss, 'best_epoch': best_epoch})\n",
        "\n",
        "# Fetch W&B callbacks\n",
        "def get_wb_callbacks(fold):\n",
        "    wb_metr = wandb.keras.WandbMetricsLogger()\n",
        "    return [wb_metr]  # Return WandB callbacks"
      ],
      "metadata": {
        "id": "yYuHbpgvjtTe"
      },
      "execution_count": 45,
      "outputs": []
    },
    {
      "cell_type": "markdown",
      "source": [
        "### Learning rate"
      ],
      "metadata": {
        "id": "OXzwe8FXlBs_"
      }
    },
    {
      "cell_type": "code",
      "source": [
        "import math\n",
        "\n",
        "def get_lr_callback(batch_size=8, mode='cos', epochs=10, plot=False):\n",
        "    lr_start, lr_max, lr_min = 0.6e-6, 0.5e-6 * batch_size, 0.3e-6\n",
        "    lr_ramp_ep, lr_sus_ep, lr_decay = 1, 0, 0.75\n",
        "\n",
        "    def lrfn(epoch):  # Learning rate update function\n",
        "        if epoch < lr_ramp_ep: lr = (lr_max - lr_start) / lr_ramp_ep * epoch + lr_start\n",
        "        elif epoch < lr_ramp_ep + lr_sus_ep: lr = lr_max\n",
        "        elif mode == 'exp': lr = (lr_max - lr_min) * lr_decay**(epoch - lr_ramp_ep - lr_sus_ep) + lr_min\n",
        "        elif mode == 'step': lr = lr_max * lr_decay**((epoch - lr_ramp_ep - lr_sus_ep) // 2)\n",
        "        elif mode == 'cos':\n",
        "            decay_total_epochs, decay_epoch_index = epochs - lr_ramp_ep - lr_sus_ep + 3, epoch - lr_ramp_ep - lr_sus_ep\n",
        "            phase = math.pi * decay_epoch_index / decay_total_epochs\n",
        "            lr = (lr_max - lr_min) * 0.5 * (1 + math.cos(phase)) + lr_min\n",
        "        return lr\n",
        "\n",
        "    if plot:  # Plot lr curve if plot is True\n",
        "        plt.figure(figsize=(10, 5))\n",
        "        plt.plot(np.arange(epochs), [lrfn(epoch) for epoch in np.arange(epochs)], marker='o')\n",
        "        plt.xlabel('epoch'); plt.ylabel('lr')\n",
        "        plt.title('LR Scheduler')\n",
        "        plt.show()\n",
        "\n",
        "    return keras.callbacks.LearningRateScheduler(lrfn, verbose=False)  # Create lr callback"
      ],
      "metadata": {
        "id": "KkP0tz_QlBV_"
      },
      "execution_count": 46,
      "outputs": []
    },
    {
      "cell_type": "code",
      "source": [
        "_=get_lr_callback(CFG.batch_size*CFG.replicas, plot=True)\n"
      ],
      "metadata": {
        "colab": {
          "base_uri": "https://localhost:8080/",
          "height": 487
        },
        "id": "CAlRa84mqdDN",
        "outputId": "f0dea639-9117-4850-d167-4986a931db97"
      },
      "execution_count": 47,
      "outputs": [
        {
          "output_type": "display_data",
          "data": {
            "text/plain": [
              "<Figure size 1000x500 with 1 Axes>"
            ],
            "image/png": "[encoded data removed]"
          },
          "metadata": {}
        }
      ]
    },
    {
      "cell_type": "markdown",
      "source": [
        "### CallBacks"
      ],
      "metadata": {
        "id": "Q2XixqMLvcog"
      }
    },
    {
      "cell_type": "code",
      "source": [
        "def get_callbacks(fold):\n",
        "  callbacks= []\n",
        "  lr_cb = get_lr_callback(CFG.batch_size*CFG.replicas)\n",
        "  ckpt_cb = keras.callbacks.ModelCheckpoint(f'fold{fold}.keras',\n",
        "                                            monitor='val_auc',\n",
        "                                            save_best_only=True,\n",
        "                                            save_weights_only=False,\n",
        "                                            mode='max') # Model checkpoint callback\n",
        "\n",
        "  callbacks.extend([lr_cb, ckpt_cb])\n",
        "\n",
        "  if CFG.wandb:\n",
        "    wb_cbs = get_wb_callbacks(fold)\n",
        "    callbacks.extend(wb_cbs)\n",
        "    return callbacks"
      ],
      "metadata": {
        "id": "qBhrE0_JvekJ"
      },
      "execution_count": 48,
      "outputs": []
    },
    {
      "cell_type": "markdown",
      "source": [
        "### Modeling"
      ],
      "metadata": {
        "id": "Jjf_bUlExere"
      }
    },
    {
      "cell_type": "markdown",
      "source": [
        "* **KerasNLP Classifier**: using https://keras.io/guides/keras_nlp/getting_started/ as a guide.\n",
        "*Our approach involves using \"**keras_nlp.models.XXClassifier**\" to process each text and generatie logits. These logits are passed through a softmax function to produce the final output.\n",
        "* Use pre-trained model called \"**DebertaV3**\"\n",
        "\n"
      ],
      "metadata": {
        "id": "BCPNJ6C9xxEJ"
      }
    },
    {
      "cell_type": "code",
      "source": [
        "def build_model():\n",
        "  classifier = keras_nlp.models.DebertaV3Classifier.from_preset(\n",
        "      CFG.preset,\n",
        "      preprocessor = None,\n",
        "      num_classes = 1 #One output per one option, 5 options = 5 outputs\n",
        "      )\n",
        "  inputs = classifier.input\n",
        "  logits = classifier(inputs)\n",
        "\n",
        "  outputs = keras.layers.Activation('sigmoid')(logits)\n",
        "  model = keras.Model(inputs, outputs)\n",
        "\n",
        "  model.compile (\n",
        "      optimizer = keras.optimizers.AdamW(5e-6),\n",
        "      loss= keras.losses.BinaryCrossentropy(label_smoothing = 0.02),\n",
        "      metrics = [keras.metrics.AUC(name='auc')],\n",
        "      jit_compile = True\n",
        "  )\n",
        "\n",
        "  return model"
      ],
      "metadata": {
        "id": "iA3KtUDdyRlN"
      },
      "execution_count": 49,
      "outputs": []
    },
    {
      "cell_type": "code",
      "source": [
        "model = build_model()"
      ],
      "metadata": {
        "colab": {
          "base_uri": "https://localhost:8080/"
        },
        "id": "CHuF-AZf1qcb",
        "outputId": "34f36f16-0bc6-4369-9d2c-83296d43e201"
      },
      "execution_count": 50,
      "outputs": [
        {
          "output_type": "stream",
          "name": "stdout",
          "text": [
            "Downloading data from https://storage.googleapis.com/keras-nlp/models/deberta_v3_base_en/v1/model.h5\n",
            "\u001b[1m735557816/735557816\u001b[0m \u001b[32m━━━━━━━━━━━━━━━━━━━━\u001b[0m\u001b[37m\u001b[0m \u001b[1m33s\u001b[0m 0us/step\n"
          ]
        },
        {
          "output_type": "stream",
          "name": "stderr",
          "text": [
            "/usr/local/lib/python3.10/dist-packages/keras_core/src/trainers/trainer.py:166: UserWarning: `jit_compile` is not yet enabled for the PyTorch backend. Proceeding with `jit_compile=False`.\n",
            "  warnings.warn(\n"
          ]
        }
      ]
    },
    {
      "cell_type": "code",
      "source": [
        "model.summary()"
      ],
      "metadata": {
        "colab": {
          "base_uri": "https://localhost:8080/",
          "height": 289
        },
        "id": "j1sudhaJ2W-_",
        "outputId": "29e348c6-d7e2-45dc-ac9e-d34d0e251734"
      },
      "execution_count": 51,
      "outputs": [
        {
          "output_type": "display_data",
          "data": {
            "text/plain": [
              "\u001b[1mModel: \"functional_1\"\u001b[0m\n"
            ],
            "text/html": [
              "<pre style=\"white-space:pre;overflow-x:auto;line-height:normal;font-family:Menlo,'DejaVu Sans Mono',consolas,'Courier New',monospace\"><span style=\"font-weight: bold\">Model: \"functional_1\"</span>\n",
              "</pre>\n"
            ]
          },
          "metadata": {}
        },
        {
          "output_type": "display_data",
          "data": {
            "text/plain": [
              "┏━━━━━━━━━━━━━━━━━━━━━━━━━━━┳━━━━━━━━━━━━━━━━━━━━━━━━┳━━━━━━━━━━━━┳━━━━━━━━━━━━━━━━━━━━━━━━━━━━┓\n",
              "┃\u001b[1m \u001b[0m\u001b[1mLayer (type)             \u001b[0m\u001b[1m \u001b[0m┃\u001b[1m \u001b[0m\u001b[1mOutput Shape          \u001b[0m\u001b[1m \u001b[0m┃\u001b[1m \u001b[0m\u001b[1m   Param #\u001b[0m\u001b[1m \u001b[0m┃\u001b[1m \u001b[0m\u001b[1mConnected to              \u001b[0m\u001b[1m \u001b[0m┃\n",
              "┡━━━━━━━━━━━━━━━━━━━━━━━━━━━╇━━━━━━━━━━━━━━━━━━━━━━━━╇━━━━━━━━━━━━╇━━━━━━━━━━━━━━━━━━━━━━━━━━━━┩\n",
              "│ padding_mask (\u001b[38;5;33mInputLayer\u001b[0m) │ (\u001b[38;5;45mNone\u001b[0m, \u001b[38;5;45mNone\u001b[0m)           │          \u001b[38;5;34m0\u001b[0m │ -                          │\n",
              "├───────────────────────────┼────────────────────────┼────────────┼────────────────────────────┤\n",
              "│ token_ids (\u001b[38;5;33mInputLayer\u001b[0m)    │ (\u001b[38;5;45mNone\u001b[0m, \u001b[38;5;45mNone\u001b[0m)           │          \u001b[38;5;34m0\u001b[0m │ -                          │\n",
              "├───────────────────────────┼────────────────────────┼────────────┼────────────────────────────┤\n",
              "│ deberta_v3_classifier     │ (\u001b[38;5;45mNone\u001b[0m, \u001b[38;5;34m1\u001b[0m)              │ \u001b[38;5;34m184,422,9…\u001b[0m │ padding_mask[\u001b[38;5;34m0\u001b[0m][\u001b[38;5;34m0\u001b[0m],        │\n",
              "│ (\u001b[38;5;33mDebertaV3Classifier\u001b[0m)     │                        │            │ token_ids[\u001b[38;5;34m0\u001b[0m][\u001b[38;5;34m0\u001b[0m]            │\n",
              "├───────────────────────────┼────────────────────────┼────────────┼────────────────────────────┤\n",
              "│ activation (\u001b[38;5;33mActivation\u001b[0m)   │ (\u001b[38;5;45mNone\u001b[0m, \u001b[38;5;34m1\u001b[0m)              │          \u001b[38;5;34m0\u001b[0m │ deberta_v3_classifier[\u001b[38;5;34m0\u001b[0m][\u001b[38;5;34m…\u001b[0m │\n",
              "└───────────────────────────┴────────────────────────┴────────────┴────────────────────────────┘\n"
            ],
            "text/html": [
              "<pre style=\"white-space:pre;overflow-x:auto;line-height:normal;font-family:Menlo,'DejaVu Sans Mono',consolas,'Courier New',monospace\">┏━━━━━━━━━━━━━━━━━━━━━━━━━━━┳━━━━━━━━━━━━━━━━━━━━━━━━┳━━━━━━━━━━━━┳━━━━━━━━━━━━━━━━━━━━━━━━━━━━┓\n",
              "┃<span style=\"font-weight: bold\"> Layer (type)              </span>┃<span style=\"font-weight: bold\"> Output Shape           </span>┃<span style=\"font-weight: bold\">    Param # </span>┃<span style=\"font-weight: bold\"> Connected to               </span>┃\n",
              "┡━━━━━━━━━━━━━━━━━━━━━━━━━━━╇━━━━━━━━━━━━━━━━━━━━━━━━╇━━━━━━━━━━━━╇━━━━━━━━━━━━━━━━━━━━━━━━━━━━┩\n",
              "│ padding_mask (<span style=\"color: #0087ff; text-decoration-color: #0087ff\">InputLayer</span>) │ (<span style=\"color: #00d7ff; text-decoration-color: #00d7ff\">None</span>, <span style=\"color: #00d7ff; text-decoration-color: #00d7ff\">None</span>)           │          <span style=\"color: #00af00; text-decoration-color: #00af00\">0</span> │ -                          │\n",
              "├───────────────────────────┼────────────────────────┼────────────┼────────────────────────────┤\n",
              "│ token_ids (<span style=\"color: #0087ff; text-decoration-color: #0087ff\">InputLayer</span>)    │ (<span style=\"color: #00d7ff; text-decoration-color: #00d7ff\">None</span>, <span style=\"color: #00d7ff; text-decoration-color: #00d7ff\">None</span>)           │          <span style=\"color: #00af00; text-decoration-color: #00af00\">0</span> │ -                          │\n",
              "├───────────────────────────┼────────────────────────┼────────────┼────────────────────────────┤\n",
              "│ deberta_v3_classifier     │ (<span style=\"color: #00d7ff; text-decoration-color: #00d7ff\">None</span>, <span style=\"color: #00af00; text-decoration-color: #00af00\">1</span>)              │ <span style=\"color: #00af00; text-decoration-color: #00af00\">184,422,9…</span> │ padding_mask[<span style=\"color: #00af00; text-decoration-color: #00af00\">0</span>][<span style=\"color: #00af00; text-decoration-color: #00af00\">0</span>],        │\n",
              "│ (<span style=\"color: #0087ff; text-decoration-color: #0087ff\">DebertaV3Classifier</span>)     │                        │            │ token_ids[<span style=\"color: #00af00; text-decoration-color: #00af00\">0</span>][<span style=\"color: #00af00; text-decoration-color: #00af00\">0</span>]            │\n",
              "├───────────────────────────┼────────────────────────┼────────────┼────────────────────────────┤\n",
              "│ activation (<span style=\"color: #0087ff; text-decoration-color: #0087ff\">Activation</span>)   │ (<span style=\"color: #00d7ff; text-decoration-color: #00d7ff\">None</span>, <span style=\"color: #00af00; text-decoration-color: #00af00\">1</span>)              │          <span style=\"color: #00af00; text-decoration-color: #00af00\">0</span> │ deberta_v3_classifier[<span style=\"color: #00af00; text-decoration-color: #00af00\">0</span>][<span style=\"color: #00af00; text-decoration-color: #00af00\">…</span> │\n",
              "└───────────────────────────┴────────────────────────┴────────────┴────────────────────────────┘\n",
              "</pre>\n"
            ]
          },
          "metadata": {}
        },
        {
          "output_type": "display_data",
          "data": {
            "text/plain": [
              "\u001b[1m Total params: \u001b[0m\u001b[38;5;34m184,422,913\u001b[0m (703.52 MB)\n"
            ],
            "text/html": [
              "<pre style=\"white-space:pre;overflow-x:auto;line-height:normal;font-family:Menlo,'DejaVu Sans Mono',consolas,'Courier New',monospace\"><span style=\"font-weight: bold\"> Total params: </span><span style=\"color: #00af00; text-decoration-color: #00af00\">184,422,913</span> (703.52 MB)\n",
              "</pre>\n"
            ]
          },
          "metadata": {}
        },
        {
          "output_type": "display_data",
          "data": {
            "text/plain": [
              "\u001b[1m Trainable params: \u001b[0m\u001b[38;5;34m184,422,913\u001b[0m (703.52 MB)\n"
            ],
            "text/html": [
              "<pre style=\"white-space:pre;overflow-x:auto;line-height:normal;font-family:Menlo,'DejaVu Sans Mono',consolas,'Courier New',monospace\"><span style=\"font-weight: bold\"> Trainable params: </span><span style=\"color: #00af00; text-decoration-color: #00af00\">184,422,913</span> (703.52 MB)\n",
              "</pre>\n"
            ]
          },
          "metadata": {}
        },
        {
          "output_type": "display_data",
          "data": {
            "text/plain": [
              "\u001b[1m Non-trainable params: \u001b[0m\u001b[38;5;34m0\u001b[0m (0.00 B)\n"
            ],
            "text/html": [
              "<pre style=\"white-space:pre;overflow-x:auto;line-height:normal;font-family:Menlo,'DejaVu Sans Mono',consolas,'Courier New',monospace\"><span style=\"font-weight: bold\"> Non-trainable params: </span><span style=\"color: #00af00; text-decoration-color: #00af00\">0</span> (0.00 B)\n",
              "</pre>\n"
            ]
          },
          "metadata": {}
        }
      ]
    },
    {
      "cell_type": "markdown",
      "source": [
        "### Training"
      ],
      "metadata": {
        "id": "4dB1mRNY48TJ"
      }
    },
    {
      "cell_type": "code",
      "source": [
        "for fold in CFG.selected_folds:\n",
        "\n",
        "  if CFG.wandb:\n",
        "    run = wandb_init(fold)\n",
        "\n",
        "  (train_ds, train_df), (valid_ds, valid_df) = get_datasets(fold)\n",
        "\n",
        "  callbacks = get_callbacks(fold)\n",
        "\n",
        "  print('#' * 50)\n",
        "  print(f'\\tFold: {fold + 1} | Model: {CFG.preset}\\n\\tBatch Size: {CFG.batch_size * CFG.replicas} | Scheduler: {CFG.scheduler}')\n",
        "  print(f'\\tNum Train: {len(train_df)} | Num Valid: {len(valid_df)}')\n",
        "  print('#' * 50)\n",
        "\n",
        "  K.clear_session()\n",
        "  with strategy.scope():\n",
        "    model = build_model()\n",
        "\n",
        "\n",
        "  history = model.fit(\n",
        "      train_ds,\n",
        "      validation_data=valid_ds,\n",
        "      epochs=CFG.epochs,\n",
        "      callbacks=callbacks,\n",
        "      steps_per_epoch=int(len(train_df) / CFG.batch_size / CFG.replicas),\n",
        "  )\n",
        "\n",
        "  best_epoch = np.argmax(model.history.history['val_auc'])\n",
        "  best_auc = model.history.history['val_auc'][best_epoch]\n",
        "  best_loss = model.history.history['val_loss'][best_epoch]\n",
        "\n",
        "  print(f'\\n{\"=\" * 17} FOLD {fold} RESULTS {\"=\" * 17}')\n",
        "  print(f'>>>> BEST Loss  : {best_loss:.3f}\\n>>>> BEST AUC   : {best_auc:.3f}\\n>>>> BEST Epoch : {best_epoch}')\n",
        "  print('=' * 50)\n",
        "\n",
        "  if CFG.wandb:\n",
        "    log_wandb()\n",
        "    wandb.run.finish()\n",
        "\n",
        "  print(\"\\n\\n\")"
      ],
      "metadata": {
        "colab": {
          "base_uri": "https://localhost:8080/",
          "height": 1000,
          "referenced_widgets": [
            "5881caebe31b432ea9a6b6e83a4158eb",
            "97534af4b36c4d3cb885a80d98ba1224",
            "abdad59429804d688290043856112262",
            "2bf350df9b9946febe67bb326f15ba5f",
            "7a359288466d40c0adb969aadcc96fa0",
            "1d6849430e15441bbca1ef61988e5361",
            "da3d72e2bdaa4bd5b954009b767baf55",
            "3ce10c622d6d411ea11e76e1a9efcc87",
            "90bb5f0655a74b04ad246af513a1f2ff",
            "5324d328bb8f4a478acf1b18ef654432",
            "514e0d6c3c2540dc88bcd438bfeb50d2",
            "d8756ca2bb4d43ef90bacc50ae3d4679",
            "4185bb11e5054fa9bbe3547d6b332a42",
            "fbb3081e50fe402b9288d7ca99f8fcb1",
            "f8f9f1671002400bb513c3bff6c146e0",
            "1f62ab8c968a4f3e9f24107f5ee7079d"
          ]
        },
        "id": "3uUGMSh947Og",
        "outputId": "54c8b2d9-35ce-41c4-9466-591ec25809ba"
      },
      "execution_count": 52,
      "outputs": [
        {
          "output_type": "stream",
          "name": "stderr",
          "text": [
            "\u001b[34m\u001b[1mwandb\u001b[0m: Currently logged in as: \u001b[33manony-moose-977766824028876109\u001b[0m. Use \u001b[1m`wandb login --relogin`\u001b[0m to force relogin\n"
          ]
        },
        {
          "output_type": "display_data",
          "data": {
            "text/plain": [
              "<IPython.core.display.HTML object>"
            ],
            "text/html": [
              "Tracking run with wandb version 0.17.0"
            ]
          },
          "metadata": {}
        },
        {
          "output_type": "display_data",
          "data": {
            "text/plain": [
              "<IPython.core.display.HTML object>"
            ],
            "text/html": [
              "Run data is saved locally in <code>/content/wandb/run-20240603_212355-zw0el18h</code>"
            ]
          },
          "metadata": {}
        },
        {
          "output_type": "display_data",
          "data": {
            "text/plain": [
              "<IPython.core.display.HTML object>"
            ],
            "text/html": [
              "Syncing run <strong><a href='https://wandb.ai/anony-moose-977766824028876109/llm-fake-text/runs/zw0el18h?apiKey=dc200c7881b4e39c74ef40cecd2216490f12a44e' target=\"_blank\">fold-0|max_seq-200|model-deberta_v3_base_en</a></strong> to <a href='https://wandb.ai/anony-moose-977766824028876109/llm-fake-text?apiKey=dc200c7881b4e39c74ef40cecd2216490f12a44e' target=\"_blank\">Weights & Biases</a> (<a href='https://wandb.me/run' target=\"_blank\">docs</a>)<br/>"
            ]
          },
          "metadata": {}
        },
        {
          "output_type": "display_data",
          "data": {
            "text/plain": [
              "<IPython.core.display.HTML object>"
            ],
            "text/html": [
              " View project at <a href='https://wandb.ai/anony-moose-977766824028876109/llm-fake-text?apiKey=dc200c7881b4e39c74ef40cecd2216490f12a44e' target=\"_blank\">https://wandb.ai/anony-moose-977766824028876109/llm-fake-text?apiKey=dc200c7881b4e39c74ef40cecd2216490f12a44e</a>"
            ]
          },
          "metadata": {}
        },
        {
          "output_type": "display_data",
          "data": {
            "text/plain": [
              "<IPython.core.display.HTML object>"
            ],
            "text/html": [
              " View run at <a href='https://wandb.ai/anony-moose-977766824028876109/llm-fake-text/runs/zw0el18h?apiKey=dc200c7881b4e39c74ef40cecd2216490f12a44e' target=\"_blank\">https://wandb.ai/anony-moose-977766824028876109/llm-fake-text/runs/zw0el18h?apiKey=dc200c7881b4e39c74ef40cecd2216490f12a44e</a>"
            ]
          },
          "metadata": {}
        },
        {
          "output_type": "display_data",
          "data": {
            "text/plain": [
              "<IPython.core.display.HTML object>"
            ],
            "text/html": [
              "Do NOT share these links with anyone. They can be used to claim your runs."
            ]
          },
          "metadata": {}
        },
        {
          "output_type": "stream",
          "name": "stdout",
          "text": [
            "##################################################\n",
            "\tFold: 1 | Model: deberta_v3_base_en\n",
            "\tBatch Size: 3 | Scheduler: cosine\n",
            "\tNum Train: 22568 | Num Valid: 5642\n",
            "##################################################\n",
            "Epoch 1/3\n",
            "\u001b[1m7522/7522\u001b[0m \u001b[32m━━━━━━━━━━━━━━━━━━━━\u001b[0m\u001b[37m\u001b[0m \u001b[1m0s\u001b[0m 174ms/step - auc: 0.9438 - loss: 0.2593"
          ]
        },
        {
          "output_type": "stream",
          "name": "stderr",
          "text": [
            "\u001b[34m\u001b[1mwandb\u001b[0m: \u001b[32m\u001b[41mERROR\u001b[0m Unable to log learning rate.\n"
          ]
        },
        {
          "output_type": "stream",
          "name": "stdout",
          "text": [
            "\b\b\b\b\b\b\b\b\b\b\b\b\b\b\b\b\b\b\b\b\b\b\b\b\b\b\b\b\b\b\b\b\b\b\b\b\b\b\b\b\b\b\b\b\b\b\b\b\b\b\b\b\b\b\b\b\b\b\b\b\b\b\b\b\b\b\b\b\b\b\b\b\b\r\u001b[1m7522/7522\u001b[0m \u001b[32m━━━━━━━━━━━━━━━━━━━━\u001b[0m\u001b[37m\u001b[0m \u001b[1m1491s\u001b[0m 198ms/step - auc: 0.9439 - loss: 0.2593 - val_auc: 0.9979 - val_loss: 0.1154 - learning_rate: 6.0000e-07\n",
            "Epoch 2/3\n",
            "\u001b[1m7522/7522\u001b[0m \u001b[32m━━━━━━━━━━━━━━━━━━━━\u001b[0m\u001b[37m\u001b[0m \u001b[1m1497s\u001b[0m 199ms/step - auc: 0.9981 - loss: 0.0797 - val_auc: 0.9985 - val_loss: 0.0992 - learning_rate: 1.5000e-06\n",
            "Epoch 3/3\n",
            "\u001b[1m7522/7522\u001b[0m \u001b[32m━━━━━━━━━━━━━━━━━━━━\u001b[0m\u001b[37m\u001b[0m \u001b[1m1498s\u001b[0m 199ms/step - auc: 0.9990 - loss: 0.0689 - val_auc: 0.9967 - val_loss: 0.1224 - learning_rate: 1.4796e-06\n",
            "\n",
            "================= FOLD 0 RESULTS =================\n",
            ">>>> BEST Loss  : 0.099\n",
            ">>>> BEST AUC   : 0.999\n",
            ">>>> BEST Epoch : 1\n",
            "==================================================\n"
          ]
        },
        {
          "output_type": "stream",
          "name": "stderr",
          "text": [
            "\u001b[34m\u001b[1mwandb\u001b[0m: \u001b[33mWARNING\u001b[0m Artifacts logged anonymously cannot be claimed and expire after 7 days.\n"
          ]
        },
        {
          "output_type": "display_data",
          "data": {
            "text/plain": [
              "VBox(children=(Label(value='0.269 MB of 0.269 MB uploaded\\r'), FloatProgress(value=1.0, max=1.0)))"
            ],
            "application/vnd.jupyter.widget-view+json": {
              "version_major": 2,
              "version_minor": 0,
              "model_id": "5881caebe31b432ea9a6b6e83a4158eb"
            }
          },
          "metadata": {}
        },
        {
          "output_type": "display_data",
          "data": {
            "text/plain": [
              "<IPython.core.display.HTML object>"
            ],
            "text/html": [
              "<style>\n",
              "    table.wandb td:nth-child(1) { padding: 0 10px; text-align: left ; width: auto;} td:nth-child(2) {text-align: left ; width: 100%}\n",
              "    .wandb-row { display: flex; flex-direction: row; flex-wrap: wrap; justify-content: flex-start; width: 100% }\n",
              "    .wandb-col { display: flex; flex-direction: column; flex-basis: 100%; flex: 1; padding: 10px; }\n",
              "    </style>\n",
              "<div class=\"wandb-row\"><div class=\"wandb-col\"><h3>Run history:</h3><br/><table class=\"wandb\"><tr><td>best_auc</td><td>▁</td></tr><tr><td>best_epoch</td><td>▁</td></tr><tr><td>best_loss</td><td>▁</td></tr><tr><td>epoch/auc</td><td>▁▇█</td></tr><tr><td>epoch/epoch</td><td>▁▅█</td></tr><tr><td>epoch/learning_rate</td><td>▁██</td></tr><tr><td>epoch/loss</td><td>█▂▁</td></tr><tr><td>epoch/val_auc</td><td>▆█▁</td></tr><tr><td>epoch/val_loss</td><td>▆▁█</td></tr></table><br/></div><div class=\"wandb-col\"><h3>Run summary:</h3><br/><table class=\"wandb\"><tr><td>best_auc</td><td>0.99854</td></tr><tr><td>best_epoch</td><td>1</td></tr><tr><td>best_loss</td><td>0.09918</td></tr><tr><td>epoch/auc</td><td>0.99902</td></tr><tr><td>epoch/epoch</td><td>2</td></tr><tr><td>epoch/learning_rate</td><td>0.0</td></tr><tr><td>epoch/loss</td><td>0.06933</td></tr><tr><td>epoch/val_auc</td><td>0.99666</td></tr><tr><td>epoch/val_loss</td><td>0.12237</td></tr></table><br/></div></div>"
            ]
          },
          "metadata": {}
        },
        {
          "output_type": "display_data",
          "data": {
            "text/plain": [
              "<IPython.core.display.HTML object>"
            ],
            "text/html": [
              " View run <strong style=\"color:#cdcd00\">fold-0|max_seq-200|model-deberta_v3_base_en</strong> at: <a href='https://wandb.ai/anony-moose-977766824028876109/llm-fake-text/runs/zw0el18h?apiKey=dc200c7881b4e39c74ef40cecd2216490f12a44e' target=\"_blank\">https://wandb.ai/anony-moose-977766824028876109/llm-fake-text/runs/zw0el18h?apiKey=dc200c7881b4e39c74ef40cecd2216490f12a44e</a><br/> View project at: <a href='https://wandb.ai/anony-moose-977766824028876109/llm-fake-text?apiKey=dc200c7881b4e39c74ef40cecd2216490f12a44e' target=\"_blank\">https://wandb.ai/anony-moose-977766824028876109/llm-fake-text?apiKey=dc200c7881b4e39c74ef40cecd2216490f12a44e</a><br/>Synced 5 W&B file(s), 0 media file(s), 4 artifact file(s) and 1 other file(s)"
            ]
          },
          "metadata": {}
        },
        {
          "output_type": "display_data",
          "data": {
            "text/plain": [
              "<IPython.core.display.HTML object>"
            ],
            "text/html": [
              "Find logs at: <code>./wandb/run-20240603_212355-zw0el18h/logs</code>"
            ]
          },
          "metadata": {}
        },
        {
          "output_type": "stream",
          "name": "stdout",
          "text": [
            "\n",
            "\n",
            "\n"
          ]
        },
        {
          "output_type": "display_data",
          "data": {
            "text/plain": [
              "<IPython.core.display.HTML object>"
            ],
            "text/html": [
              "Tracking run with wandb version 0.17.0"
            ]
          },
          "metadata": {}
        },
        {
          "output_type": "display_data",
          "data": {
            "text/plain": [
              "<IPython.core.display.HTML object>"
            ],
            "text/html": [
              "Run data is saved locally in <code>/content/wandb/run-20240603_223918-iymmtcqq</code>"
            ]
          },
          "metadata": {}
        },
        {
          "output_type": "display_data",
          "data": {
            "text/plain": [
              "<IPython.core.display.HTML object>"
            ],
            "text/html": [
              "Syncing run <strong><a href='https://wandb.ai/anony-moose-977766824028876109/llm-fake-text/runs/iymmtcqq?apiKey=dc200c7881b4e39c74ef40cecd2216490f12a44e' target=\"_blank\">fold-1|max_seq-200|model-deberta_v3_base_en</a></strong> to <a href='https://wandb.ai/anony-moose-977766824028876109/llm-fake-text?apiKey=dc200c7881b4e39c74ef40cecd2216490f12a44e' target=\"_blank\">Weights & Biases</a> (<a href='https://wandb.me/run' target=\"_blank\">docs</a>)<br/>"
            ]
          },
          "metadata": {}
        },
        {
          "output_type": "display_data",
          "data": {
            "text/plain": [
              "<IPython.core.display.HTML object>"
            ],
            "text/html": [
              " View project at <a href='https://wandb.ai/anony-moose-977766824028876109/llm-fake-text?apiKey=dc200c7881b4e39c74ef40cecd2216490f12a44e' target=\"_blank\">https://wandb.ai/anony-moose-977766824028876109/llm-fake-text?apiKey=dc200c7881b4e39c74ef40cecd2216490f12a44e</a>"
            ]
          },
          "metadata": {}
        },
        {
          "output_type": "display_data",
          "data": {
            "text/plain": [
              "<IPython.core.display.HTML object>"
            ],
            "text/html": [
              " View run at <a href='https://wandb.ai/anony-moose-977766824028876109/llm-fake-text/runs/iymmtcqq?apiKey=dc200c7881b4e39c74ef40cecd2216490f12a44e' target=\"_blank\">https://wandb.ai/anony-moose-977766824028876109/llm-fake-text/runs/iymmtcqq?apiKey=dc200c7881b4e39c74ef40cecd2216490f12a44e</a>"
            ]
          },
          "metadata": {}
        },
        {
          "output_type": "display_data",
          "data": {
            "text/plain": [
              "<IPython.core.display.HTML object>"
            ],
            "text/html": [
              "Do NOT share these links with anyone. They can be used to claim your runs."
            ]
          },
          "metadata": {}
        },
        {
          "output_type": "stream",
          "name": "stdout",
          "text": [
            "##################################################\n",
            "\tFold: 2 | Model: deberta_v3_base_en\n",
            "\tBatch Size: 3 | Scheduler: cosine\n",
            "\tNum Train: 22568 | Num Valid: 5642\n",
            "##################################################\n",
            "Epoch 1/3\n",
            "\u001b[1m7522/7522\u001b[0m \u001b[32m━━━━━━━━━━━━━━━━━━━━\u001b[0m\u001b[37m\u001b[0m \u001b[1m1505s\u001b[0m 200ms/step - auc: 0.9451 - loss: 0.2722 - val_auc: 0.9977 - val_loss: 0.1103 - learning_rate: 6.0000e-07\n",
            "Epoch 2/3\n",
            "\u001b[1m7522/7522\u001b[0m \u001b[32m━━━━━━━━━━━━━━━━━━━━\u001b[0m\u001b[37m\u001b[0m \u001b[1m1505s\u001b[0m 200ms/step - auc: 0.9980 - loss: 0.0831 - val_auc: 0.9993 - val_loss: 0.0859 - learning_rate: 1.5000e-06\n",
            "Epoch 3/3\n",
            "\u001b[1m7522/7522\u001b[0m \u001b[32m━━━━━━━━━━━━━━━━━━━━\u001b[0m\u001b[37m\u001b[0m \u001b[1m1493s\u001b[0m 199ms/step - auc: 0.9989 - loss: 0.0733 - val_auc: 0.9978 - val_loss: 0.0967 - learning_rate: 1.4796e-06\n",
            "\n",
            "================= FOLD 1 RESULTS =================\n",
            ">>>> BEST Loss  : 0.086\n",
            ">>>> BEST AUC   : 0.999\n",
            ">>>> BEST Epoch : 1\n",
            "==================================================\n"
          ]
        },
        {
          "output_type": "stream",
          "name": "stderr",
          "text": [
            "\u001b[34m\u001b[1mwandb\u001b[0m: \u001b[33mWARNING\u001b[0m Artifacts logged anonymously cannot be claimed and expire after 7 days.\n"
          ]
        },
        {
          "output_type": "display_data",
          "data": {
            "text/plain": [
              "VBox(children=(Label(value='0.283 MB of 0.283 MB uploaded\\r'), FloatProgress(value=1.0, max=1.0)))"
            ],
            "application/vnd.jupyter.widget-view+json": {
              "version_major": 2,
              "version_minor": 0,
              "model_id": "90bb5f0655a74b04ad246af513a1f2ff"
            }
          },
          "metadata": {}
        },
        {
          "output_type": "display_data",
          "data": {
            "text/plain": [
              "<IPython.core.display.HTML object>"
            ],
            "text/html": [
              "W&B sync reduced upload amount by 2.6%             "
            ]
          },
          "metadata": {}
        },
        {
          "output_type": "display_data",
          "data": {
            "text/plain": [
              "<IPython.core.display.HTML object>"
            ],
            "text/html": [
              "<style>\n",
              "    table.wandb td:nth-child(1) { padding: 0 10px; text-align: left ; width: auto;} td:nth-child(2) {text-align: left ; width: 100%}\n",
              "    .wandb-row { display: flex; flex-direction: row; flex-wrap: wrap; justify-content: flex-start; width: 100% }\n",
              "    .wandb-col { display: flex; flex-direction: column; flex-basis: 100%; flex: 1; padding: 10px; }\n",
              "    </style>\n",
              "<div class=\"wandb-row\"><div class=\"wandb-col\"><h3>Run history:</h3><br/><table class=\"wandb\"><tr><td>best_auc</td><td>▁</td></tr><tr><td>best_epoch</td><td>▁</td></tr><tr><td>best_loss</td><td>▁</td></tr><tr><td>epoch/auc</td><td>▁▇█</td></tr><tr><td>epoch/epoch</td><td>▁▅█</td></tr><tr><td>epoch/learning_rate</td><td>▁██</td></tr><tr><td>epoch/loss</td><td>█▂▁</td></tr><tr><td>epoch/val_auc</td><td>▁█▂</td></tr><tr><td>epoch/val_loss</td><td>█▁▄</td></tr></table><br/></div><div class=\"wandb-col\"><h3>Run summary:</h3><br/><table class=\"wandb\"><tr><td>best_auc</td><td>0.99926</td></tr><tr><td>best_epoch</td><td>1</td></tr><tr><td>best_loss</td><td>0.08589</td></tr><tr><td>epoch/auc</td><td>0.99883</td></tr><tr><td>epoch/epoch</td><td>2</td></tr><tr><td>epoch/learning_rate</td><td>0.0</td></tr><tr><td>epoch/loss</td><td>0.0708</td></tr><tr><td>epoch/val_auc</td><td>0.99784</td></tr><tr><td>epoch/val_loss</td><td>0.09669</td></tr></table><br/></div></div>"
            ]
          },
          "metadata": {}
        },
        {
          "output_type": "display_data",
          "data": {
            "text/plain": [
              "<IPython.core.display.HTML object>"
            ],
            "text/html": [
              " View run <strong style=\"color:#cdcd00\">fold-1|max_seq-200|model-deberta_v3_base_en</strong> at: <a href='https://wandb.ai/anony-moose-977766824028876109/llm-fake-text/runs/iymmtcqq?apiKey=dc200c7881b4e39c74ef40cecd2216490f12a44e' target=\"_blank\">https://wandb.ai/anony-moose-977766824028876109/llm-fake-text/runs/iymmtcqq?apiKey=dc200c7881b4e39c74ef40cecd2216490f12a44e</a><br/> View project at: <a href='https://wandb.ai/anony-moose-977766824028876109/llm-fake-text?apiKey=dc200c7881b4e39c74ef40cecd2216490f12a44e' target=\"_blank\">https://wandb.ai/anony-moose-977766824028876109/llm-fake-text?apiKey=dc200c7881b4e39c74ef40cecd2216490f12a44e</a><br/>Synced 5 W&B file(s), 0 media file(s), 4 artifact file(s) and 1 other file(s)"
            ]
          },
          "metadata": {}
        },
        {
          "output_type": "display_data",
          "data": {
            "text/plain": [
              "<IPython.core.display.HTML object>"
            ],
            "text/html": [
              "Find logs at: <code>./wandb/run-20240603_223918-iymmtcqq/logs</code>"
            ]
          },
          "metadata": {}
        },
        {
          "output_type": "stream",
          "name": "stdout",
          "text": [
            "\n",
            "\n",
            "\n"
          ]
        }
      ]
    },
    {
      "cell_type": "markdown",
      "source": [
        "### Predictions"
      ],
      "metadata": {
        "id": "JfnEH_IEDGnH"
      }
    },
    {
      "cell_type": "code",
      "source": [
        "predictions = model.predict(\n",
        "    valid_ds,\n",
        "    batch_size=min(CFG.batch_size * CFG.replicas * 2, len(valid_df)),\n",
        "    verbose=1\n",
        ")"
      ],
      "metadata": {
        "colab": {
          "base_uri": "https://localhost:8080/"
        },
        "id": "OS4c0sJdDIb9",
        "outputId": "0da7198f-91ad-43b5-ce08-96e56c313f68"
      },
      "execution_count": 53,
      "outputs": [
        {
          "output_type": "stream",
          "name": "stdout",
          "text": [
            "\u001b[1m1880/1880\u001b[0m \u001b[32m━━━━━━━━━━━━━━━━━━━━\u001b[0m\u001b[37m\u001b[0m \u001b[1m166s\u001b[0m 88ms/step\n"
          ]
        }
      ]
    },
    {
      "cell_type": "code",
      "source": [
        "pred_answers = (predictions > 0.5).astype(int).squeeze()\n",
        "true_answers = valid_df.label.values\n",
        "print(\"# Predictions\\n\")\n",
        "for i in range(20):\n",
        "    row = valid_df.iloc[i]\n",
        "    text  = row.text\n",
        "    pred_answer = CFG.label2name[pred_answers[i]]\n",
        "    true_answer = CFG.label2name[true_answers[i]]\n",
        "    print(f\"❓ Text {i+1}:\\n{text[:100]} .... {text[-100:]}\\n\")\n",
        "    print(f\"✅ True: {true_answer}\\n\")\n",
        "    print(f\"Predicted: {pred_answer}\\n\")\n",
        "    print(\"-\"*90, \"\\n\")"
      ],
      "metadata": {
        "colab": {
          "base_uri": "https://localhost:8080/"
        },
        "id": "nNhMAlLbDMdP",
        "outputId": "15960542-b038-4075-fe50-61487e15de4e"
      },
      "execution_count": 55,
      "outputs": [
        {
          "output_type": "stream",
          "name": "stdout",
          "text": [
            "# Predictions\n",
            "\n",
            "❓ Text 1:\n",
            "In recent years, there has been a lot of discussion about the impact of video games on behavior, spe .... ocial behavior. Retrieved from <https://www.sciencedirect.com/science/article/pii/S0193397316300151>\n",
            "\n",
            "✅ True: fake\n",
            "\n",
            "Predicted: fake\n",
            "\n",
            "------------------------------------------------------------------------------------------ \n",
            "\n",
            "❓ Text 2:\n",
            "As an eighth-grade student, I believe that completing high school earlier than the traditional age o .... ers to consider completing high school early and take advantage of all the benefits it has to offer.\n",
            "\n",
            "✅ True: fake\n",
            "\n",
            "Predicted: fake\n",
            "\n",
            "------------------------------------------------------------------------------------------ \n",
            "\n",
            "❓ Text 3:\n",
            "Seeking multiple opinions when making an important decision or looking for advice is almost always t .... iases. The consensus of multiple independent advisors is most likely to result in the wisest choice.\n",
            "\n",
            "✅ True: fake\n",
            "\n",
            "Predicted: fake\n",
            "\n",
            "------------------------------------------------------------------------------------------ \n",
            "\n",
            "❓ Text 4:\n",
            "Enthusiasm and motivation are two critical factors that drive success, even in the face of failure.  .... ositive attitude and a strong work ethic, individuals can overcome failure and achieve great things.\n",
            "\n",
            "✅ True: fake\n",
            "\n",
            "Predicted: fake\n",
            "\n",
            "------------------------------------------------------------------------------------------ \n",
            "\n",
            "❓ Text 5:\n",
            "Hey there! \n",
            "\n",
            "So, the whole school is talking about this whole online learning thing, and I gotta wri .... *\n",
            "\n",
            "But, like, here's the thing: some students might prefer taking online classes because:\n",
            "\n",
            "tissue em\n",
            "\n",
            "✅ True: fake\n",
            "\n",
            "Predicted: fake\n",
            "\n",
            "------------------------------------------------------------------------------------------ \n",
            "\n",
            "❓ Text 6:\n",
            " Technology has revolutionized the way people live and work, making it possible to complete many tas .... of technology far outweigh the limitations, and that it has had a positive impact on people's lives.\n",
            "\n",
            "✅ True: fake\n",
            "\n",
            "Predicted: fake\n",
            "\n",
            "------------------------------------------------------------------------------------------ \n",
            "\n",
            "❓ Text 7:\n",
            "i would want the electoral vote to be changed or to change the election by popular vote. Because the .... they should be voting for they should be able to directly vote for the president that they want.    \n",
            "\n",
            "✅ True: real\n",
            "\n",
            "Predicted: real\n",
            "\n",
            "------------------------------------------------------------------------------------------ \n",
            "\n",
            "❓ Text 8:\n",
            "Dear Senator,\n",
            "\n",
            "I am writing to you to argue in favor of keeping the Electoral College. There are man .... 't vote for a president, but a slate of electors who do.\n",
            "\n",
            "Sincerely, PROPER_NAME                    \n",
            "\n",
            "✅ True: real\n",
            "\n",
            "Predicted: real\n",
            "\n",
            "------------------------------------------------------------------------------------------ \n",
            "\n",
            "❓ Text 9:\n",
            " I think Churchill's statement holds true. If success comes too easily, it can be easy to take for g ....  once said, \"Success is not final, failure is not fatal: it is the courage to continue that counts.\"\n",
            "\n",
            "✅ True: fake\n",
            "\n",
            "Predicted: fake\n",
            "\n",
            "------------------------------------------------------------------------------------------ \n",
            "\n",
            "❓ Text 10:\n",
            "Dear whom it may concern,\n",
            "\n",
            "I do not believe we should be required to do community service. I do beli .... y much appreciate if you would take what I have to say into consideration.\n",
            "\n",
            "Sincerely,\n",
            "\n",
            "STUDENT_NAME\n",
            "\n",
            "✅ True: real\n",
            "\n",
            "Predicted: real\n",
            "\n",
            "------------------------------------------------------------------------------------------ \n",
            "\n",
            "❓ Text 11:\n",
            "Dear State Senator,\n",
            "\n",
            "I am writing to express my opinion on the Electoral College system. I believe t .... fair and important part of our democracy. Thank you for your consideration.\n",
            "\n",
            "Sincerely,\n",
            "\n",
            "[Your Name]\n",
            "\n",
            "✅ True: fake\n",
            "\n",
            "Predicted: fake\n",
            "\n",
            "------------------------------------------------------------------------------------------ \n",
            "\n",
            "❓ Text 12:\n",
            "Dear Principal,\n",
            "\n",
            "Community service offers an opportunity to kids and adults who feel they want to do ....  glad if we discussed the issue, hoping we have the same views, I hope you enjoyed the letter.      \n",
            "\n",
            "✅ True: real\n",
            "\n",
            "Predicted: real\n",
            "\n",
            "------------------------------------------------------------------------------------------ \n",
            "\n",
            "❓ Text 13:\n",
            "The process of the electing the president is a topic commonly debated upon. This topic must be caref .... ers have their voice heard but, it could also reduce the probability of a tie in the electoral vote.\n",
            "\n",
            "✅ True: real\n",
            "\n",
            "Predicted: real\n",
            "\n",
            "------------------------------------------------------------------------------------------ \n",
            "\n",
            "❓ Text 14:\n",
            " In the future, I aspire to achieve the goal of becoming a pharmacist. This career path aligns with  .... y, I believe that being a pharmacist would be a challenging and rewarding career that I would enjoy.\n",
            "\n",
            "✅ True: fake\n",
            "\n",
            "Predicted: fake\n",
            "\n",
            "------------------------------------------------------------------------------------------ \n",
            "\n",
            "❓ Text 15:\n",
            "\n",
            "Schools should allow students to design their own summer projects rather than having them be teache .... udent-designed summer work better accomplishes the aim of continuous learning outside the classroom.\n",
            "\n",
            "✅ True: fake\n",
            "\n",
            "Predicted: fake\n",
            "\n",
            "------------------------------------------------------------------------------------------ \n",
            "\n",
            "❓ Text 16:\n",
            "Dear principal,\n",
            "\n",
            "I think you not change the policy that students have to have a B average so that we .... ty only had C average students that's why the students need a say in this.\n",
            "\n",
            "Sincerely,\n",
            "\n",
            "STUDENT_NAME\n",
            "\n",
            "✅ True: real\n",
            "\n",
            "Predicted: real\n",
            "\n",
            "------------------------------------------------------------------------------------------ \n",
            "\n",
            "❓ Text 17:\n",
            "On a daily basis, advice is used by each citizen in the United States a countless number of times. W .... le lot easier, and a conclusion can be made that considers all of the advice that you have received.\n",
            "\n",
            "✅ True: real\n",
            "\n",
            "Predicted: real\n",
            "\n",
            "------------------------------------------------------------------------------------------ \n",
            "\n",
            "❓ Text 18:\n",
            "Since the dawn of the technological age, technology has vastly changed the way we live and communica .... ntinues to unlock more and more opportunities in our everyday lives that simply didn't exist before.\n",
            "\n",
            "✅ True: fake\n",
            "\n",
            "Predicted: fake\n",
            "\n",
            "------------------------------------------------------------------------------------------ \n",
            "\n",
            "❓ Text 19:\n",
            "Dear Principal,\n",
            "\n",
            "I write this letter to you because children are not suppose to perform community se .... unity service it take away to much time from important things like family, class work, and projects.\n",
            "\n",
            "✅ True: real\n",
            "\n",
            "Predicted: real\n",
            "\n",
            "------------------------------------------------------------------------------------------ \n",
            "\n",
            "❓ Text 20:\n",
            "The Electoral College is a process begun a long time ago due to the lack of educated and literate ci ....  we really need for our president, rather than leaving it to just a small group.                    \n",
            "\n",
            "✅ True: real\n",
            "\n",
            "Predicted: real\n",
            "\n",
            "------------------------------------------------------------------------------------------ \n",
            "\n"
          ]
        }
      ]
    },
    {
      "cell_type": "markdown",
      "source": [
        "### Reference\n"
      ],
      "metadata": {
        "id": "OKQBNVUiBfrL"
      }
    },
    {
      "cell_type": "markdown",
      "source": [
        "\n",
        "\n",
        "\n",
        "*   [KerasNLP](https://keras.io/api/keras_nlp/)\n",
        "*   [Triple Stratified KFold with TFRecords\n",
        "](https://www.kaggle.com/code/cdeotte/triple-stratified-kfold-with-tfrecords)\n",
        "*   [Detect Fake Text: KerasNLP [TF/Torch/JAX][Train]](https://www.kaggle.com/code/awsaf49/detect-fake-text-kerasnlp-tf-torch-jax-train)\n",
        "* [How to Fine-Tune BERT for Text Classification](https://wandb.ai/akshayuppal12/Finetune-BERT-Text-Classification/reports/How-to-Fine-Tune-BERT-for-Text-Classification--Vmlldzo4OTk4MzY?galleryTag=nlp)\n",
        "\n",
        "By Montassar Jaziri\n",
        "\n"
      ],
      "metadata": {
        "id": "VhFrW9giCP7i"
      }
    }
  ]
}